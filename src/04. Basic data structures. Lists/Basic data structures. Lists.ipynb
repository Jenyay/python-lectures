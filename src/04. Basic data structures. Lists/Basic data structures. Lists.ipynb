{
 "cells": [
  {
   "cell_type": "markdown",
   "id": "08667a46-23e6-4cee-b4c7-bb1f35651e02",
   "metadata": {},
   "source": [
    "## Списки"
   ]
  },
  {
   "cell_type": "code",
   "execution_count": 1,
   "id": "1038bd92",
   "metadata": {},
   "outputs": [
    {
     "name": "stdout",
     "output_type": "stream",
     "text": [
      "foo: [10, 20, 35, -5, 42, 16]\n",
      "type(foo): <class 'list'>\n",
      "bar: [10, 1.5, (5+2j), 'Строка']\n",
      "baz: []\n"
     ]
    }
   ],
   "source": [
    "foo = [10, 20, 35, -5, 42, 16]\n",
    "print(\"foo:\", foo)\n",
    "print(\"type(foo):\", type(foo))\n",
    "\n",
    "bar = [10, 1.5, 5+2j, 'Строка']\n",
    "print(\"bar:\", bar)\n",
    "\n",
    "baz = []\n",
    "print(\"baz:\", baz)"
   ]
  },
  {
   "cell_type": "code",
   "execution_count": 3,
   "id": "013b2a6a",
   "metadata": {},
   "outputs": [],
   "source": [
    "foo = [\n",
    "    \"Lorem ipsum\",\n",
    "    \"dolor sit amet\",\n",
    "    \"consectetur adipiscing elit\",\n",
    "    \"sed do eiusmod\",\n",
    "    \"tempor incididunt\",\n",
    "]"
   ]
  },
  {
   "cell_type": "code",
   "execution_count": 4,
   "id": "fa92f1f8",
   "metadata": {},
   "outputs": [],
   "source": [
    "# Здесь последнюю запятую рекомендуется убирать\n",
    "foo = [10, 20, 35, -5, 42, 16,]"
   ]
  },
  {
   "cell_type": "code",
   "execution_count": 2,
   "id": "8492e70d",
   "metadata": {},
   "outputs": [
    {
     "name": "stdout",
     "output_type": "stream",
     "text": [
      "foo: [10, 20, 35, -5, 42, 16]\n",
      "10\n",
      "20\n",
      "16\n",
      "42\n"
     ]
    }
   ],
   "source": [
    "foo = [10, 20, 35, -5, 42, 16]\n",
    "print(\"foo:\", foo)\n",
    "\n",
    "print(foo[0])\n",
    "print(foo[1])\n",
    "print(foo[-1])\n",
    "print(foo[-2])"
   ]
  },
  {
   "cell_type": "code",
   "execution_count": 3,
   "id": "452bffef",
   "metadata": {},
   "outputs": [
    {
     "name": "stdout",
     "output_type": "stream",
     "text": [
      "foo: [10, 20, 35, -5, 42, 16]\n",
      "foo: [10, 100, 35, -5, 200, 16]\n"
     ]
    }
   ],
   "source": [
    "foo = [10, 20, 35, -5, 42, 16]\n",
    "print(\"foo:\", foo)\n",
    "\n",
    "foo[1] = 100\n",
    "foo[-2] = 200\n",
    "print(\"foo:\", foo)"
   ]
  },
  {
   "cell_type": "code",
   "execution_count": 5,
   "id": "2267abb1",
   "metadata": {},
   "outputs": [
    {
     "name": "stdout",
     "output_type": "stream",
     "text": [
      "bar:  [20, 35, -5, 42, -16]\n",
      "baz:  [20, 35, -5, 42, -16]\n",
      "bam:  [20, 35, -5, 42, -16]\n"
     ]
    }
   ],
   "source": [
    "foo = [10, 20, 35, -5, 42, -16, 19, 91]\n",
    "bar = foo[1:6:1]\n",
    "bam = foo[1:6:]\n",
    "baz = foo[1:6]\n",
    "\n",
    "print(\"bar: \", bar)\n",
    "print(\"baz: \", baz)\n",
    "print(\"bam: \", bam)"
   ]
  },
  {
   "cell_type": "code",
   "execution_count": 9,
   "id": "b3b2db36",
   "metadata": {},
   "outputs": [
    {
     "name": "stdout",
     "output_type": "stream",
     "text": [
      "bar:  [35, 42]\n"
     ]
    }
   ],
   "source": [
    "foo = [10, 20, 35, -5, 42, -16, 19, 91]\n",
    "bar = foo[2:6:2]\n",
    "\n",
    "print(\"bar: \", bar)"
   ]
  },
  {
   "cell_type": "code",
   "execution_count": 10,
   "id": "5f9e55aa",
   "metadata": {},
   "outputs": [
    {
     "name": "stdout",
     "output_type": "stream",
     "text": [
      "bar:  [35, -5, 42, -16, 19]\n",
      "baz:  [42, -16]\n"
     ]
    }
   ],
   "source": [
    "foo = [10, 20, 35, -5, 42, -16, 19, 91]\n",
    "bar = foo[2:-1]\n",
    "baz = foo[-4:-2]\n",
    "\n",
    "print(\"bar: \", bar)\n",
    "print(\"baz: \", baz)"
   ]
  },
  {
   "cell_type": "code",
   "execution_count": 14,
   "id": "544b4347",
   "metadata": {},
   "outputs": [
    {
     "name": "stdout",
     "output_type": "stream",
     "text": [
      "bar:  [10, 20, 35, -5, 42, -16, 19, 91]\n",
      "baz:  [10, 20, 35, -5, 42, -16, 19, 91]\n",
      "bam:  [10, 20, 35, -5, 42, -16, 19, 91]\n",
      "baf:  [10, 20, 35, -5, 42, -16, 19, 91]\n"
     ]
    }
   ],
   "source": [
    "foo = [10, 20, 35, -5, 42, -16, 19, 91]\n",
    "bar = foo[0:len(foo):1]\n",
    "baz = foo[0:len(foo)]\n",
    "bam = foo[0:]\n",
    "baf = foo[:]\n",
    "\n",
    "print(\"bar: \", bar)\n",
    "print(\"baz: \", baz)\n",
    "print(\"bam: \", bam)\n",
    "print(\"baf: \", baf)"
   ]
  },
  {
   "cell_type": "code",
   "execution_count": 19,
   "id": "1728b751",
   "metadata": {},
   "outputs": [
    {
     "name": "stdout",
     "output_type": "stream",
     "text": [
      "bar:  [91, 19, -16, 42, -5, 35, 20, 10]\n",
      "baz:  [19, -16, 42, -5, 35, 20]\n",
      "bam:  [19, -16, 42, -5, 35, 20, 10]\n",
      "baf:  [19, 42]\n"
     ]
    }
   ],
   "source": [
    "foo = [10, 20, 35, -5, 42, -16, 19, 91]\n",
    "bar = foo[::-1]\n",
    "baz = foo[-2:0:-1]\n",
    "bam = foo[-2::-1]\n",
    "baf = foo[-2:2:-2]\n",
    "\n",
    "print(\"bar: \", bar)\n",
    "print(\"baz: \", baz)\n",
    "print(\"bam: \", bam)\n",
    "print(\"baf: \", baf)"
   ]
  },
  {
   "cell_type": "code",
   "execution_count": 21,
   "id": "b81ce3a3",
   "metadata": {},
   "outputs": [
    {
     "name": "stdout",
     "output_type": "stream",
     "text": [
      "foo:  [1000, 20, 35, -5, 42, -16, 19, 91]\n",
      "bar:  [1000, 20, 35, -5, 42, -16, 19, 91]\n"
     ]
    }
   ],
   "source": [
    "foo = [10, 20, 35, -5, 42, -16, 19, 91]\n",
    "bar = foo\n",
    "bar[0] = 1000\n",
    "\n",
    "print(\"foo: \", foo)\n",
    "print(\"bar: \", bar)"
   ]
  },
  {
   "cell_type": "code",
   "execution_count": 23,
   "id": "d7be5d45",
   "metadata": {},
   "outputs": [
    {
     "name": "stdout",
     "output_type": "stream",
     "text": [
      "foo:  array('i', [1000, 20, 35, -5, 42, -16, 19, 91])\n",
      "bar:  array('i', [1000, 20, 35, -5, 42, -16, 19, 91])\n"
     ]
    }
   ],
   "source": [
    "from array import array\n",
    "\n",
    "foo = array(\"i\", [10, 20, 35, -5, 42, -16, 19, 91])\n",
    "bar = foo\n",
    "bar[0] = 1000\n",
    "\n",
    "print(\"foo: \", foo)\n",
    "print(\"bar: \", bar)"
   ]
  },
  {
   "cell_type": "code",
   "execution_count": 24,
   "id": "890640ee",
   "metadata": {},
   "outputs": [
    {
     "name": "stdout",
     "output_type": "stream",
     "text": [
      "foo:  array('i', [10, 20, 35, -5, 42, -16, 19, 91])\n",
      "bar:  array('i', [1000, 20, 35, -5, 42, -16, 19, 91])\n"
     ]
    }
   ],
   "source": [
    "from array import array\n",
    "\n",
    "foo = array(\"i\", [10, 20, 35, -5, 42, -16, 19, 91])\n",
    "bar = foo[:]\n",
    "bar[0] = 1000\n",
    "\n",
    "print(\"foo: \", foo)\n",
    "print(\"bar: \", bar)"
   ]
  },
  {
   "cell_type": "code",
   "execution_count": 25,
   "id": "f628f413",
   "metadata": {},
   "outputs": [
    {
     "name": "stdout",
     "output_type": "stream",
     "text": [
      "foo:  [1000   20   35   -5   42  -16   19   91]\n",
      "bar:  [1000   20   35   -5   42  -16   19   91]\n"
     ]
    }
   ],
   "source": [
    "import numpy as np\n",
    "\n",
    "foo = np.array([10, 20, 35, -5, 42, -16, 19, 91])\n",
    "bar = foo[:]\n",
    "bar[0] = 1000\n",
    "\n",
    "print(\"foo: \", foo)\n",
    "print(\"bar: \", bar)"
   ]
  },
  {
   "cell_type": "code",
   "execution_count": 22,
   "id": "82345af3",
   "metadata": {},
   "outputs": [
    {
     "name": "stdout",
     "output_type": "stream",
     "text": [
      "foo:  [10, 20, 35, -5, 42, -16, 19, 91]\n",
      "bar:  [1000, 20, 35, -5, 42, -16, 19, 91]\n"
     ]
    }
   ],
   "source": [
    "foo = [10, 20, 35, -5, 42, -16, 19, 91]\n",
    "bar = foo[:]\n",
    "bar[0] = 1000\n",
    "\n",
    "print(\"foo: \", foo)\n",
    "print(\"bar: \", bar)"
   ]
  },
  {
   "cell_type": "code",
   "execution_count": 8,
   "id": "662d31f5",
   "metadata": {},
   "outputs": [
    {
     "name": "stdout",
     "output_type": "stream",
     "text": [
      "foo == bar: True\n",
      "foo == spam: True\n",
      "foo is bar: True\n",
      "foo is spam: False\n",
      "foo is not bar: False\n",
      "foo is not spam: True\n",
      "id(foo): 140569518826368\n",
      "id(bar): 140569518826368\n",
      "id(spam): 140569519074176\n"
     ]
    }
   ],
   "source": [
    "foo = [10, 20, 35, -5, 42, -16, 19, 91]\n",
    "bar = foo\n",
    "spam = [10, 20, 35, -5, 42, -16, 19, 91]\n",
    "\n",
    "print(\"foo == bar:\", foo == bar)\n",
    "print(\"foo == spam:\", foo == spam)\n",
    "\n",
    "print(\"foo is bar:\", foo is bar)\n",
    "print(\"foo is spam:\", foo is spam)\n",
    "\n",
    "print(\"foo is not bar:\", foo is not bar)\n",
    "print(\"foo is not spam:\", foo is not spam)\n",
    "\n",
    "print(\"id(foo):\", id(foo))\n",
    "print(\"id(bar):\", id(bar))\n",
    "print(\"id(spam):\", id(spam))"
   ]
  },
  {
   "cell_type": "code",
   "execution_count": 4,
   "id": "40f04a84",
   "metadata": {},
   "outputs": [
    {
     "name": "stdout",
     "output_type": "stream",
     "text": [
      "foo == bar: False\n"
     ]
    }
   ],
   "source": [
    "from array import array\n",
    "\n",
    "foo = [10, 20, 35, -5, 42, -16, 19, 91]\n",
    "bar = array(\"i\", foo)\n",
    "\n",
    "print(\"foo == bar:\", foo == bar)"
   ]
  },
  {
   "cell_type": "code",
   "execution_count": 1,
   "id": "95fd8614",
   "metadata": {},
   "outputs": [
    {
     "name": "stdout",
     "output_type": "stream",
     "text": [
      "foo is None: True\n",
      "bar is not None: True\n"
     ]
    }
   ],
   "source": [
    "foo = None\n",
    "bar = [1, 2, 3]\n",
    "\n",
    "print(\"foo is None:\", foo is None)\n",
    "print(\"bar is not None:\", bar is not None)"
   ]
  },
  {
   "cell_type": "code",
   "execution_count": 2,
   "id": "aadadfb4",
   "metadata": {},
   "outputs": [
    {
     "name": "stdout",
     "output_type": "stream",
     "text": [
      "True\n"
     ]
    }
   ],
   "source": [
    "foo = 10\n",
    "# Так писать не рекомендуется.\n",
    "# Нужно использовать оператор is not\n",
    "bar = not(foo is None)\n",
    "\n",
    "print(bar)"
   ]
  },
  {
   "cell_type": "code",
   "execution_count": 7,
   "id": "1a98093c",
   "metadata": {},
   "outputs": [
    {
     "name": "stdout",
     "output_type": "stream",
     "text": [
      "42 in foo: True\n",
      "50 not in foo: True\n",
      "60 in foo: False\n",
      "spam in foo: True\n"
     ]
    }
   ],
   "source": [
    "foo = [1, 2, -3, 42, [10, 20]]\n",
    "spam = [10, 20]\n",
    "\n",
    "print(\"42 in foo:\", 42 in foo)\n",
    "print(\"50 not in foo:\", 50 not in foo)\n",
    "print(\"60 in foo:\", 60 in foo)\n",
    "print(\"spam in foo:\", spam in foo)"
   ]
  },
  {
   "cell_type": "code",
   "execution_count": 11,
   "id": "5b2acc76",
   "metadata": {},
   "outputs": [
    {
     "name": "stdout",
     "output_type": "stream",
     "text": [
      "['__add__', '__class__', '__class_getitem__', '__contains__', '__delattr__', '__delitem__', '__dir__', '__doc__', '__eq__', '__format__', '__ge__', '__getattribute__', '__getitem__', '__getstate__', '__gt__', '__hash__', '__iadd__', '__imul__', '__init__', '__init_subclass__', '__iter__', '__le__', '__len__', '__lt__', '__mul__', '__ne__', '__new__', '__reduce__', '__reduce_ex__', '__repr__', '__reversed__', '__rmul__', '__setattr__', '__setitem__', '__sizeof__', '__str__', '__subclasshook__', 'append', 'clear', 'copy', 'count', 'extend', 'index', 'insert', 'pop', 'remove', 'reverse', 'sort']\n"
     ]
    }
   ],
   "source": [
    "print(dir(list))\n"
   ]
  },
  {
   "cell_type": "code",
   "execution_count": 12,
   "id": "75c2e4cc",
   "metadata": {},
   "outputs": [
    {
     "name": "stdout",
     "output_type": "stream",
     "text": [
      "['__add__', '__buffer__', '__class__', '__class_getitem__', '__contains__', '__copy__', '__deepcopy__', '__delattr__', '__delitem__', '__dir__', '__doc__', '__eq__', '__format__', '__ge__', '__getattribute__', '__getitem__', '__getstate__', '__gt__', '__hash__', '__iadd__', '__imul__', '__init__', '__init_subclass__', '__iter__', '__le__', '__len__', '__lt__', '__module__', '__mul__', '__ne__', '__new__', '__reduce__', '__reduce_ex__', '__release_buffer__', '__repr__', '__rmul__', '__setattr__', '__setitem__', '__sizeof__', '__str__', '__subclasshook__', 'append', 'buffer_info', 'byteswap', 'count', 'extend', 'frombytes', 'fromfile', 'fromlist', 'fromunicode', 'index', 'insert', 'itemsize', 'pop', 'remove', 'reverse', 'tobytes', 'tofile', 'tolist', 'tounicode', 'typecode']\n"
     ]
    }
   ],
   "source": [
    "from array import array\n",
    "print(dir(array))"
   ]
  },
  {
   "cell_type": "markdown",
   "id": "98e52786",
   "metadata": {},
   "source": [
    "### Interning"
   ]
  },
  {
   "cell_type": "code",
   "execution_count": 4,
   "id": "24aa7fa6",
   "metadata": {},
   "outputs": [
    {
     "name": "stdout",
     "output_type": "stream",
     "text": [
      "x: 0 ; y: 0\n",
      "x is y: True\n",
      "\n",
      "x: 256 ; y: 256\n",
      "x is y: True\n",
      "\n",
      "x: -5 ; y: -5\n",
      "x is y: True\n",
      "\n",
      "x: 257 ; y: 257\n",
      "x is y: False\n",
      "\n",
      "x: -6 ; y: -6\n",
      "x is y: False\n",
      "\n"
     ]
    }
   ],
   "source": [
    "x = 0\n",
    "y = 0\n",
    "print(\"x:\", x, \"; y:\", y)\n",
    "print(\"x is y:\", x is y)\n",
    "print()\n",
    "\n",
    "x = 256\n",
    "y = 256\n",
    "print(\"x:\", x, \"; y:\", y)\n",
    "print(\"x is y:\", x is y)\n",
    "print()\n",
    "\n",
    "x = -5\n",
    "y = -5\n",
    "print(\"x:\", x, \"; y:\", y)\n",
    "print(\"x is y:\", x is y)\n",
    "print()\n",
    "\n",
    "x = 257\n",
    "y = 257\n",
    "print(\"x:\", x, \"; y:\", y)\n",
    "print(\"x is y:\", x is y)\n",
    "print()\n",
    "\n",
    "x = -6\n",
    "y = -6\n",
    "print(\"x:\", x, \"; y:\", y)\n",
    "print(\"x is y:\", x is y)\n",
    "print()"
   ]
  },
  {
   "cell_type": "code",
   "execution_count": 5,
   "id": "97f73986",
   "metadata": {},
   "outputs": [
    {
     "name": "stdout",
     "output_type": "stream",
     "text": [
      "len(foo): 4096 ; len(bar): 4096\n",
      "foo == bar: True\n",
      "foo is bar: True\n",
      "\n",
      "len(foo): 4097 ; len(bar): 4097\n",
      "foo == bar: True\n",
      "foo is bar: False\n"
     ]
    }
   ],
   "source": [
    "foo = \"S\" * 4096\n",
    "bar = \"S\" * 4096\n",
    "print(\"len(foo):\", len(foo), \"; len(bar):\", len(bar))\n",
    "print(\"foo == bar:\", foo == bar)\n",
    "print(\"foo is bar:\", foo is bar)\n",
    "print()\n",
    "\n",
    "foo = \"S\" * 4097\n",
    "bar = \"S\" * 4097\n",
    "print(\"len(foo):\", len(foo), \"; len(bar):\", len(bar))\n",
    "print(\"foo == bar:\", foo == bar)\n",
    "print(\"foo is bar:\", foo is bar)"
   ]
  },
  {
   "cell_type": "code",
   "execution_count": 6,
   "id": "0b1b3a8d",
   "metadata": {},
   "outputs": [
    {
     "name": "stdout",
     "output_type": "stream",
     "text": [
      "len(foo): 20 ; len(bar): 20\n",
      "foo == bar: True\n",
      "foo is bar: False\n"
     ]
    }
   ],
   "source": [
    "n = 20\n",
    "foo = \"S\" * n\n",
    "bar = \"S\" * n\n",
    "print(\"len(foo):\", len(foo), \"; len(bar):\", len(bar))\n",
    "print(\"foo == bar:\", foo == bar)\n",
    "print(\"foo is bar:\", foo is bar)"
   ]
  },
  {
   "cell_type": "code",
   "execution_count": 7,
   "id": "56498e3c",
   "metadata": {},
   "outputs": [
    {
     "name": "stdout",
     "output_type": "stream",
     "text": [
      "foo == bar: True\n",
      "foo is bar: False\n"
     ]
    }
   ],
   "source": [
    "foo = \"formatted {}\".format(\"text\")\n",
    "bar = \"formatted {}\".format(\"text\")\n",
    "print(\"foo == bar:\", foo == bar)\n",
    "print(\"foo is bar:\", foo is bar)"
   ]
  },
  {
   "cell_type": "code",
   "execution_count": 8,
   "id": "41923ee3",
   "metadata": {},
   "outputs": [
    {
     "name": "stdout",
     "output_type": "stream",
     "text": [
      "len(foo): 5000 ; len(bar): 5000\n",
      "foo == bar: True\n",
      "foo is bar: True\n"
     ]
    }
   ],
   "source": [
    "import sys\n",
    "foo = sys.intern(\"S\" * 5000)\n",
    "bar = sys.intern(\"S\" * 5000)\n",
    "\n",
    "print(\"len(foo):\", len(foo), \"; len(bar):\", len(bar))\n",
    "print(\"foo == bar:\", foo == bar)\n",
    "print(\"foo is bar:\", foo is bar)"
   ]
  },
  {
   "cell_type": "code",
   "execution_count": 9,
   "id": "984865fa",
   "metadata": {},
   "outputs": [
    {
     "name": "stdout",
     "output_type": "stream",
     "text": [
      "len(foo): 5000 ; len(bar): 5000\n",
      "foo == bar: True\n",
      "foo is bar: False\n"
     ]
    }
   ],
   "source": [
    "import sys\n",
    "foo = sys.intern(\"S\" * 5000)\n",
    "bar = \"S\" * 5000\n",
    "\n",
    "print(\"len(foo):\", len(foo), \"; len(bar):\", len(bar))\n",
    "print(\"foo == bar:\", foo == bar)\n",
    "print(\"foo is bar:\", foo is bar)"
   ]
  },
  {
   "cell_type": "code",
   "execution_count": 10,
   "id": "e20b3cf1",
   "metadata": {},
   "outputs": [
    {
     "name": "stdout",
     "output_type": "stream",
     "text": [
      "foo == bar: True\n",
      "foo is bar: True\n"
     ]
    }
   ],
   "source": [
    "import sys\n",
    "\n",
    "foo = sys.intern(\"formatted {}\".format(\"text\"))\n",
    "bar = sys.intern(\"formatted {}\".format(\"text\"))\n",
    "print(\"foo == bar:\", foo == bar)\n",
    "print(\"foo is bar:\", foo is bar)"
   ]
  },
  {
   "cell_type": "code",
   "execution_count": 11,
   "id": "828e40f6",
   "metadata": {},
   "outputs": [
    {
     "name": "stdout",
     "output_type": "stream",
     "text": [
      "['__add__', '__class__', '__class_getitem__', '__contains__', '__delattr__', '__delitem__', '__dir__', '__doc__', '__eq__', '__format__', '__ge__', '__getattribute__', '__getitem__', '__getstate__', '__gt__', '__hash__', '__iadd__', '__imul__', '__init__', '__init_subclass__', '__iter__', '__le__', '__len__', '__lt__', '__mul__', '__ne__', '__new__', '__reduce__', '__reduce_ex__', '__repr__', '__reversed__', '__rmul__', '__setattr__', '__setitem__', '__sizeof__', '__str__', '__subclasshook__', 'append', 'clear', 'copy', 'count', 'extend', 'index', 'insert', 'pop', 'remove', 'reverse', 'sort']\n"
     ]
    }
   ],
   "source": [
    "print(dir(list))"
   ]
  },
  {
   "cell_type": "code",
   "execution_count": 12,
   "id": "c3db6f9b",
   "metadata": {},
   "outputs": [
    {
     "name": "stdout",
     "output_type": "stream",
     "text": [
      "foo: [10, 20, 35, -5, 42, 16, 100, 'text']\n"
     ]
    }
   ],
   "source": [
    "foo = [10, 20, 35, -5, 42, 16]\n",
    "foo.append(100)\n",
    "foo.append(\"text\")\n",
    "print(\"foo:\", foo)"
   ]
  },
  {
   "cell_type": "code",
   "execution_count": 13,
   "id": "89e9f234",
   "metadata": {},
   "outputs": [
    {
     "name": "stdout",
     "output_type": "stream",
     "text": [
      "foo: [10, 20, 35, -5, 42, 16, 100, 'text']\n"
     ]
    }
   ],
   "source": [
    "foo = [10, 20, 35, -5, 42, 16]\n",
    "foo.extend([100, \"text\"])\n",
    "print(\"foo:\", foo)"
   ]
  },
  {
   "cell_type": "code",
   "execution_count": 14,
   "id": "68fc831a",
   "metadata": {},
   "outputs": [
    {
     "name": "stdout",
     "output_type": "stream",
     "text": [
      "1) foo: [100, 10, 20, 35, -5, 42, 16]\n",
      "2) foo: [100, 10, 20, 'text', 35, -5, 42, 16]\n"
     ]
    }
   ],
   "source": [
    "foo = [10, 20, 35, -5, 42, 16]\n",
    "foo.insert(0, 100)\n",
    "print(\"1) foo:\", foo)\n",
    "\n",
    "foo.insert(3, \"text\")\n",
    "print(\"2) foo:\", foo)"
   ]
  },
  {
   "cell_type": "code",
   "execution_count": 15,
   "id": "8378d4bc",
   "metadata": {},
   "outputs": [
    {
     "name": "stdout",
     "output_type": "stream",
     "text": [
      "1) foo: [10, 20, 35, -5, 42, 42, 16]\n",
      "2) foo: [20, 35, -5, 42, 42, 16]\n"
     ]
    }
   ],
   "source": [
    "foo = [10, 20, 35, -5, 42, 42, 42, 16]\n",
    "foo.remove(42)\n",
    "print(\"1) foo:\", foo)\n",
    "\n",
    "foo.remove(10)\n",
    "print(\"2) foo:\", foo)"
   ]
  },
  {
   "cell_type": "code",
   "execution_count": 13,
   "id": "0e32ad06",
   "metadata": {},
   "outputs": [
    {
     "name": "stdout",
     "output_type": "stream",
     "text": [
      "foo: [10, 20, 35, -5, 42, 42, 16]\n"
     ]
    }
   ],
   "source": [
    "foo = [10, 20, 35, -5, 42, 42, 42, 16]\n",
    "foo.remove(42)\n",
    "print(\"foo:\", foo)"
   ]
  },
  {
   "cell_type": "code",
   "execution_count": 1,
   "id": "d705204d",
   "metadata": {},
   "outputs": [
    {
     "name": "stdout",
     "output_type": "stream",
     "text": [
      "foo: [10, 20, 35, -5, 16]\n"
     ]
    }
   ],
   "source": [
    "foo = [10, 20, 35, -5, 42, 42, 42, 16]\n",
    "removed_val = 42\n",
    "while removed_val in foo:\n",
    "    foo.remove(removed_val)\n",
    "    \n",
    "print(\"foo:\", foo)"
   ]
  },
  {
   "cell_type": "code",
   "execution_count": 16,
   "id": "f3a5662e",
   "metadata": {},
   "outputs": [],
   "source": [
    "foo = [10, 20, 35, -5, 42, 42, 42, 16]\n",
    "# foo.remove(1000)"
   ]
  },
  {
   "cell_type": "code",
   "execution_count": 17,
   "id": "4d69c19c",
   "metadata": {},
   "outputs": [
    {
     "name": "stdout",
     "output_type": "stream",
     "text": [
      "1) foo: [10, 20, -5, 42, 16, 50, 25]\n",
      "2) foo: [10, 20, -5, 42]\n",
      "3) foo: [-5, 42]\n"
     ]
    }
   ],
   "source": [
    "foo = [10, 20, 35, -5, 42, 16, 50, 25]\n",
    "n = 2\n",
    "foo = foo[:n] + foo[n + 1:]\n",
    "print(\"1) foo:\", foo)\n",
    "\n",
    "foo = foo[:-3]\n",
    "print(\"2) foo:\", foo)\n",
    "\n",
    "foo = foo[2:]\n",
    "print(\"3) foo:\", foo)"
   ]
  },
  {
   "cell_type": "code",
   "execution_count": 18,
   "id": "1b1ba908",
   "metadata": {},
   "outputs": [
    {
     "name": "stdout",
     "output_type": "stream",
     "text": [
      "1) foo: [10, 20, -5, 42, 16, 50, 25]\n",
      "2) foo: [10, 20, -5, 42]\n",
      "3) foo: [-5, 42]\n"
     ]
    }
   ],
   "source": [
    "foo = [10, 20, 35, -5, 42, 16, 50, 25]\n",
    "del foo[2]\n",
    "print(\"1) foo:\", foo)\n",
    "\n",
    "del foo[-3:]\n",
    "print(\"2) foo:\", foo)\n",
    "\n",
    "del foo[:2]\n",
    "print(\"3) foo:\", foo)"
   ]
  },
  {
   "cell_type": "code",
   "execution_count": 19,
   "metadata": {},
   "outputs": [
    {
     "name": "stdout",
     "output_type": "stream",
     "text": [
      "1) foo: [10, 20, -5, 42, 16] ; a: 35\n",
      "2) foo: [10, 20, -5, 42]     ; b: 16\n"
     ]
    }
   ],
   "source": [
    "foo = [10, 20, 35, -5, 42, 16]\n",
    "a = foo.pop(2)\n",
    "print(\"1) foo:\", foo, \"; a:\", a)\n",
    "\n",
    "b = foo.pop()\n",
    "print(\"2) foo:\", foo, \"    ; b:\", b)"
   ]
  },
  {
   "cell_type": "code",
   "execution_count": 20,
   "id": "de5af1e0",
   "metadata": {},
   "outputs": [
    {
     "name": "stdout",
     "output_type": "stream",
     "text": [
      "foo: []\n"
     ]
    }
   ],
   "source": [
    "foo = [10, 20, 35, -5, 42, 16]\n",
    "foo.clear()\n",
    "print(\"foo:\", foo)"
   ]
  },
  {
   "cell_type": "code",
   "execution_count": 2,
   "id": "0e907ad8",
   "metadata": {},
   "outputs": [
    {
     "name": "stdout",
     "output_type": "stream",
     "text": [
      "bar: []\n"
     ]
    }
   ],
   "source": [
    "foo = [10, 20, 35, -5, 42, 16]\n",
    "bar = foo\n",
    "foo.clear()\n",
    "print(\"bar:\", bar)"
   ]
  },
  {
   "cell_type": "code",
   "execution_count": 3,
   "id": "74486fee",
   "metadata": {},
   "outputs": [
    {
     "name": "stdout",
     "output_type": "stream",
     "text": [
      "bar: [10, 20, 35, -5, 42, 16]\n"
     ]
    }
   ],
   "source": [
    "foo = [10, 20, 35, -5, 42, 16]\n",
    "bar = foo\n",
    "foo = []\n",
    "print(\"bar:\", bar)"
   ]
  },
  {
   "cell_type": "code",
   "execution_count": 5,
   "id": "f266a449",
   "metadata": {},
   "outputs": [
    {
     "name": "stdout",
     "output_type": "stream",
     "text": [
      "index_1: 0\n",
      "index_2: 4\n"
     ]
    }
   ],
   "source": [
    "foo = [42, 20, 35, -5, 42, 16, 42, 20, 50, 42]\n",
    "n = 42\n",
    "index_1 = foo.index(n)\n",
    "index_2 = foo.index(n, index_1 + 1)\n",
    "\n",
    "print(\"index_1:\", index_1)\n",
    "print(\"index_2:\", index_2)"
   ]
  },
  {
   "cell_type": "code",
   "execution_count": 2,
   "id": "82f09c93",
   "metadata": {},
   "outputs": [
    {
     "name": "stdout",
     "output_type": "stream",
     "text": [
      "[0, 4, 6, 9]\n"
     ]
    }
   ],
   "source": [
    "foo = [42, 20, 35, -5, 42, 16, 42, 20, 50, 42]\n",
    "indexes = []\n",
    "n = 42\n",
    "next_index = 0\n",
    "while n in foo[next_index:]:\n",
    "    position = foo.index(n, next_index)\n",
    "    indexes.append(position)\n",
    "    next_index = position + 1\n",
    "    \n",
    "print(indexes)"
   ]
  },
  {
   "cell_type": "code",
   "execution_count": 6,
   "id": "1d556fbf",
   "metadata": {},
   "outputs": [
    {
     "name": "stdout",
     "output_type": "stream",
     "text": [
      "count_42: 4\n",
      "count_100: 0\n"
     ]
    }
   ],
   "source": [
    "foo = [42, 20, 35, -5, 42, 16, 42, 20, 50, 42]\n",
    "count_42 = foo.count(42)\n",
    "count_100 = foo.count(100)\n",
    "\n",
    "print(\"count_42:\", count_42)\n",
    "print(\"count_100:\", count_100)"
   ]
  },
  {
   "cell_type": "code",
   "execution_count": 7,
   "id": "737295af",
   "metadata": {},
   "outputs": [
    {
     "name": "stdout",
     "output_type": "stream",
     "text": [
      "[16, 42, -5, 35, 20, 10]\n"
     ]
    }
   ],
   "source": [
    "foo = [10, 20, 35, -5, 42, 16]\n",
    "foo.reverse()\n",
    "print(foo)"
   ]
  },
  {
   "cell_type": "code",
   "execution_count": 8,
   "id": "da37b246",
   "metadata": {},
   "outputs": [
    {
     "name": "stdout",
     "output_type": "stream",
     "text": [
      "[16, 42, -5, 35, 20, 10]\n"
     ]
    }
   ],
   "source": [
    "foo = [10, 20, 35, -5, 42, 16]\n",
    "foo = foo[::-1]\n",
    "print(foo)"
   ]
  },
  {
   "cell_type": "markdown",
   "id": "df4552af",
   "metadata": {},
   "source": [
    "## Оператор for"
   ]
  },
  {
   "cell_type": "code",
   "execution_count": 1,
   "id": "53fbe728",
   "metadata": {},
   "outputs": [
    {
     "name": "stdout",
     "output_type": "stream",
     "text": [
      "10 20 24 0 34 44 8 66 50 100 "
     ]
    }
   ],
   "source": [
    "items = [5, 10, 12, 0, 17, 22, 4, 33, 25, 50]\n",
    "for x in items:\n",
    "    print(x * 2, end=\" \")"
   ]
  },
  {
   "cell_type": "code",
   "execution_count": 8,
   "id": "13b11f01",
   "metadata": {},
   "outputs": [
    {
     "name": "stdout",
     "output_type": "stream",
     "text": [
      "Ошибка! В списке есть отрицательные числа.\n"
     ]
    }
   ],
   "source": [
    "from math import sqrt\n",
    "\n",
    "items = [25, 100, 4, 0, -9, 36]\n",
    "result = []\n",
    "for x in items:\n",
    "    if x < 0:\n",
    "        print(\"Ошибка! В списке есть отрицательные числа.\")\n",
    "        break\n",
    "    else:\n",
    "        result.append(sqrt(x))\n",
    "else:\n",
    "    print(\"result:\", result)"
   ]
  },
  {
   "cell_type": "code",
   "execution_count": 9,
   "id": "76549654",
   "metadata": {},
   "outputs": [
    {
     "name": "stdout",
     "output_type": "stream",
     "text": [
      "result: [5.0, 10.0, 2.0, 0.0, 6.0]\n"
     ]
    }
   ],
   "source": [
    "from math import sqrt\n",
    "\n",
    "items = [25, 100, 4, 0, -9, 36]\n",
    "result = []\n",
    "for x in items:\n",
    "    if x < 0:\n",
    "        continue\n",
    "    result.append(sqrt(x))\n",
    "print(\"result:\", result)"
   ]
  },
  {
   "cell_type": "code",
   "execution_count": 12,
   "id": "ab43f44d",
   "metadata": {},
   "outputs": [
    {
     "name": "stdout",
     "output_type": "stream",
     "text": [
      "10 20 24 0 34 44 8 66 50 100 \n",
      "x: 50\n"
     ]
    }
   ],
   "source": [
    "items = [5, 10, 12, 0, 17, 22, 4, 33, 25, 50]\n",
    "for x in items:\n",
    "    print(x * 2, end=\" \")\n",
    "    \n",
    "print()\n",
    "print(\"x:\", x)"
   ]
  },
  {
   "cell_type": "code",
   "execution_count": 13,
   "id": "f0234c44",
   "metadata": {},
   "outputs": [
    {
     "name": "stdout",
     "output_type": "stream",
     "text": [
      "\n",
      "x: 50\n"
     ]
    }
   ],
   "source": [
    "items = []\n",
    "for x in items:\n",
    "    print(x * 2, end=\" \")\n",
    "    \n",
    "print()\n",
    "# print(\"x:\", x)"
   ]
  },
  {
   "cell_type": "code",
   "execution_count": 14,
   "id": "1b7decb3",
   "metadata": {},
   "outputs": [
    {
     "name": "stdout",
     "output_type": "stream",
     "text": [
      "\n",
      "x: None\n"
     ]
    }
   ],
   "source": [
    "items = []\n",
    "x = None\n",
    "for x in items:\n",
    "    print(x * 2, end=\" \")\n",
    "    \n",
    "print()\n",
    "print(\"x:\", x)"
   ]
  },
  {
   "cell_type": "code",
   "execution_count": 1,
   "id": "cfe5ba30",
   "metadata": {},
   "outputs": [],
   "source": [
    "# items = [5, 10, 12]\n",
    "# for x in items:\n",
    "#     print(x * 2, end=\" \")\n",
    "#     items.append(x * 2)\n",
    "    \n",
    "# print(\"items:\", items)"
   ]
  },
  {
   "cell_type": "code",
   "execution_count": 7,
   "id": "01cea1e2",
   "metadata": {},
   "outputs": [
    {
     "name": "stdout",
     "output_type": "stream",
     "text": [
      "x + 2: 7 \n",
      "items: []\n"
     ]
    }
   ],
   "source": [
    "items = [5, 15, 25]\n",
    "for x in items:\n",
    "    print(\"x + 2:\", x + 2, end=\" \")\n",
    "    items.clear()\n",
    "\n",
    "print()    \n",
    "print(\"items:\", items)"
   ]
  },
  {
   "cell_type": "code",
   "execution_count": 24,
   "id": "3ca55adf",
   "metadata": {},
   "outputs": [
    {
     "name": "stdout",
     "output_type": "stream",
     "text": [
      "type(foo): <class 'range'>\n",
      "foo:       range(0, 10)\n",
      "\n",
      "type(bar)  <class 'list'>\n",
      "bar        [0, 1, 2, 3, 4, 5, 6, 7, 8, 9]\n"
     ]
    }
   ],
   "source": [
    "foo = range(10)\n",
    "print(\"type(foo):\", type(foo))\n",
    "print(\"foo:      \", foo)\n",
    "print()\n",
    "\n",
    "bar = list(foo)\n",
    "print(\"type(bar) \", type(bar))\n",
    "print(\"bar       \", bar)"
   ]
  },
  {
   "cell_type": "code",
   "execution_count": 25,
   "id": "c62336ba",
   "metadata": {},
   "outputs": [
    {
     "data": {
      "text/plain": [
       "['__bool__',\n",
       " '__class__',\n",
       " '__contains__',\n",
       " '__delattr__',\n",
       " '__dir__',\n",
       " '__doc__',\n",
       " '__eq__',\n",
       " '__format__',\n",
       " '__ge__',\n",
       " '__getattribute__',\n",
       " '__getitem__',\n",
       " '__getstate__',\n",
       " '__gt__',\n",
       " '__hash__',\n",
       " '__init__',\n",
       " '__init_subclass__',\n",
       " '__iter__',\n",
       " '__le__',\n",
       " '__len__',\n",
       " '__lt__',\n",
       " '__ne__',\n",
       " '__new__',\n",
       " '__reduce__',\n",
       " '__reduce_ex__',\n",
       " '__repr__',\n",
       " '__reversed__',\n",
       " '__setattr__',\n",
       " '__sizeof__',\n",
       " '__str__',\n",
       " '__subclasshook__',\n",
       " 'count',\n",
       " 'index',\n",
       " 'start',\n",
       " 'step',\n",
       " 'stop']"
      ]
     },
     "execution_count": 25,
     "metadata": {},
     "output_type": "execute_result"
    }
   ],
   "source": [
    "dir(range)"
   ]
  },
  {
   "cell_type": "code",
   "execution_count": 26,
   "id": "41f0f1f4",
   "metadata": {},
   "outputs": [
    {
     "name": "stdout",
     "output_type": "stream",
     "text": [
      "foo:   [2, 3, 4, 5, 6, 7, 8, 9]\n",
      "bar:   [2, 4, 6, 8]\n",
      "spam:  [10, 8, 6, 4]\n"
     ]
    }
   ],
   "source": [
    "foo = list(range(2, 10))\n",
    "print(\"foo:  \", foo)\n",
    "\n",
    "bar = list(range(2, 10, 2))\n",
    "print(\"bar:  \", bar)\n",
    "\n",
    "spam = list(range(10, 2, -2))\n",
    "print(\"spam: \", spam)"
   ]
  },
  {
   "cell_type": "code",
   "execution_count": 3,
   "id": "2bbee546",
   "metadata": {},
   "outputs": [
    {
     "name": "stdout",
     "output_type": "stream",
     "text": [
      "2 - простое число\n",
      "3 - простое число\n",
      "4 = 2 * 2\n",
      "5 - простое число\n",
      "6 = 2 * 3\n",
      "7 - простое число\n",
      "8 = 2 * 4\n",
      "9 = 3 * 3\n"
     ]
    }
   ],
   "source": [
    "for n in range(2, 10):\n",
    "    for x in range(2, n):\n",
    "        if n % x == 0:\n",
    "            print( n, '=', x, '*', n//x)\n",
    "            break\n",
    "    else:\n",
    "        print(n, '- простое число')"
   ]
  },
  {
   "cell_type": "code",
   "execution_count": 27,
   "id": "710b3e40",
   "metadata": {},
   "outputs": [
    {
     "name": "stdout",
     "output_type": "stream",
     "text": [
      "bar:  [110, 120, 135, 142, 151, 163]\n"
     ]
    }
   ],
   "source": [
    "foo = [10, 20, 35, 42, 51, 63]\n",
    "bar = []\n",
    "for x in foo:\n",
    "    bar.append(x + 100)\n",
    "    \n",
    "print(\"bar: \", bar)"
   ]
  },
  {
   "cell_type": "code",
   "execution_count": 8,
   "id": "d5ef443c",
   "metadata": {},
   "outputs": [
    {
     "name": "stdout",
     "output_type": "stream",
     "text": [
      "bar:  [110, 120, 135, 142, 151, 163]\n",
      "type(bar) <class 'list'>\n"
     ]
    }
   ],
   "source": [
    "foo = [10, 20, 35, 42, 51, 63]\n",
    "bar = [x + 100 for x in foo]\n",
    "print(\"bar: \", bar)\n",
    "print(\"type(bar)\", type(bar))"
   ]
  },
  {
   "cell_type": "code",
   "execution_count": 9,
   "id": "b9888970",
   "metadata": {},
   "outputs": [
    {
     "name": "stdout",
     "output_type": "stream",
     "text": [
      "bar:  <generator object <genexpr> at 0x7f4cec395b10>\n",
      "type(bar) <class 'generator'>\n"
     ]
    }
   ],
   "source": [
    "foo = [10, 20, 35, 42, 51, 63]\n",
    "bar = (x + 100 for x in foo)\n",
    "print(\"bar: \", bar)\n",
    "print(\"type(bar)\", type(bar))"
   ]
  },
  {
   "cell_type": "code",
   "execution_count": 11,
   "id": "83ac1190",
   "metadata": {},
   "outputs": [
    {
     "name": "stdout",
     "output_type": "stream",
     "text": [
      "bar: [5.0, 10.0, 2.0, 0.0, 6.0]\n"
     ]
    }
   ],
   "source": [
    "from math import sqrt\n",
    "\n",
    "foo = [25, 100, 4, 0, -9, 36]\n",
    "bar = []\n",
    "for x in foo:\n",
    "    if x >= 0:\n",
    "        bar.append(sqrt(x))\n",
    "\n",
    "print(\"bar:\", bar)"
   ]
  },
  {
   "cell_type": "code",
   "execution_count": 12,
   "id": "3bebeef8",
   "metadata": {},
   "outputs": [
    {
     "name": "stdout",
     "output_type": "stream",
     "text": [
      "bar:  [5.0, 10.0, 2.0, 0.0, 6.0]\n",
      "type(bar) <class 'list'>\n"
     ]
    }
   ],
   "source": [
    "from math import sqrt\n",
    "\n",
    "foo = [25, 100, 4, 0, -9, 36]\n",
    "bar = [sqrt(x) for x in foo if x >= 0]\n",
    "print(\"bar: \", bar)\n",
    "print(\"type(bar)\", type(bar))"
   ]
  },
  {
   "cell_type": "code",
   "execution_count": 29,
   "id": "f5f75470",
   "metadata": {},
   "outputs": [
    {
     "name": "stdout",
     "output_type": "stream",
     "text": [
      "bar:  [110, 120, 142]\n"
     ]
    }
   ],
   "source": [
    "foo = [10, 20, 35, 42, 51, 63]\n",
    "bar = []\n",
    "for x in foo:\n",
    "    if x % 2 == 0:\n",
    "        bar.append(x + 100)\n",
    "    \n",
    "print(\"bar: \", bar)"
   ]
  },
  {
   "cell_type": "code",
   "execution_count": 30,
   "id": "38ccf8fc",
   "metadata": {},
   "outputs": [
    {
     "name": "stdout",
     "output_type": "stream",
     "text": [
      "bar:  [110, 120, 142]\n"
     ]
    }
   ],
   "source": [
    "foo = [10, 20, 35, 42, 51, 63]\n",
    "bar = [x + 100 for x in foo if x % 2 == 0]\n",
    "print(\"bar: \", bar)"
   ]
  },
  {
   "cell_type": "code",
   "execution_count": 31,
   "id": "2170e01b",
   "metadata": {},
   "outputs": [
    {
     "name": "stdout",
     "output_type": "stream",
     "text": [
      "bar:  [110, 120, 142]\n"
     ]
    }
   ],
   "source": [
    "foo = [10, 20, 35, 42, 51, 63]\n",
    "bar = [x + 100 \n",
    "       for x in foo \n",
    "       if x % 2 == 0]\n",
    "print(\"bar: \", bar)"
   ]
  },
  {
   "cell_type": "code",
   "execution_count": 23,
   "id": "7f560dce",
   "metadata": {},
   "outputs": [
    {
     "name": "stdout",
     "output_type": "stream",
     "text": [
      "foo:  range(0, 10)\n",
      "bar:  range(2, 10)\n",
      "baz:  range(2, 10, 2)\n",
      "type(foo):  <class 'range'>\n",
      "\n",
      "foo_list: [0, 1, 2, 3, 4, 5, 6, 7, 8, 9]\n",
      "bar_list: [2, 3, 4, 5, 6, 7, 8, 9]\n",
      "baz_list: [2, 4, 6, 8]\n"
     ]
    }
   ],
   "source": [
    "foo = range(10)\n",
    "bar = range(2, 10)\n",
    "baz = range(2, 10, 2)\n",
    "\n",
    "print(\"foo: \", foo)\n",
    "print(\"bar: \", bar)\n",
    "print(\"baz: \", baz)\n",
    "print(\"type(foo): \", type(foo))\n",
    "\n",
    "foo_list = list(foo)\n",
    "bar_list = list(bar)\n",
    "baz_list = list(baz)\n",
    "\n",
    "print()\n",
    "print(\"foo_list:\", foo_list)\n",
    "print(\"bar_list:\", bar_list)\n",
    "print(\"baz_list:\", baz_list)"
   ]
  },
  {
   "cell_type": "code",
   "execution_count": 50,
   "id": "570db1a4",
   "metadata": {},
   "outputs": [
    {
     "name": "stdout",
     "output_type": "stream",
     "text": [
      "0 -> 5\n",
      "1 -> 10\n",
      "2 -> 12\n",
      "3 -> 0\n",
      "4 -> 17\n",
      "5 -> 22\n"
     ]
    }
   ],
   "source": [
    "# Так делать не надо!!!\n",
    "# Перебор с использованием индексов\n",
    "foo = [5, 10, 12, 0, 17, 22]\n",
    "for n in range(len(foo)):\n",
    "    print(n, \"->\", foo[n])"
   ]
  },
  {
   "cell_type": "code",
   "execution_count": 49,
   "id": "9bbde293",
   "metadata": {},
   "outputs": [
    {
     "name": "stdout",
     "output_type": "stream",
     "text": [
      "0 -> 5\n",
      "1 -> 10\n",
      "2 -> 12\n",
      "3 -> 0\n",
      "4 -> 17\n",
      "5 -> 22\n"
     ]
    }
   ],
   "source": [
    "foo = [5, 10, 12, 0, 17, 22]\n",
    "for n, item in enumerate(foo):\n",
    "    print(n, \"->\", item)"
   ]
  },
  {
   "cell_type": "code",
   "execution_count": 30,
   "id": "8cc96dfd",
   "metadata": {},
   "outputs": [
    {
     "name": "stdout",
     "output_type": "stream",
     "text": [
      "1) 5\n",
      "2) 10\n",
      "3) 12\n",
      "4) 0\n"
     ]
    }
   ],
   "source": [
    "foo = [5, 10, 12, 0]\n",
    "for n in range(len(foo)):\n",
    "    print(n + 1, \") \", foo[n], sep=\"\")"
   ]
  },
  {
   "cell_type": "code",
   "execution_count": 31,
   "id": "2b80f672",
   "metadata": {},
   "outputs": [
    {
     "name": "stdout",
     "output_type": "stream",
     "text": [
      "1) 5\n",
      "2) 10\n",
      "3) 12\n",
      "4) 0\n"
     ]
    }
   ],
   "source": [
    "foo = [5, 10, 12, 0]\n",
    "for n, item in enumerate(foo):\n",
    "    print(n + 1, \") \", item, sep=\"\")"
   ]
  },
  {
   "cell_type": "code",
   "execution_count": 32,
   "id": "a20b29e8",
   "metadata": {},
   "outputs": [
    {
     "name": "stdout",
     "output_type": "stream",
     "text": [
      "1) 5\n",
      "2) 10\n",
      "3) 12\n",
      "4) 0\n"
     ]
    }
   ],
   "source": [
    "foo = [5, 10, 12, 0]\n",
    "for n, item in enumerate(foo, 1):\n",
    "    print(n, \") \", item, sep=\"\")"
   ]
  },
  {
   "cell_type": "code",
   "execution_count": 34,
   "id": "1208357f",
   "metadata": {},
   "outputs": [
    {
     "name": "stdout",
     "output_type": "stream",
     "text": [
      "<class 'enumerate'>\n"
     ]
    }
   ],
   "source": [
    "foo = enumerate(range(10))\n",
    "print(type(foo))"
   ]
  },
  {
   "cell_type": "code",
   "execution_count": 24,
   "id": "6e36358a",
   "metadata": {},
   "outputs": [
    {
     "name": "stdout",
     "output_type": "stream",
     "text": [
      "Факториал равен 40320\n"
     ]
    }
   ],
   "source": [
    "n = 8\n",
    "factorial = 1\n",
    "for i in range(n + 1):\n",
    "    if i < 2:\n",
    "        continue\n",
    "    factorial *= i\n",
    "    \n",
    "print(\"Факториал равен\", factorial)"
   ]
  },
  {
   "cell_type": "code",
   "execution_count": 26,
   "id": "be114bc8",
   "metadata": {},
   "outputs": [
    {
     "name": "stdout",
     "output_type": "stream",
     "text": [
      "Факториал равен 1\n"
     ]
    }
   ],
   "source": [
    "n = 8\n",
    "factorial = 1\n",
    "for i in range(2, n + 1):\n",
    "    factorial *= i\n",
    "    \n",
    "print(\"Факториал равен\", factorial)"
   ]
  },
  {
   "cell_type": "code",
   "execution_count": 27,
   "id": "acdb8191",
   "metadata": {},
   "outputs": [
    {
     "name": "stdout",
     "output_type": "stream",
     "text": [
      "foo:  range(2, 0)\n",
      "foo_list: []\n"
     ]
    }
   ],
   "source": [
    "foo = range(2, 0)\n",
    "print(\"foo: \", foo)\n",
    "\n",
    "foo_list = list(foo)\n",
    "print(\"foo_list:\", foo_list)"
   ]
  },
  {
   "cell_type": "code",
   "execution_count": 5,
   "id": "0d44a767",
   "metadata": {},
   "outputs": [
    {
     "name": "stdout",
     "output_type": "stream",
     "text": [
      "40320\n"
     ]
    }
   ],
   "source": [
    "import math\n",
    "print(math.factorial(8))"
   ]
  },
  {
   "cell_type": "code",
   "execution_count": null,
   "id": "edcfa613",
   "metadata": {},
   "outputs": [],
   "source": [
    "x = 3\n",
    "n_max = 10\n",
    "sum = 0\n",
    "for n in range(n):\n",
    "    pass"
   ]
  },
  {
   "cell_type": "code",
   "execution_count": 36,
   "id": "58598d23",
   "metadata": {},
   "outputs": [
    {
     "name": "stdout",
     "output_type": "stream",
     "text": [
      "Расстояния:  [0.0, 3.0, 3.905124837953327, 2.958039891549808]\n"
     ]
    }
   ],
   "source": [
    "from math import sqrt\n",
    "\n",
    "x = [0.0, 1.0, 2.0, -0.5]\n",
    "y = [0.0, -2.0, 1.5, 2.5]\n",
    "z = [0.0, 2.0, -3.0, -1.5]\n",
    "\n",
    "dist = []\n",
    "for n in range(min(len(x), len(y), len(z))):\n",
    "    dist.append(sqrt(x[n]**2 + y[n]**2 + z[n]**2))\n",
    "print(\"Расстояния: \", dist)"
   ]
  },
  {
   "cell_type": "code",
   "execution_count": 37,
   "id": "6465f951",
   "metadata": {},
   "outputs": [
    {
     "name": "stdout",
     "output_type": "stream",
     "text": [
      "type(foo): <class 'zip'>\n",
      "foo_list: [(0.0, 0.0, 0.0), (1.0, -2.0, 2.0), (2.0, 1.5, -3.0), (-0.5, 2.5, -1.5)]\n"
     ]
    }
   ],
   "source": [
    "x = [0.0, 1.0, 2.0, -0.5]\n",
    "y = [0.0, -2.0, 1.5, 2.5]\n",
    "z = [0.0, 2.0, -3.0, -1.5]\n",
    "\n",
    "foo = zip(x, y, z)\n",
    "foo_list = list(foo)\n",
    "print(\"type(foo):\", type(foo))\n",
    "print(\"foo_list:\", foo_list)"
   ]
  },
  {
   "cell_type": "code",
   "execution_count": 38,
   "id": "4e1ad6bb",
   "metadata": {},
   "outputs": [
    {
     "name": "stdout",
     "output_type": "stream",
     "text": [
      "Расстояния:  [0.0, 3.0, 3.905124837953327, 2.958039891549808]\n"
     ]
    }
   ],
   "source": [
    "from math import sqrt\n",
    "\n",
    "x = [0.0, 1.0, 2.0, -0.5]\n",
    "y = [0.0, -2.0, 1.5, 2.5]\n",
    "z = [0.0, 2.0, -3.0, -1.5]\n",
    "\n",
    "dist = []\n",
    "for x_val, y_val, z_val in zip(x, y, z):\n",
    "    dist.append(sqrt(x_val**2 + y_val**2 + z_val**2))\n",
    "print(\"Расстояния: \", dist)"
   ]
  },
  {
   "cell_type": "code",
   "execution_count": 41,
   "id": "2c8a4aa4",
   "metadata": {},
   "outputs": [
    {
     "name": "stdout",
     "output_type": "stream",
     "text": [
      "Расстояния:  [0.0, 3.0, 3.905124837953327, 2.958039891549808]\n"
     ]
    }
   ],
   "source": [
    "from math import sqrt\n",
    "\n",
    "x = [0.0, 1.0, 2.0, -0.5]\n",
    "y = [0.0, -2.0, 1.5, 2.5]\n",
    "z = [0.0, 2.0, -3.0, -1.5]\n",
    "\n",
    "dist = []\n",
    "for coord in zip(x, y, z):\n",
    "    dist.append(sqrt(coord[0]**2 + coord[1]**2 + coord[2]**2))\n",
    "print(\"Расстояния: \", dist)"
   ]
  },
  {
   "cell_type": "code",
   "execution_count": 39,
   "id": "23b38cb6",
   "metadata": {},
   "outputs": [
    {
     "name": "stdout",
     "output_type": "stream",
     "text": [
      "Расстояния:  [0.0, 3.0, 3.905124837953327]\n"
     ]
    }
   ],
   "source": [
    "from math import sqrt\n",
    "\n",
    "x = [0.0, 1.0, 2.0]\n",
    "y = [0.0, -2.0, 1.5, 2.5]\n",
    "z = [0.0, 2.0, -3.0, -1.5]\n",
    "\n",
    "dist = []\n",
    "for x_val, y_val, z_val in zip(x, y, z):\n",
    "    dist.append(sqrt(x_val**2 + y_val**2 + z_val**2))\n",
    "print(\"Расстояния: \", dist)"
   ]
  },
  {
   "cell_type": "code",
   "execution_count": 43,
   "id": "77eb84d0",
   "metadata": {},
   "outputs": [
    {
     "name": "stdout",
     "output_type": "stream",
     "text": [
      "Расстояния:  [0.0, 3.0, 3.905124837953327, 2.958039891549808]\n"
     ]
    }
   ],
   "source": [
    "from math import sqrt\n",
    "\n",
    "x = [0.0, 1.0, 2.0, -0.5]\n",
    "y = [0.0, -2.0, 1.5, 2.5]\n",
    "z = [0.0, 2.0, -3.0, -1.5]\n",
    "\n",
    "dist = [sqrt(x_val**2 + y_val**2 + z_val**2)\n",
    "        for x_val, y_val, z_val\n",
    "        in zip(x, y, z)]\n",
    "\n",
    "print(\"Расстояния: \", dist)"
   ]
  },
  {
   "cell_type": "markdown",
   "id": "d58a8601",
   "metadata": {},
   "source": [
    "## Кортежи"
   ]
  },
  {
   "cell_type": "code",
   "execution_count": 35,
   "id": "9e8e2778",
   "metadata": {},
   "outputs": [
    {
     "name": "stdout",
     "output_type": "stream",
     "text": [
      "type(foo): <class 'tuple'>\n",
      "type(bar): <class 'tuple'>\n",
      "foo:       (5, 10, 12, 0)\n",
      "bar:       (5, 10, 12, 0)\n"
     ]
    }
   ],
   "source": [
    "foo = 5, 10, 12, 0\n",
    "bar = (5, 10, 12, 0)\n",
    "\n",
    "print(\"type(foo):\", type(foo))\n",
    "print(\"type(bar):\", type(bar))\n",
    "print(\"foo:      \", foo)\n",
    "print(\"bar:      \", bar)"
   ]
  },
  {
   "cell_type": "code",
   "execution_count": 36,
   "id": "93f8ef3d",
   "metadata": {},
   "outputs": [
    {
     "name": "stdout",
     "output_type": "stream",
     "text": [
      "['__add__', '__class__', '__class_getitem__', '__contains__', '__delattr__', '__dir__', '__doc__', '__eq__', '__format__', '__ge__', '__getattribute__', '__getitem__', '__getnewargs__', '__getstate__', '__gt__', '__hash__', '__init__', '__init_subclass__', '__iter__', '__le__', '__len__', '__lt__', '__mul__', '__ne__', '__new__', '__reduce__', '__reduce_ex__', '__repr__', '__rmul__', '__setattr__', '__sizeof__', '__str__', '__subclasshook__', 'count', 'index']\n"
     ]
    }
   ],
   "source": [
    "# Содержимое кортежа\n",
    "print(dir(tuple))"
   ]
  },
  {
   "cell_type": "code",
   "execution_count": 37,
   "id": "e3daa38a",
   "metadata": {},
   "outputs": [],
   "source": [
    "# Попытка изменить элемент кортежа\n",
    "foo = (5, 10, 12, 0)\n",
    "\n",
    "# TypeError: 'tuple' object does not support item assignment\n",
    "# foo[0] = 100"
   ]
  },
  {
   "cell_type": "code",
   "execution_count": 38,
   "id": "4b82b474",
   "metadata": {},
   "outputs": [
    {
     "name": "stdout",
     "output_type": "stream",
     "text": [
      "foo: (5, [], 12, 0)\n",
      "foo: (5, [10], 12, 0)\n"
     ]
    }
   ],
   "source": [
    "# Изменение элемента кортежа\n",
    "foo = (5, [], 12, 0)\n",
    "print(\"foo:\", foo)\n",
    "\n",
    "foo[1].append(10)\n",
    "print(\"foo:\", foo)"
   ]
  },
  {
   "cell_type": "code",
   "execution_count": 39,
   "id": "9bf80560",
   "metadata": {},
   "outputs": [
    {
     "name": "stdout",
     "output_type": "stream",
     "text": [
      "foo: (5, [], 12, 0)\n",
      "foo: (5, [10], 12, 0)\n"
     ]
    }
   ],
   "source": [
    "# Изменение элемента кортежа\n",
    "foo = (5, [], 12, 0)\n",
    "print(\"foo:\", foo)\n",
    "\n",
    "x = foo[1]\n",
    "x.append(10)\n",
    "print(\"foo:\", foo)"
   ]
  },
  {
   "cell_type": "code",
   "execution_count": 40,
   "id": "0d2c9452",
   "metadata": {},
   "outputs": [
    {
     "name": "stdout",
     "output_type": "stream",
     "text": [
      "a: 10\n",
      "b: 20\n",
      "c: 30\n"
     ]
    }
   ],
   "source": [
    "# Распаковка\n",
    "foo = (10, 20, 30)\n",
    "a, b, c = foo\n",
    "\n",
    "print(\"a:\", a)\n",
    "print(\"b:\", b)\n",
    "print(\"c:\", c)"
   ]
  },
  {
   "cell_type": "code",
   "execution_count": 41,
   "id": "21e18c46",
   "metadata": {},
   "outputs": [
    {
     "name": "stdout",
     "output_type": "stream",
     "text": [
      "a: 10\n",
      "b: 20\n",
      "c: 30\n"
     ]
    }
   ],
   "source": [
    "# Распаковка\n",
    "foo = [10, 20, 30]\n",
    "a, b, c = foo\n",
    "\n",
    "print(\"a:\", a)\n",
    "print(\"b:\", b)\n",
    "print(\"c:\", c)"
   ]
  },
  {
   "cell_type": "code",
   "execution_count": 42,
   "id": "a6573f33",
   "metadata": {},
   "outputs": [
    {
     "name": "stdout",
     "output_type": "stream",
     "text": [
      "bar: [(0, 5), (1, 10), (2, 12), (3, 0), (4, 17), (5, 22)]\n"
     ]
    }
   ],
   "source": [
    "foo = [5, 10, 12, 0, 17, 22]\n",
    "bar = list(enumerate(foo))\n",
    "\n",
    "print(\"bar:\", bar)"
   ]
  },
  {
   "cell_type": "code",
   "execution_count": 48,
   "id": "fe460b81",
   "metadata": {},
   "outputs": [
    {
     "name": "stdout",
     "output_type": "stream",
     "text": [
      "0 -> 5\n",
      "1 -> 10\n",
      "2 -> 12\n",
      "3 -> 0\n",
      "4 -> 17\n",
      "5 -> 22\n"
     ]
    }
   ],
   "source": [
    "foo = [5, 10, 12, 0, 17, 22]\n",
    "for x in enumerate(foo):\n",
    "    print(x[0], \"->\", x[1])"
   ]
  },
  {
   "cell_type": "code",
   "execution_count": 52,
   "id": "37f8641e",
   "metadata": {},
   "outputs": [
    {
     "name": "stdout",
     "output_type": "stream",
     "text": [
      "type(zip(foo, bar)): <class 'zip'>\n",
      "list(zip(foo, bar)): [(10, 'hello'), (20, 'world'), (30, 'from'), (40, 'Python')]\n"
     ]
    }
   ],
   "source": [
    "foo = [10, 20, 30, 40]\n",
    "bar = [\"hello\", \"world\", \"from\", \"Python\"]\n",
    "\n",
    "print(\"type(zip(foo, bar)):\", type(zip(foo, bar)))\n",
    "print(\"list(zip(foo, bar)):\", list(zip(foo, bar)))"
   ]
  },
  {
   "cell_type": "code",
   "execution_count": 53,
   "id": "19e1a18a",
   "metadata": {},
   "outputs": [
    {
     "name": "stdout",
     "output_type": "stream",
     "text": [
      "10 -> hello\n",
      "20 -> world\n",
      "30 -> from\n",
      "40 -> Python\n"
     ]
    }
   ],
   "source": [
    "foo = [10, 20, 30, 40]\n",
    "bar = [\"hello\", \"world\", \"from\", \"Python\"]\n",
    "\n",
    "for f, b in zip(foo, bar):\n",
    "    print(f, \"->\", b)"
   ]
  },
  {
   "cell_type": "code",
   "execution_count": 54,
   "id": "1cf426a7",
   "metadata": {},
   "outputs": [
    {
     "name": "stdout",
     "output_type": "stream",
     "text": [
      "10 -> hello -> 5.5\n",
      "20 -> world -> 4.2\n",
      "30 -> from -> 3.3\n",
      "40 -> Python -> 0.5\n"
     ]
    }
   ],
   "source": [
    "foo = [10, 20, 30, 40]\n",
    "bar = [\"hello\", \"world\", \"from\", \"Python\"]\n",
    "spam = [5.5, 4.2, 3.3, 0.5]\n",
    "\n",
    "for f, b, s in zip(foo, bar, spam):\n",
    "    print(f, \"->\", b, \"->\", s)"
   ]
  },
  {
   "cell_type": "code",
   "execution_count": 55,
   "id": "435d6266",
   "metadata": {},
   "outputs": [
    {
     "name": "stdout",
     "output_type": "stream",
     "text": [
      "list(zip(foo)): [(10,), (20,), (30,), (40,)]\n"
     ]
    }
   ],
   "source": [
    "foo = [10, 20, 30, 40]\n",
    "print(\"list(zip(foo)):\", list(zip(foo)))"
   ]
  },
  {
   "cell_type": "markdown",
   "id": "c5ad7443",
   "metadata": {},
   "source": [
    "## Оператор while"
   ]
  },
  {
   "cell_type": "code",
   "execution_count": 44,
   "id": "b74b45ba",
   "metadata": {},
   "outputs": [
    {
     "name": "stdout",
     "output_type": "stream",
     "text": [
      "0\n",
      "1\n",
      "4\n",
      "9\n",
      "16\n",
      "25\n",
      "36\n",
      "49\n",
      "64\n",
      "81\n",
      "100\n"
     ]
    }
   ],
   "source": [
    "# Оператор while\n",
    "x = 0\n",
    "while x <= 10:\n",
    "    print(x ** 2)\n",
    "    x += 1"
   ]
  },
  {
   "cell_type": "code",
   "execution_count": 45,
   "id": "95340c80",
   "metadata": {},
   "outputs": [],
   "source": [
    "# Нет оператора goto"
   ]
  },
  {
   "cell_type": "markdown",
   "id": "dd544936-fed6-4c95-b677-149c11707989",
   "metadata": {},
   "source": [
    "## Массивы"
   ]
  },
  {
   "cell_type": "code",
   "execution_count": 46,
   "id": "6372bfed-866d-45ed-a565-90bd768ae9e3",
   "metadata": {},
   "outputs": [],
   "source": [
    "from array import array"
   ]
  },
  {
   "cell_type": "code",
   "execution_count": 47,
   "id": "5a0bc390-0d57-4a98-a2f0-8a3151e153a7",
   "metadata": {},
   "outputs": [
    {
     "name": "stdout",
     "output_type": "stream",
     "text": [
      "<class 'array.array'>\n",
      "array('i', [10, 20, 30])\n"
     ]
    }
   ],
   "source": [
    "a = array(\"i\")\n",
    "a.append(10)\n",
    "a.append(20)\n",
    "a.append(30)\n",
    "\n",
    "print(type(a))\n",
    "print(a)"
   ]
  },
  {
   "cell_type": "code",
   "execution_count": null,
   "id": "cfe28cd0-b01f-4a28-91ef-212909250481",
   "metadata": {},
   "outputs": [],
   "source": []
  }
 ],
 "metadata": {
  "kernelspec": {
   "display_name": "Python 3 (ipykernel)",
   "language": "python",
   "name": "python3"
  },
  "language_info": {
   "codemirror_mode": {
    "name": "ipython",
    "version": 3
   },
   "file_extension": ".py",
   "mimetype": "text/x-python",
   "name": "python",
   "nbconvert_exporter": "python",
   "pygments_lexer": "ipython3",
   "version": "3.12.4"
  }
 },
 "nbformat": 4,
 "nbformat_minor": 5
}
