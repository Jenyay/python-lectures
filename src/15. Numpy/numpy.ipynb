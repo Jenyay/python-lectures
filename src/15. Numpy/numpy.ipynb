{
 "cells": [
  {
   "cell_type": "markdown",
   "id": "dd544936-fed6-4c95-b677-149c11707989",
   "metadata": {},
   "source": [
    "## Numpy"
   ]
  },
  {
   "cell_type": "code",
   "execution_count": 14,
   "id": "6372bfed-866d-45ed-a565-90bd768ae9e3",
   "metadata": {},
   "outputs": [
    {
     "name": "stdout",
     "output_type": "stream",
     "text": [
      "xdata=array('d', [0.0, 0.1, 0.2, 0.30000000000000004, 0.4, 0.5, 0.6000000000000001, 0.7000000000000001, 0.8, 0.9, 1.0, 1.1, 1.2000000000000002, 1.3, 1.4000000000000001, 1.5, 1.6, 1.7000000000000002, 1.8, 1.9000000000000001, 2.0, 2.1, 2.2, 2.3000000000000003, 2.4000000000000004, 2.5, 2.6, 2.7, 2.8000000000000003, 2.9000000000000004, 3.0, 3.1, 3.2, 3.3000000000000003, 3.4000000000000004, 3.5, 3.6, 3.7, 3.8000000000000003, 3.9000000000000004, 4.0, 4.1000000000000005, 4.2, 4.3, 4.4, 4.5, 4.6000000000000005, 4.7, 4.800000000000001, 4.9, 5.0, 5.1000000000000005, 5.2, 5.300000000000001, 5.4, 5.5, 5.6000000000000005, 5.7, 5.800000000000001, 5.9, 6.0, 6.1000000000000005, 6.2, 6.300000000000001, 6.4, 6.5, 6.6000000000000005, 6.7, 6.800000000000001, 6.9, 7.0, 7.1000000000000005, 7.2, 7.300000000000001, 7.4, 7.5, 7.6000000000000005, 7.7, 7.800000000000001, 7.9, 8.0, 8.1, 8.200000000000001, 8.3, 8.4, 8.5, 8.6, 8.700000000000001, 8.8, 8.9, 9.0, 9.1, 9.200000000000001, 9.3, 9.4, 9.5, 9.600000000000001, 9.700000000000001, 9.8, 9.9, 10.0])\n",
      "ydata=array('d', [0.0, 0.09537450575679464, 0.1639688742954361, 0.1836983062860955, 0.14110875607099113, 0.033913221008892595, -0.1282879527080379, -0.32523078991627774, -0.5289738732345427, -0.7081840370865239, -0.833049961066805, -0.8800492388545531, -0.8358138946934957, -0.6994780137708085, -0.483127394014113, -0.21026775312939655, 0.0874616741390373, 0.37482722658272033, 0.618094153572003, 0.7898887814871028, 0.8730803709656549, 0.8630873402509343, 0.7682596333906389, 0.6082904588668554, 0.41091891380642953, 0.20745158188688437, 0.027814093317249523, -0.10408587125525258, -0.17395554563949792, -0.17911320777747564, -0.12857870990075454, -0.0412573863154065, 0.05748031012552265, 0.14026607559692292, 0.1825242318589439, 0.1668103784880406, 0.08599495635006196, -0.05522801421815581, -0.24076049158884394, -0.4453948465375814, -0.6386307816442235, -0.7894186195138612, -0.8710829708348925, -0.865648581957855, -0.7668808454049428, -0.5815528660067163, -0.32872776808607057, -0.037155533165861704, 0.25882085502144003, 0.524221374660032, 0.7284831808084987, 0.8498337938681061, 0.8783108515814471, 0.8169683222593938, 0.6810933608607151, 0.4955694486301498, 0.2908110230149409, 0.09791688481021486, -0.05619066011291618, -0.15287545367975325, -0.18450272200309445, -0.1553402690705972, -0.08051547532820642, 0.01679251265217, 0.1094653845869251, 0.17119570682648091, 0.181105789892737, 0.12748760747955493, 0.010055623397112936, -0.1596592670138577, -0.3598507836935006, -0.5616811394063967, -0.733723538784926, -0.8469063254000596, -0.8791789005412505, -0.8191597321249894, -0.6681838673665628, -0.4404167005957162, -0.16100309629766327, 0.13747128960413657, 0.41966499895337794, 0.6525907358531217, 0.8103622798560447, 0.8778472954632786, 0.852666644053973, 0.7452400889997903, 0.5768843305450039, 0.37627389125842664, 0.1748305243519294, 0.001772385396311793, -0.12039580333571982, -0.1792437010337379, -0.17410444573937797, -0.11583612842589704, -0.024707008335961064, 0.07324568452321649, 0.15079090206248702, 0.18427205394187257, 0.15779689941983477, 0.06616942255990056, -0.08391604512413943])\n"
     ]
    }
   ],
   "source": [
    "# Пример расчета функции на сетке без использования Numpy\n",
    "from array import array\n",
    "import math\n",
    "\n",
    "def func(x):\n",
    "    return math.sin(x) * math.cos(3 * x)\n",
    "\n",
    "minval = 0\n",
    "maxval = 10\n",
    "count = 101\n",
    "step = (maxval - minval) / (count - 1)\n",
    "\n",
    "xdata = array('d', [0] * count)\n",
    "ydata = array('d', [0] * count)\n",
    "\n",
    "for n in range(count):\n",
    "    xdata[n] = minval + n * step\n",
    "    ydata[n] = func(xdata[n])\n",
    "\n",
    "print(f\"{xdata=}\")\n",
    "print(f\"{ydata=}\")"
   ]
  },
  {
   "cell_type": "code",
   "execution_count": 15,
   "id": "ca246071",
   "metadata": {},
   "outputs": [
    {
     "name": "stdout",
     "output_type": "stream",
     "text": [
      "type(xdata)=<class 'numpy.ndarray'>\n",
      "xdata=array([ 0. ,  0.1,  0.2,  0.3,  0.4,  0.5,  0.6,  0.7,  0.8,  0.9,  1. ,\n",
      "        1.1,  1.2,  1.3,  1.4,  1.5,  1.6,  1.7,  1.8,  1.9,  2. ,  2.1,\n",
      "        2.2,  2.3,  2.4,  2.5,  2.6,  2.7,  2.8,  2.9,  3. ,  3.1,  3.2,\n",
      "        3.3,  3.4,  3.5,  3.6,  3.7,  3.8,  3.9,  4. ,  4.1,  4.2,  4.3,\n",
      "        4.4,  4.5,  4.6,  4.7,  4.8,  4.9,  5. ,  5.1,  5.2,  5.3,  5.4,\n",
      "        5.5,  5.6,  5.7,  5.8,  5.9,  6. ,  6.1,  6.2,  6.3,  6.4,  6.5,\n",
      "        6.6,  6.7,  6.8,  6.9,  7. ,  7.1,  7.2,  7.3,  7.4,  7.5,  7.6,\n",
      "        7.7,  7.8,  7.9,  8. ,  8.1,  8.2,  8.3,  8.4,  8.5,  8.6,  8.7,\n",
      "        8.8,  8.9,  9. ,  9.1,  9.2,  9.3,  9.4,  9.5,  9.6,  9.7,  9.8,\n",
      "        9.9, 10. ])\n",
      "type(ydata)=<class 'numpy.ndarray'>\n",
      "ydata=array([ 0.        ,  0.09537451,  0.16396887,  0.18369831,  0.14110876,\n",
      "        0.03391322, -0.12828795, -0.32523079, -0.52897387, -0.70818404,\n",
      "       -0.83304996, -0.88004924, -0.83581389, -0.69947801, -0.48312739,\n",
      "       -0.21026775,  0.08746167,  0.37482723,  0.61809415,  0.78988878,\n",
      "        0.87308037,  0.86308734,  0.76825963,  0.60829046,  0.41091891,\n",
      "        0.20745158,  0.02781409, -0.10408587, -0.17395555, -0.17911321,\n",
      "       -0.12857871, -0.04125739,  0.05748031,  0.14026608,  0.18252423,\n",
      "        0.16681038,  0.08599496, -0.05522801, -0.24076049, -0.44539485,\n",
      "       -0.63863078, -0.78941862, -0.87108297, -0.86564858, -0.76688085,\n",
      "       -0.58155287, -0.32872777, -0.03715553,  0.25882086,  0.52422137,\n",
      "        0.72848318,  0.84983379,  0.87831085,  0.81696832,  0.68109336,\n",
      "        0.49556945,  0.29081102,  0.09791688, -0.05619066, -0.15287545,\n",
      "       -0.18450272, -0.15534027, -0.08051548,  0.01679251,  0.10946538,\n",
      "        0.17119571,  0.18110579,  0.12748761,  0.01005562, -0.15965927,\n",
      "       -0.35985078, -0.56168114, -0.73372354, -0.84690633, -0.8791789 ,\n",
      "       -0.81915973, -0.66818387, -0.4404167 , -0.1610031 ,  0.13747129,\n",
      "        0.419665  ,  0.65259074,  0.81036228,  0.8778473 ,  0.85266664,\n",
      "        0.74524009,  0.57688433,  0.37627389,  0.17483052,  0.00177239,\n",
      "       -0.1203958 , -0.1792437 , -0.17410445, -0.11583613, -0.02470701,\n",
      "        0.07324568,  0.1507909 ,  0.18427205,  0.1577969 ,  0.06616942,\n",
      "       -0.08391605])\n"
     ]
    }
   ],
   "source": [
    "# Пример расчета функции на сетке с использованием Numpy\n",
    "import numpy as np\n",
    "\n",
    "def func(x):\n",
    "    return np.sin(x) * np.cos(3 * x)\n",
    "\n",
    "minval = 0\n",
    "maxval = 10\n",
    "count = 101\n",
    "\n",
    "xdata = np.linspace(minval, maxval, count)\n",
    "ydata = func(xdata)\n",
    "\n",
    "print(f\"{type(xdata)=}\")\n",
    "print(f\"{xdata=}\")\n",
    "print(f\"{type(ydata)=}\")\n",
    "print(f\"{ydata=}\")"
   ]
  },
  {
   "cell_type": "code",
   "execution_count": 16,
   "id": "a1c788db",
   "metadata": {},
   "outputs": [
    {
     "name": "stdout",
     "output_type": "stream",
     "text": [
      "type(foo)=<class 'numpy.ndarray'>\n",
      "[0. 0. 0. 0. 0.]\n",
      "\n",
      "type(foo_2d)=<class 'numpy.ndarray'>\n",
      "[[0. 0. 0. 0.]\n",
      " [0. 0. 0. 0.]\n",
      " [0. 0. 0. 0.]]\n",
      "\n",
      "type(foo_3d)=<class 'numpy.ndarray'>\n",
      "[[[0. 0. 0. 0. 0.]\n",
      "  [0. 0. 0. 0. 0.]\n",
      "  [0. 0. 0. 0. 0.]\n",
      "  [0. 0. 0. 0. 0.]]\n",
      "\n",
      " [[0. 0. 0. 0. 0.]\n",
      "  [0. 0. 0. 0. 0.]\n",
      "  [0. 0. 0. 0. 0.]\n",
      "  [0. 0. 0. 0. 0.]]\n",
      "\n",
      " [[0. 0. 0. 0. 0.]\n",
      "  [0. 0. 0. 0. 0.]\n",
      "  [0. 0. 0. 0. 0.]\n",
      "  [0. 0. 0. 0. 0.]]]\n"
     ]
    }
   ],
   "source": [
    "# Создание массивов, заполненных нулями\n",
    "import numpy as np\n",
    "\n",
    "foo = np.zeros(5)\n",
    "foo_2d = np.zeros((3, 4))\n",
    "foo_3d = np.zeros((3, 4, 5))\n",
    "\n",
    "print(f\"{type(foo)=}\")\n",
    "print(f\"{foo}\")\n",
    "print()\n",
    "print(f\"{type(foo_2d)=}\")\n",
    "print(f\"{foo_2d}\")\n",
    "print()\n",
    "print(f\"{type(foo_3d)=}\")\n",
    "print(f\"{foo_3d}\")"
   ]
  },
  {
   "cell_type": "code",
   "execution_count": 17,
   "id": "3f5fbe15",
   "metadata": {},
   "outputs": [
    {
     "name": "stdout",
     "output_type": "stream",
     "text": [
      "foo:\n",
      "[1. 1. 1. 1. 1.]\n",
      "\n",
      "foo_2d:\n",
      "[[1. 1. 1. 1.]\n",
      " [1. 1. 1. 1.]\n",
      " [1. 1. 1. 1.]]\n"
     ]
    }
   ],
   "source": [
    "# Создание массивов, заполненных единицами\n",
    "import numpy as np\n",
    "\n",
    "foo = np.ones(5)\n",
    "foo_2d = np.ones((3, 4))\n",
    "\n",
    "print(\"foo:\")\n",
    "print(f\"{foo}\")\n",
    "print()\n",
    "print(\"foo_2d:\")\n",
    "print(f\"{foo_2d}\")"
   ]
  },
  {
   "cell_type": "code",
   "execution_count": 18,
   "id": "19534001",
   "metadata": {},
   "outputs": [
    {
     "name": "stdout",
     "output_type": "stream",
     "text": [
      "foo:\n",
      "[10 10 10 10 10]\n",
      "\n",
      "bar:\n",
      "[[10 10 10 10 10]\n",
      " [10 10 10 10 10]\n",
      " [10 10 10 10 10]]\n"
     ]
    }
   ],
   "source": [
    "# Создание массива, заполненного заданным значением\n",
    "import numpy as np\n",
    "\n",
    "value = 10\n",
    "\n",
    "foo = np.full(5, value)\n",
    "bar = np.full((3, 5), value)\n",
    "\n",
    "print(\"foo:\")\n",
    "print(foo)\n",
    "print()\n",
    "print(\"bar:\")\n",
    "print(bar)"
   ]
  },
  {
   "cell_type": "code",
   "execution_count": 19,
   "id": "b6d546f6",
   "metadata": {},
   "outputs": [
    {
     "name": "stdout",
     "output_type": "stream",
     "text": [
      "foo:\n",
      "[[1. 0. 0.]\n",
      " [0. 1. 0.]\n",
      " [0. 0. 1.]]\n",
      "\n",
      "bar:\n",
      "[[0. 0. 1. 0. 0.]\n",
      " [0. 0. 0. 1. 0.]\n",
      " [0. 0. 0. 0. 1.]\n",
      " [0. 0. 0. 0. 0.]\n",
      " [0. 0. 0. 0. 0.]]\n",
      "\n",
      "baz:\n",
      "[[0. 0. 0. 0. 0.]\n",
      " [0. 0. 0. 0. 0.]\n",
      " [1. 0. 0. 0. 0.]\n",
      " [0. 1. 0. 0. 0.]\n",
      " [0. 0. 1. 0. 0.]]\n"
     ]
    }
   ],
   "source": [
    "# Создание единичной матрицы\n",
    "import numpy as np\n",
    "\n",
    "foo = np.eye(3)\n",
    "bar = np.eye(5, k=2)\n",
    "baz = np.eye(5, k=-2)\n",
    "\n",
    "print(\"foo:\")\n",
    "print(foo)\n",
    "print()\n",
    "print(\"bar:\")\n",
    "print(bar)\n",
    "print()\n",
    "print(\"baz:\")\n",
    "print(baz)"
   ]
  },
  {
   "cell_type": "code",
   "execution_count": 20,
   "id": "67a702fe",
   "metadata": {},
   "outputs": [
    {
     "name": "stdout",
     "output_type": "stream",
     "text": [
      "foo=array([1. , 1.1, 1.2, 1.3, 1.4, 1.5, 1.6, 1.7, 1.8, 1.9])\n",
      "\n",
      "bar=array([1., 2., 3., 4., 5., 6., 7., 8., 9.])\n",
      "\n",
      "baz=array([0., 1., 2., 3., 4., 5., 6., 7., 8., 9.])\n",
      "\n",
      "spam=array([1. , 1.1, 1.2, 1.3, 1.4, 1.5, 1.6, 1.7, 1.8, 1.9, 2. ])\n"
     ]
    }
   ],
   "source": [
    "# Создание массивов, заполненных последовательностью чисел\n",
    "import numpy as np\n",
    "\n",
    "foo = np.arange(1.0, 2.0, 0.1)\n",
    "bar = np.arange(1.0, 10.0)\n",
    "baz = np.arange(10.0)\n",
    "spam = np.linspace(1.0, 2.0, 11)\n",
    "\n",
    "print(f\"{foo=}\")\n",
    "print()\n",
    "print(f\"{bar=}\")\n",
    "print()\n",
    "print(f\"{baz=}\")\n",
    "print()\n",
    "print(f\"{spam=}\")"
   ]
  },
  {
   "cell_type": "code",
   "execution_count": 21,
   "id": "63143a0c",
   "metadata": {},
   "outputs": [
    {
     "name": "stdout",
     "output_type": "stream",
     "text": [
      "foo:\n",
      "[[0.74254403 0.58444078 0.08605242 0.23951751]\n",
      " [0.86553827 0.73993122 0.21620309 0.32934796]\n",
      " [0.55374691 0.68069331 0.14404983 0.53221344]]\n",
      "\n",
      "bar:\n",
      "[[-0.3511179   0.83782896  0.48190342  0.04809147]\n",
      " [-0.50465597 -0.30269233 -0.54914455 -0.04871352]\n",
      " [ 0.50251321  0.74824977 -0.17864563 -0.19694475]]\n",
      "\n",
      "baz:\n",
      "[[ 2.  8. 10.  0.]\n",
      " [ 4.  6.  9.  8.]\n",
      " [ 8.  6.  7.  5.]]\n"
     ]
    }
   ],
   "source": [
    "# Создание массивов, заполненных псевдослучайными числами\n",
    "import numpy as np\n",
    "from numpy.random import rand\n",
    "\n",
    "foo = rand(3, 4)\n",
    "bar = rand(3, 4) * 2 - 1\n",
    "baz = np.round(rand(3, 4) * 10)\n",
    "\n",
    "print(\"foo:\")\n",
    "print(f\"{foo}\")\n",
    "print()\n",
    "print(\"bar:\")\n",
    "print(f\"{bar}\")\n",
    "print()\n",
    "print(\"baz:\")\n",
    "print(f\"{baz}\")"
   ]
  },
  {
   "cell_type": "code",
   "execution_count": 22,
   "id": "caed9863",
   "metadata": {},
   "outputs": [
    {
     "name": "stdout",
     "output_type": "stream",
     "text": [
      "['T', '__abs__', '__add__', '__and__', '__array__', '__array_finalize__', '__array_function__', '__array_interface__', '__array_prepare__', '__array_priority__', '__array_struct__', '__array_ufunc__', '__array_wrap__', '__bool__', '__class__', '__class_getitem__', '__complex__', '__contains__', '__copy__', '__deepcopy__', '__delattr__', '__delitem__', '__dir__', '__divmod__', '__dlpack__', '__dlpack_device__', '__doc__', '__eq__', '__float__', '__floordiv__', '__format__', '__ge__', '__getattribute__', '__getitem__', '__getstate__', '__gt__', '__hash__', '__iadd__', '__iand__', '__ifloordiv__', '__ilshift__', '__imatmul__', '__imod__', '__imul__', '__index__', '__init__', '__init_subclass__', '__int__', '__invert__', '__ior__', '__ipow__', '__irshift__', '__isub__', '__iter__', '__itruediv__', '__ixor__', '__le__', '__len__', '__lshift__', '__lt__', '__matmul__', '__mod__', '__mul__', '__ne__', '__neg__', '__new__', '__or__', '__pos__', '__pow__', '__radd__', '__rand__', '__rdivmod__', '__reduce__', '__reduce_ex__', '__repr__', '__rfloordiv__', '__rlshift__', '__rmatmul__', '__rmod__', '__rmul__', '__ror__', '__rpow__', '__rrshift__', '__rshift__', '__rsub__', '__rtruediv__', '__rxor__', '__setattr__', '__setitem__', '__setstate__', '__sizeof__', '__str__', '__sub__', '__subclasshook__', '__truediv__', '__xor__', 'all', 'any', 'argmax', 'argmin', 'argpartition', 'argsort', 'astype', 'base', 'byteswap', 'choose', 'clip', 'compress', 'conj', 'conjugate', 'copy', 'ctypes', 'cumprod', 'cumsum', 'data', 'diagonal', 'dot', 'dtype', 'dump', 'dumps', 'fill', 'flags', 'flat', 'flatten', 'getfield', 'imag', 'item', 'itemset', 'itemsize', 'max', 'mean', 'min', 'nbytes', 'ndim', 'newbyteorder', 'nonzero', 'partition', 'prod', 'ptp', 'put', 'ravel', 'real', 'repeat', 'reshape', 'resize', 'round', 'searchsorted', 'setfield', 'setflags', 'shape', 'size', 'sort', 'squeeze', 'std', 'strides', 'sum', 'swapaxes', 'take', 'tobytes', 'tofile', 'tolist', 'tostring', 'trace', 'transpose', 'var', 'view']\n"
     ]
    }
   ],
   "source": [
    "# Методы и свойства массивов ndarray\n",
    "import numpy as np\n",
    "\n",
    "foo = np.zeros((3, 4))\n",
    "print(dir(foo))"
   ]
  },
  {
   "cell_type": "code",
   "execution_count": 23,
   "id": "442c03ed",
   "metadata": {},
   "outputs": [
    {
     "name": "stdout",
     "output_type": "stream",
     "text": [
      "[[ 7.  1.  1. 10.]\n",
      " [ 8.  5.  2.  7.]\n",
      " [ 2.  4. 10.  3.]]\n",
      "\n",
      "foo.shape=(3, 4)\n",
      "\n",
      "[[ 7.  8.  2.]\n",
      " [ 1.  5.  4.]\n",
      " [ 1.  2. 10.]\n",
      " [10.  7.  3.]]\n",
      "\n",
      "foo.T.shape=(4, 3)\n"
     ]
    }
   ],
   "source": [
    "# Свойство shape и транспонирование матрицы\n",
    "import numpy as np\n",
    "from numpy.random import rand\n",
    "\n",
    "foo = np.round(rand(3, 4) * 10)\n",
    "\n",
    "print(f\"{foo}\")\n",
    "print()\n",
    "print(f\"{foo.shape=}\")\n",
    "print()\n",
    "print(f\"{foo.T}\")\n",
    "print()\n",
    "print(f\"{foo.T.shape=}\")\n"
   ]
  },
  {
   "cell_type": "code",
   "execution_count": 24,
   "id": "ec6ee201",
   "metadata": {},
   "outputs": [
    {
     "name": "stdout",
     "output_type": "stream",
     "text": [
      "[[ 0.  4.  8.  8.]\n",
      " [ 3.  1.  4.  9.]\n",
      " [ 4. 10.  3.  2.]]\n",
      "\n",
      "foo.sum()=56.0\n",
      "foo.sum(axis=0)=array([ 7., 15., 15., 19.])\n",
      "foo.sum(axis=1)=array([20., 17., 19.])\n",
      "\n",
      "foo.prod()=0.0\n",
      "foo.prod(axis=0)=array([  0.,  40.,  96., 144.])\n",
      "foo.prod(axis=1)=array([  0., 108., 240.])\n"
     ]
    }
   ],
   "source": [
    "# Расчет суммы и произведения элементов массива\n",
    "import numpy as np\n",
    "from numpy.random import rand\n",
    "\n",
    "foo = np.round(rand(3, 4) * 10)\n",
    "\n",
    "print(f\"{foo}\")\n",
    "print()\n",
    "print(f\"{foo.sum()=}\")\n",
    "print(f\"{foo.sum(axis=0)=}\")\n",
    "print(f\"{foo.sum(axis=1)=}\")\n",
    "print()\n",
    "print(f\"{foo.prod()=}\")\n",
    "print(f\"{foo.prod(axis=0)=}\")\n",
    "print(f\"{foo.prod(axis=1)=}\")"
   ]
  },
  {
   "cell_type": "code",
   "execution_count": 25,
   "id": "0f98ef63",
   "metadata": {},
   "outputs": [
    {
     "name": "stdout",
     "output_type": "stream",
     "text": [
      "[[ 4.  5.  1.  3.]\n",
      " [ 2.  7. 10.  6.]\n",
      " [ 6.  2.  2.  3.]]\n",
      "\n",
      "foo.min()=1.0\n",
      "foo.min(axis=0)=array([2., 2., 1., 3.])\n",
      "foo.min(axis=1)=array([1., 2., 2.])\n",
      "\n",
      "foo.max()=10.0\n",
      "foo.max(axis=0)=array([ 6.,  7., 10.,  6.])\n",
      "foo.max(axis=1)=array([ 5., 10.,  6.])\n",
      "\n",
      "foo.mean()=4.25\n",
      "foo.mean(axis=0)=array([4.        , 4.66666667, 4.33333333, 4.        ])\n",
      "foo.mean(axis=1)=array([3.25, 6.25, 3.25])\n"
     ]
    }
   ],
   "source": [
    "# Нахождение минимального, максимального и среднего значений\n",
    "import numpy as np\n",
    "from numpy.random import rand\n",
    "\n",
    "foo = np.round(rand(3, 4) * 10)\n",
    "\n",
    "print(f\"{foo}\")\n",
    "print()\n",
    "print(f\"{foo.min()=}\")\n",
    "print(f\"{foo.min(axis=0)=}\")\n",
    "print(f\"{foo.min(axis=1)=}\")\n",
    "print()\n",
    "print(f\"{foo.max()=}\")\n",
    "print(f\"{foo.max(axis=0)=}\")\n",
    "print(f\"{foo.max(axis=1)=}\")\n",
    "print()\n",
    "print(f\"{foo.mean()=}\")\n",
    "print(f\"{foo.mean(axis=0)=}\")\n",
    "print(f\"{foo.mean(axis=1)=}\")"
   ]
  },
  {
   "cell_type": "code",
   "execution_count": 26,
   "id": "3af53ab9",
   "metadata": {},
   "outputs": [
    {
     "name": "stdout",
     "output_type": "stream",
     "text": [
      "[[ 3.  9. 10.  4.]\n",
      " [ 7.  9.  2.  1.]\n",
      " [ 4.  6.  4.  7.]]\n",
      "\n",
      "foo.argmin()=7\n",
      "foo.argmin(axis=0)=array([0, 2, 1, 1])\n",
      "foo.argmin(axis=1)=array([0, 3, 0])\n",
      "\n",
      "foo.argmax()=2\n",
      "foo.argmax(axis=0)=array([1, 0, 0, 2])\n",
      "foo.argmax(axis=1)=array([2, 1, 3])\n"
     ]
    }
   ],
   "source": [
    "# Нахождение индексов минимального и максимального значений\n",
    "import numpy as np\n",
    "from numpy.random import rand\n",
    "\n",
    "foo = np.round(rand(3, 4) * 10)\n",
    "\n",
    "print(f\"{foo}\")\n",
    "print()\n",
    "print(f\"{foo.argmin()=}\")\n",
    "print(f\"{foo.argmin(axis=0)=}\")\n",
    "print(f\"{foo.argmin(axis=1)=}\")\n",
    "print()\n",
    "print(f\"{foo.argmax()=}\")\n",
    "print(f\"{foo.argmax(axis=0)=}\")\n",
    "print(f\"{foo.argmax(axis=1)=}\")"
   ]
  },
  {
   "cell_type": "code",
   "execution_count": 27,
   "id": "1aee880e",
   "metadata": {},
   "outputs": [
    {
     "name": "stdout",
     "output_type": "stream",
     "text": [
      "foo:\n",
      "[ 7.  0.  5.  9.  3.  1.  8. 10.  7.  3.  3. 10.]\n",
      "\n",
      "bar:\n",
      "[[ 7.  0.  5.  9.]\n",
      " [ 3.  1.  8. 10.]\n",
      " [ 7.  3.  3. 10.]]\n",
      "\n",
      "baz:\n",
      "[[ 7.  0.  5.  9.  3.  1.]\n",
      " [ 8. 10.  7.  3.  3. 10.]]\n"
     ]
    }
   ],
   "source": [
    "# Изменение формы массива\n",
    "import numpy as np\n",
    "from numpy.random import rand\n",
    "\n",
    "foo = np.round(rand(12) * 10)\n",
    "\n",
    "print(\"foo:\")\n",
    "print(f\"{foo}\")\n",
    "print()\n",
    "\n",
    "bar = foo.reshape((3, 4))\n",
    "baz = foo.reshape((2, 6))\n",
    "\n",
    "print(\"bar:\")\n",
    "print(f\"{bar}\")\n",
    "print()\n",
    "print(\"baz:\")\n",
    "print(f\"{baz}\")"
   ]
  },
  {
   "cell_type": "code",
   "execution_count": 28,
   "id": "1af1485a",
   "metadata": {},
   "outputs": [
    {
     "name": "stdout",
     "output_type": "stream",
     "text": [
      "[[ 2.  7.  1.  4.]\n",
      " [ 6. 10.  5.  4.]\n",
      " [ 5.  1. 10.  4.]]\n",
      "\n"
     ]
    }
   ],
   "source": [
    "# Ошибка при изменении формы массива\n",
    "import numpy as np\n",
    "from numpy.random import rand\n",
    "\n",
    "foo = np.round(rand(3, 4) * 10)\n",
    "\n",
    "print(f\"{foo}\")\n",
    "print()\n",
    "\n",
    "# Ошибка!\n",
    "# bar = foo.reshape((3, 7))"
   ]
  },
  {
   "cell_type": "code",
   "execution_count": 29,
   "id": "44e68c2f",
   "metadata": {},
   "outputs": [
    {
     "name": "stdout",
     "output_type": "stream",
     "text": [
      "[[5. 1. 8. 5.]\n",
      " [3. 7. 0. 5.]\n",
      " [8. 6. 3. 6.]]\n",
      "\n",
      "[[5. 1. 8. 5. 3.]\n",
      " [7. 0. 5. 8. 6.]\n",
      " [3. 6. 0. 0. 0.]]\n",
      "\n",
      "[[5. 1.]\n",
      " [8. 5.]\n",
      " [3. 7.]]\n"
     ]
    }
   ],
   "source": [
    "# Изменение размера массива\n",
    "import numpy as np\n",
    "from numpy.random import rand\n",
    "\n",
    "foo = np.round(rand(3, 4) * 10)\n",
    "\n",
    "print(f\"{foo}\")\n",
    "print()\n",
    "\n",
    "foo.resize((3, 5))\n",
    "print(f\"{foo}\")\n",
    "print()\n",
    "\n",
    "foo.resize((3, 2))\n",
    "print(f\"{foo}\")"
   ]
  },
  {
   "cell_type": "code",
   "execution_count": 30,
   "id": "5fa20d3d",
   "metadata": {},
   "outputs": [
    {
     "name": "stdout",
     "output_type": "stream",
     "text": [
      "Первоначальное состояние\n",
      "foo_ndarray=array([0, 1, 2, 3, 4, 5, 6, 7, 8, 9])\n",
      "slice_ndarray=array([3, 4, 5, 6])\n",
      "foo_list=[0, 1, 2, 3, 4, 5, 6, 7, 8, 9]\n",
      "slice_list=[3, 4, 5, 6]\n",
      "\n",
      "После изменения элементов среза\n",
      "foo_ndarray=array([  0,   1,   2, 100, 100, 100, 100,   7,   8,   9])\n",
      "slice_ndarray=array([100, 100, 100, 100])\n",
      "foo_list=[0, 1, 2, 3, 4, 5, 6, 7, 8, 9]\n",
      "slice_list=[100, 100, 100, 100]\n"
     ]
    }
   ],
   "source": [
    "# Выделение срезов для одномерных массивов\n",
    "import numpy as np\n",
    "\n",
    "# Создаем массив и выделяем его срез\n",
    "foo_ndarray = np.arange(0, 10)\n",
    "slice_ndarray = foo_ndarray[3: 7]\n",
    "\n",
    "# Создаем список и выделяем его срез\n",
    "foo_list = list(range(0, 10))\n",
    "slice_list = foo_list[3: 7]\n",
    "\n",
    "print(\"Первоначальное состояние\")\n",
    "print(f\"{foo_ndarray=}\")\n",
    "print(f\"{slice_ndarray=}\")\n",
    "print(f\"{foo_list=}\")\n",
    "print(f\"{slice_list=}\")\n",
    "print()\n",
    "\n",
    "# Изменяем элементы в срезе массива и списка\n",
    "slice_ndarray[:] = 100\n",
    "slice_list[:] = [100] * len(slice_list)\n",
    "\n",
    "print(\"После изменения элементов среза\")\n",
    "print(f\"{foo_ndarray=}\")\n",
    "print(f\"{slice_ndarray=}\")\n",
    "print(f\"{foo_list=}\")\n",
    "print(f\"{slice_list=}\")"
   ]
  },
  {
   "cell_type": "code",
   "execution_count": 31,
   "id": "7c029cc9",
   "metadata": {},
   "outputs": [
    {
     "name": "stdout",
     "output_type": "stream",
     "text": [
      "foo_ndarray=array([0, 1, 2, 3, 4, 5, 6, 7, 8, 9])\n",
      "slice_ndarray=array([2, 4, 6])\n"
     ]
    }
   ],
   "source": [
    "# Выделение срезов для одномерных массивов\n",
    "import numpy as np\n",
    "\n",
    "foo_ndarray = np.arange(0, 10)\n",
    "slice_ndarray = foo_ndarray[2: 7: 2]\n",
    "\n",
    "print(f\"{foo_ndarray=}\")\n",
    "print(f\"{slice_ndarray=}\")"
   ]
  },
  {
   "cell_type": "code",
   "execution_count": 32,
   "id": "b778759a",
   "metadata": {},
   "outputs": [
    {
     "name": "stdout",
     "output_type": "stream",
     "text": [
      "foo_ndarray=array([0, 1, 2, 3, 4, 5, 6, 7, 8, 9])\n",
      "slice_ndarray=array([3, 4, 5, 6, 7, 8, 9])\n"
     ]
    }
   ],
   "source": [
    "# Выделение срезов для одномерных массивов\n",
    "import numpy as np\n",
    "\n",
    "foo_ndarray = np.arange(0, 10)\n",
    "slice_ndarray = foo_ndarray[3:]\n",
    "\n",
    "print(f\"{foo_ndarray=}\")\n",
    "print(f\"{slice_ndarray=}\")"
   ]
  },
  {
   "cell_type": "code",
   "execution_count": 33,
   "id": "8eb105c2",
   "metadata": {},
   "outputs": [
    {
     "name": "stdout",
     "output_type": "stream",
     "text": [
      "foo_ndarray=array([0, 1, 2, 3, 4, 5, 6, 7, 8, 9])\n",
      "slice_ndarray=array([0, 1, 2, 3, 4])\n"
     ]
    }
   ],
   "source": [
    "# Выделение срезов для одномерных массивов\n",
    "import numpy as np\n",
    "\n",
    "foo_ndarray = np.arange(0, 10)\n",
    "slice_ndarray = foo_ndarray[:5]\n",
    "\n",
    "print(f\"{foo_ndarray=}\")\n",
    "print(f\"{slice_ndarray=}\")"
   ]
  },
  {
   "cell_type": "code",
   "execution_count": 34,
   "id": "5419c537",
   "metadata": {},
   "outputs": [
    {
     "name": "stdout",
     "output_type": "stream",
     "text": [
      "Первоначальное состояние\n",
      "foo=array([0, 1, 2, 3, 4, 5, 6, 7, 8, 9])\n",
      "foo_slice=array([0, 1, 2, 3, 4, 5, 6, 7, 8, 9])\n",
      "foo_copy=array([0, 1, 2, 3, 4, 5, 6, 7, 8, 9])\n",
      "\n",
      "После изменения элементов копии\n",
      "foo=array([0, 1, 2, 3, 4, 5, 6, 7, 8, 9])\n",
      "foo_copy=array([0, 1, 2, 3, 4, 0, 0, 0, 0, 0])\n",
      "\n",
      "После изменения элементов среза\n",
      "foo=array([0, 1, 2, 3, 4, 0, 0, 0, 0, 0])\n",
      "foo_slice=array([0, 1, 2, 3, 4, 0, 0, 0, 0, 0])\n"
     ]
    }
   ],
   "source": [
    "# Создание копии массивов\n",
    "import numpy as np\n",
    "\n",
    "foo = np.arange(0, 10)\n",
    "foo_slice = foo[:]\n",
    "foo_copy = foo.copy()\n",
    "\n",
    "print(\"Первоначальное состояние\")\n",
    "print(f\"{foo=}\")\n",
    "print(f\"{foo_slice=}\")\n",
    "print(f\"{foo_copy=}\")\n",
    "print()\n",
    "\n",
    "foo_copy[5:] = 0\n",
    "\n",
    "print(\"После изменения элементов копии\")\n",
    "print(f\"{foo=}\")\n",
    "print(f\"{foo_copy=}\")\n",
    "print()\n",
    "\n",
    "foo_slice[5:] = 0\n",
    "\n",
    "print(\"После изменения элементов среза\")\n",
    "print(f\"{foo=}\")\n",
    "print(f\"{foo_slice=}\")"
   ]
  },
  {
   "cell_type": "code",
   "execution_count": 35,
   "id": "62266559",
   "metadata": {},
   "outputs": [
    {
     "name": "stdout",
     "output_type": "stream",
     "text": [
      "Первоначальное состояние\n",
      "foo=array([0, 1, 2, 3, 4, 5, 6, 7, 8, 9])\n",
      "foo_slice=array([0, 1, 2, 3, 4, 5, 6, 7, 8, 9])\n",
      "foo_copy=array([0, 1, 2, 3, 4, 5, 6, 7, 8, 9])\n",
      "\n",
      "После изменения элементов копии\n",
      "foo=array([0, 1, 2, 3, 4, 5, 6, 7, 8, 9])\n",
      "foo_copy=array([0, 1, 2, 3, 4, 0, 0, 0, 0, 0])\n",
      "\n",
      "После изменения элементов среза\n",
      "foo=array([0, 1, 2, 3, 4, 0, 0, 0, 0, 0])\n",
      "foo_slice=array([0, 1, 2, 3, 4, 0, 0, 0, 0, 0])\n"
     ]
    }
   ],
   "source": [
    "# Создание копии массивов\n",
    "import numpy as np\n",
    "\n",
    "foo = np.arange(0, 10)\n",
    "foo_slice = np.array(foo, copy=False)\n",
    "\n",
    "# copy=True - это значение по умолчанию\n",
    "foo_copy = np.array(foo, copy=True)\n",
    "\n",
    "# Аналогично строке:\n",
    "# foo_copy = np.array(foo)\n",
    "\n",
    "print(\"Первоначальное состояние\")\n",
    "print(f\"{foo=}\")\n",
    "print(f\"{foo_slice=}\")\n",
    "print(f\"{foo_copy=}\")\n",
    "print()\n",
    "\n",
    "foo_copy[5:] = 0\n",
    "\n",
    "print(\"После изменения элементов копии\")\n",
    "print(f\"{foo=}\")\n",
    "print(f\"{foo_copy=}\")\n",
    "print()\n",
    "\n",
    "foo_slice[5:] = 0\n",
    "\n",
    "print(\"После изменения элементов среза\")\n",
    "print(f\"{foo=}\")\n",
    "print(f\"{foo_slice=}\")"
   ]
  },
  {
   "cell_type": "code",
   "execution_count": 36,
   "id": "69b5aaa1",
   "metadata": {},
   "outputs": [
    {
     "name": "stdout",
     "output_type": "stream",
     "text": [
      "Первоначальное состояние\n",
      "foo=array([0, 1, 2, 3, 4, 5, 6, 7, 8, 9])\n",
      "foo_slice_copy=array([3, 4, 5, 6])\n",
      "\n",
      "После изменения элементов копии среза\n",
      "foo=array([0, 1, 2, 3, 4, 5, 6, 7, 8, 9])\n",
      "foo_slice_copy=array([0, 0, 0, 0])\n"
     ]
    }
   ],
   "source": [
    "# Создание копии среза\n",
    "import numpy as np\n",
    "\n",
    "foo = np.arange(0, 10)\n",
    "foo_slice_copy = foo[3: 7].copy()\n",
    "\n",
    "print(\"Первоначальное состояние\")\n",
    "print(f\"{foo=}\")\n",
    "print(f\"{foo_slice_copy=}\")\n",
    "print()\n",
    "\n",
    "foo_slice_copy[:] = 0\n",
    "\n",
    "print(\"После изменения элементов копии среза\")\n",
    "print(f\"{foo=}\")\n",
    "print(f\"{foo_slice_copy=}\")"
   ]
  },
  {
   "cell_type": "code",
   "execution_count": 37,
   "id": "4c8aa7f7",
   "metadata": {},
   "outputs": [
    {
     "name": "stdout",
     "output_type": "stream",
     "text": [
      "matrix:\n",
      "[[ 0  1  2  3  4]\n",
      " [ 5  6  7  8  9]\n",
      " [10 11 12 13 14]\n",
      " [15 16 17 18 19]\n",
      " [20 21 22 23 24]]\n",
      "\n",
      "bar:\n",
      "[[ 6  7]\n",
      " [11 12]\n",
      " [16 17]]\n"
     ]
    }
   ],
   "source": [
    "# Выделение срезов для двумерных массивов\n",
    "import numpy as np\n",
    "\n",
    "# Создание матрицы из последовательности целых чисел\n",
    "matrix = np.arange(0, 25).reshape((5, 5))\n",
    "print(\"matrix:\")\n",
    "print(matrix)\n",
    "print()\n",
    "\n",
    "bar = matrix[1:4, 1:3]\n",
    "\n",
    "print(\"bar:\")\n",
    "print(bar)"
   ]
  },
  {
   "cell_type": "code",
   "execution_count": 38,
   "id": "e4ae9d5e",
   "metadata": {},
   "outputs": [
    {
     "name": "stdout",
     "output_type": "stream",
     "text": [
      "matrix:\n",
      "[[ 0  1  2  3  4]\n",
      " [ 5  6  7  8  9]\n",
      " [10 11 12 13 14]\n",
      " [15 16 17 18 19]\n",
      " [20 21 22 23 24]]\n",
      "\n",
      "bar:\n",
      "[[ 5  6  7  8  9]\n",
      " [10 11 12 13 14]\n",
      " [15 16 17 18 19]]\n"
     ]
    }
   ],
   "source": [
    "# Выделение строк двумерных массивов\n",
    "import numpy as np\n",
    "\n",
    "# Создание матрицы из последовательности целых чисел\n",
    "matrix = np.arange(0, 25).reshape((5, 5))\n",
    "print(\"matrix:\")\n",
    "print(matrix)\n",
    "print()\n",
    "\n",
    "bar = matrix[1:4, :]\n",
    "\n",
    "print(\"bar:\")\n",
    "print(bar)"
   ]
  },
  {
   "cell_type": "code",
   "execution_count": 39,
   "id": "ae838c0e",
   "metadata": {},
   "outputs": [
    {
     "name": "stdout",
     "output_type": "stream",
     "text": [
      "matrix:\n",
      "[[ 0  1  2  3  4]\n",
      " [ 5  6  7  8  9]\n",
      " [10 11 12 13 14]\n",
      " [15 16 17 18 19]\n",
      " [20 21 22 23 24]]\n",
      "\n",
      "bar:\n",
      "[10 11 12 13 14]\n"
     ]
    }
   ],
   "source": [
    "# Выделение строки двумерного массива\n",
    "import numpy as np\n",
    "\n",
    "# Создание матрицы из последовательности целых чисел\n",
    "matrix = np.arange(0, 25).reshape((5, 5))\n",
    "print(\"matrix:\")\n",
    "print(matrix)\n",
    "print()\n",
    "\n",
    "bar = matrix[2, :]\n",
    "\n",
    "print(\"bar:\")\n",
    "print(bar)"
   ]
  },
  {
   "cell_type": "code",
   "execution_count": 40,
   "id": "56bff4a7",
   "metadata": {},
   "outputs": [
    {
     "name": "stdout",
     "output_type": "stream",
     "text": [
      "matrix:\n",
      "[[ 0  1  2  3  4]\n",
      " [ 5  6  7  8  9]\n",
      " [10 11 12 13 14]\n",
      " [15 16 17 18 19]\n",
      " [20 21 22 23 24]]\n",
      "\n",
      "bar:\n",
      "[[ 1  2]\n",
      " [ 6  7]\n",
      " [11 12]\n",
      " [16 17]\n",
      " [21 22]]\n"
     ]
    }
   ],
   "source": [
    "# Выделение столбцов двумерных массивов\n",
    "import numpy as np\n",
    "\n",
    "# Создание матрицы из последовательности целых чисел\n",
    "matrix = np.arange(0, 25).reshape((5, 5))\n",
    "print(\"matrix:\")\n",
    "print(matrix)\n",
    "print()\n",
    "\n",
    "bar = matrix[:, 1:3]\n",
    "\n",
    "print(\"bar:\")\n",
    "print(bar)"
   ]
  },
  {
   "cell_type": "code",
   "execution_count": 41,
   "id": "8c1ae22f",
   "metadata": {},
   "outputs": [
    {
     "name": "stdout",
     "output_type": "stream",
     "text": [
      "matrix:\n",
      "[[ 0  1  2  3  4]\n",
      " [ 5  6  7  8  9]\n",
      " [10 11 12 13 14]\n",
      " [15 16 17 18 19]\n",
      " [20 21 22 23 24]]\n",
      "\n",
      "bar:\n",
      "[ 2  7 12 17 22]\n"
     ]
    }
   ],
   "source": [
    "# Выделение столбца двумерного массива\n",
    "import numpy as np\n",
    "\n",
    "# Создание матрицы из последовательности целых чисел\n",
    "matrix = np.arange(0, 25).reshape((5, 5))\n",
    "print(\"matrix:\")\n",
    "print(matrix)\n",
    "print()\n",
    "\n",
    "bar = matrix[:, 2]\n",
    "\n",
    "print(\"bar:\")\n",
    "print(bar)"
   ]
  },
  {
   "cell_type": "code",
   "execution_count": 42,
   "id": "32ee4a04",
   "metadata": {},
   "outputs": [
    {
     "name": "stdout",
     "output_type": "stream",
     "text": [
      "matrix:\n",
      "[[ 0  1  2  3  4  5]\n",
      " [ 6  7  8  9 10 11]\n",
      " [12 13 14 15 16 17]\n",
      " [18 19 20 21 22 23]\n",
      " [24 25 26 27 28 29]\n",
      " [30 31 32 33 34 35]]\n",
      "\n",
      "bar:\n",
      "[[ 7  9 11]\n",
      " [19 21 23]\n",
      " [31 33 35]]\n"
     ]
    }
   ],
   "source": [
    "# Выделение срезов для двумерных массивов\n",
    "import numpy as np\n",
    "\n",
    "# Создание матрицы из последовательности целых чисел\n",
    "matrix = np.arange(0, 36).reshape((6, 6))\n",
    "print(\"matrix:\")\n",
    "print(matrix)\n",
    "print()\n",
    "\n",
    "bar = matrix[1:7:2, 1:7:2]\n",
    "\n",
    "print(\"bar:\")\n",
    "print(bar)"
   ]
  },
  {
   "cell_type": "code",
   "execution_count": 43,
   "id": "991cff3c",
   "metadata": {},
   "outputs": [
    {
     "name": "stdout",
     "output_type": "stream",
     "text": [
      "До изменения среза\n",
      "matrix:\n",
      "[[ 0  1  2  3  4  5]\n",
      " [ 6  7  8  9 10 11]\n",
      " [12 13 14 15 16 17]\n",
      " [18 19 20 21 22 23]\n",
      " [24 25 26 27 28 29]\n",
      " [30 31 32 33 34 35]]\n",
      "\n",
      "bar:\n",
      "[[ 7  9 11]\n",
      " [19 21 23]\n",
      " [31 33 35]]\n",
      "\n",
      "После изменения среза\n",
      "matrix:\n",
      "[[ 0  1  2  3  4  5]\n",
      " [ 6  0  8  0 10  0]\n",
      " [12 13 14 15 16 17]\n",
      " [18  0 20  0 22  0]\n",
      " [24 25 26 27 28 29]\n",
      " [30  0 32  0 34  0]]\n",
      "\n",
      "bar:\n",
      "[[0 0 0]\n",
      " [0 0 0]\n",
      " [0 0 0]]\n",
      "\n"
     ]
    }
   ],
   "source": [
    "# Модификация срезов двумерных массивов\n",
    "import numpy as np\n",
    "\n",
    "# Создание матрицы из последовательности целых чисел\n",
    "matrix = np.arange(0, 36).reshape((6, 6))\n",
    "bar = matrix[1:7:2, 1:7:2]\n",
    "\n",
    "print(\"До изменения среза\")\n",
    "print(\"matrix:\")\n",
    "print(matrix)\n",
    "print()\n",
    "\n",
    "print(\"bar:\")\n",
    "print(bar)\n",
    "print()\n",
    "\n",
    "bar[:,:] = 0\n",
    "\n",
    "print(\"После изменения среза\")\n",
    "print(\"matrix:\")\n",
    "print(matrix)\n",
    "print()\n",
    "\n",
    "print(\"bar:\")\n",
    "print(bar)\n",
    "print()"
   ]
  },
  {
   "cell_type": "code",
   "execution_count": 44,
   "id": "ae463a59",
   "metadata": {},
   "outputs": [
    {
     "name": "stdout",
     "output_type": "stream",
     "text": [
      "matrix:\n",
      "[[ 0  1  2  3  4]\n",
      " [ 5  6  7  8  9]\n",
      " [10 11 12 13 14]\n",
      " [15 16 17 18 19]\n",
      " [20 21 22 23 24]]\n",
      "\n",
      "matrix_bool_1:\n",
      "[[False False False False False]\n",
      " [False False False False False]\n",
      " [False  True  True  True  True]\n",
      " [ True  True  True  True  True]\n",
      " [ True  True  True  True  True]]\n",
      "\n",
      "matrix_bool_2:\n",
      "[[ True False  True False  True]\n",
      " [False  True False  True False]\n",
      " [ True False  True False  True]\n",
      " [False  True False  True False]\n",
      " [ True False  True False  True]]\n",
      "\n"
     ]
    }
   ],
   "source": [
    "# Булевы массивы\n",
    "import numpy as np\n",
    "\n",
    "matrix = np.arange(0, 25).reshape((5, 5))\n",
    "matrix_bool_1 = matrix > 10\n",
    "matrix_bool_2 = matrix % 2 == 0\n",
    "\n",
    "print(\"matrix:\")\n",
    "print(matrix)\n",
    "print()\n",
    "\n",
    "print(\"matrix_bool_1:\")\n",
    "print(matrix_bool_1)\n",
    "print()\n",
    "\n",
    "print(\"matrix_bool_2:\")\n",
    "print(matrix_bool_2)\n",
    "print()"
   ]
  },
  {
   "cell_type": "code",
   "execution_count": 45,
   "id": "9c96954b",
   "metadata": {},
   "outputs": [
    {
     "name": "stdout",
     "output_type": "stream",
     "text": [
      "matrix:\n",
      "[[ 0  1  2  3  4]\n",
      " [ 5  6  7  8  9]\n",
      " [10 11 12 13 14]\n",
      " [15 16 17 18 19]\n",
      " [20 21 22 23 24]]\n",
      "\n",
      "matrix_bool:\n",
      "[[False False False False False]\n",
      " [False False False False False]\n",
      " [False  True  True  True  True]\n",
      " [ True  True  True  True  True]\n",
      " [ True  True  True  True  True]]\n",
      "\n",
      "bar:\n",
      "[11 12 13 14 15 16 17 18 19 20 21 22 23 24]\n",
      "\n"
     ]
    }
   ],
   "source": [
    "# Булевы массивы\n",
    "import numpy as np\n",
    "\n",
    "matrix = np.arange(0, 25).reshape((5, 5))\n",
    "matrix_bool = matrix > 10\n",
    "\n",
    "bar = matrix[matrix_bool]\n",
    "\n",
    "print(\"matrix:\")\n",
    "print(matrix)\n",
    "print()\n",
    "\n",
    "print(\"matrix_bool:\")\n",
    "print(matrix_bool)\n",
    "print()\n",
    "\n",
    "print(\"bar:\")\n",
    "print(bar)\n",
    "print()"
   ]
  },
  {
   "cell_type": "code",
   "execution_count": 46,
   "id": "3e614f0e",
   "metadata": {},
   "outputs": [
    {
     "name": "stdout",
     "output_type": "stream",
     "text": [
      "matrix:\n",
      "[[ 0  1  2  3  4]\n",
      " [ 5  6  7  8  9]\n",
      " [10 10 10 10 10]\n",
      " [10 10 10 10 10]\n",
      " [10 10 10 10 10]]\n",
      "\n"
     ]
    }
   ],
   "source": [
    "# Булевы массивы\n",
    "import numpy as np\n",
    "\n",
    "matrix = np.arange(0, 25).reshape((5, 5))\n",
    "matrix_bool = matrix > 10\n",
    "matrix[matrix_bool] = 10\n",
    "\n",
    "print(\"matrix:\")\n",
    "print(matrix)\n",
    "print()"
   ]
  },
  {
   "cell_type": "code",
   "execution_count": 47,
   "id": "35bb663d",
   "metadata": {},
   "outputs": [
    {
     "name": "stdout",
     "output_type": "stream",
     "text": [
      "matrix:\n",
      "[[ 0  1  2  3  4]\n",
      " [ 5  6  7  8  9]\n",
      " [10 10 10 10 10]\n",
      " [10 10 10 10 10]\n",
      " [10 10 10 10 10]]\n",
      "\n"
     ]
    }
   ],
   "source": [
    "# Булевы массивы\n",
    "import numpy as np\n",
    "\n",
    "matrix = np.arange(0, 25).reshape((5, 5))\n",
    "matrix[matrix > 10] = 10\n",
    "\n",
    "print(\"matrix:\")\n",
    "print(matrix)\n",
    "print()"
   ]
  },
  {
   "cell_type": "code",
   "execution_count": 48,
   "id": "e39457f1",
   "metadata": {},
   "outputs": [
    {
     "name": "stdout",
     "output_type": "stream",
     "text": [
      "matrix:\n",
      "[[ 0  1  0  3  0]\n",
      " [ 5  0  7  0  9]\n",
      " [ 0 11  0 13  0]\n",
      " [15  0 17  0 19]\n",
      " [ 0 21  0 23  0]]\n",
      "\n"
     ]
    }
   ],
   "source": [
    "# Булевы массивы\n",
    "import numpy as np\n",
    "\n",
    "matrix = np.arange(0, 25).reshape((5, 5))\n",
    "matrix[matrix % 2 == 0] = 0\n",
    "\n",
    "print(\"matrix:\")\n",
    "print(matrix)\n",
    "print()"
   ]
  },
  {
   "cell_type": "code",
   "execution_count": 61,
   "id": "d34725a3",
   "metadata": {},
   "outputs": [
    {
     "name": "stdout",
     "output_type": "stream",
     "text": [
      "foo:\n",
      "[[ True  True  True]\n",
      " [ True False  True]\n",
      " [False False False]]\n",
      "\n",
      "foo.all()=False\n",
      "foo.all(axis=0)=array([False, False, False])\n",
      "foo.all(axis=1)=array([ True, False, False])\n",
      "foo.any()=True\n",
      "foo.any(axis=0)=array([ True,  True,  True])\n",
      "foo.any(axis=1)=array([ True,  True, False])\n"
     ]
    }
   ],
   "source": [
    "# Булевы массивы\n",
    "import numpy as np\n",
    "\n",
    "foo = np.array([[True, True, True], \n",
    "                [True, False, True], \n",
    "                [False, False, False]])\n",
    "print(\"foo:\")\n",
    "print(foo)\n",
    "print()\n",
    "\n",
    "print(f\"{foo.all()=}\")\n",
    "print(f\"{foo.all(axis=0)=}\")\n",
    "print(f\"{foo.all(axis=1)=}\")\n",
    "print(f\"{foo.any()=}\")\n",
    "print(f\"{foo.any(axis=0)=}\")\n",
    "print(f\"{foo.any(axis=1)=}\")"
   ]
  },
  {
   "cell_type": "code",
   "execution_count": 91,
   "id": "dcc9c6de",
   "metadata": {},
   "outputs": [
    {
     "name": "stdout",
     "output_type": "stream",
     "text": [
      "foo:\n",
      "[[4. 5. 7.]\n",
      " [2. 4. 8.]\n",
      " [3. 3. 7.]]\n",
      "\n",
      "(foo < 10).all()=True\n",
      "(foo >= 10).any()=False\n"
     ]
    }
   ],
   "source": [
    "# Булевы массивы\n",
    "import numpy as np\n",
    "from numpy.random import rand\n",
    "\n",
    "foo = np.round(rand(3, 3) * 10)\n",
    "\n",
    "print(\"foo:\")\n",
    "print(f\"{foo}\")\n",
    "print()\n",
    "print(f\"{(foo < 10).all()=}\")\n",
    "print(f\"{(foo >= 10).any()=}\")"
   ]
  },
  {
   "cell_type": "code",
   "execution_count": null,
   "id": "24a7015f",
   "metadata": {},
   "outputs": [],
   "source": []
  },
  {
   "cell_type": "code",
   "execution_count": null,
   "id": "fb9dd1f2",
   "metadata": {},
   "outputs": [],
   "source": []
  }
 ],
 "metadata": {
  "kernelspec": {
   "display_name": "Python 3 (ipykernel)",
   "language": "python",
   "name": "python3"
  },
  "language_info": {
   "codemirror_mode": {
    "name": "ipython",
    "version": 3
   },
   "file_extension": ".py",
   "mimetype": "text/x-python",
   "name": "python",
   "nbconvert_exporter": "python",
   "pygments_lexer": "ipython3",
   "version": "3.11.8"
  }
 },
 "nbformat": 4,
 "nbformat_minor": 5
}
