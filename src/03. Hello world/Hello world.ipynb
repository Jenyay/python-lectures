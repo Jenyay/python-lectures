{
 "cells": [
  {
   "cell_type": "markdown",
   "metadata": {},
   "source": [
    "# Введение в Python\n",
    "Версия 2024-01-06"
   ]
  },
  {
   "cell_type": "markdown",
   "metadata": {},
   "source": [
    "## Hello World"
   ]
  },
  {
   "cell_type": "code",
   "execution_count": 1,
   "metadata": {},
   "outputs": [
    {
     "name": "stdout",
     "output_type": "stream",
     "text": [
      "Hello World!\n",
      "Hello World!\n"
     ]
    }
   ],
   "source": [
    "# Программерская традиция\n",
    "print('Hello World!')\n",
    "print(\"Hello World!\")\n",
    "\n",
    "# Строки обрамляются в одинарные или двойные кавычки\n",
    "#     Сказать, зачем два вида кавычек\n",
    "# Вывод текста в консоль - функция print\n",
    "# Вызов функции: func_name(параметры)\n",
    "# Нет точки с запятой в конце команды\n",
    "#     Команда завершается переводом строки\n",
    "#     Точку с запятой можно ставить"
   ]
  },
  {
   "cell_type": "markdown",
   "metadata": {},
   "source": [
    "## Переменные и арифметические операторы"
   ]
  },
  {
   "cell_type": "code",
   "execution_count": 2,
   "metadata": {
    "scrolled": true
   },
   "outputs": [
    {
     "name": "stdout",
     "output_type": "stream",
     "text": [
      "10\n",
      "1.5\n",
      "(1+5j)\n",
      "Строка 1\n",
      "Строка 2\n",
      "Строка,\n",
      "состоящая из\n",
      "нескольких строк\n",
      "None\n"
     ]
    }
   ],
   "source": [
    "# Переменные\n",
    "a = 10\n",
    "b = 1.5\n",
    "c = 1+5j\n",
    "s1 = 'Строка 1'\n",
    "s2 = \"Строка 2\"\n",
    "s3 = '''Строка,\n",
    "состоящая из\n",
    "нескольких строк'''\n",
    "x = None\n",
    "\n",
    "print(a)\n",
    "print(b)\n",
    "print(c)\n",
    "print(s1)\n",
    "print(s2)\n",
    "print(s3)\n",
    "print(x)"
   ]
  },
  {
   "cell_type": "code",
   "execution_count": 2,
   "metadata": {},
   "outputs": [
    {
     "name": "stdout",
     "output_type": "stream",
     "text": [
      "12.889999999999999 5.0\n"
     ]
    }
   ],
   "source": [
    "a = 2\n",
    "b = 3.3\n",
    "c = 10\n",
    "\n",
    "d = a + (b ** 2)\n",
    "e = c / a\n",
    "\n",
    "print(d, e)"
   ]
  },
  {
   "cell_type": "code",
   "execution_count": 3,
   "metadata": {},
   "outputs": [
    {
     "name": "stdout",
     "output_type": "stream",
     "text": [
      "12.25\n",
      "(0.1+0.5j)\n",
      "10\n",
      "12\n",
      "36\n",
      "18.0\n"
     ]
    }
   ],
   "source": [
    "# Выражения\n",
    "d = a + (b ** 2)\n",
    "e = c / a\n",
    "\n",
    "print(d)\n",
    "print(e)\n",
    "\n",
    "e = 10\n",
    "print(e)\n",
    "\n",
    "e += 2\n",
    "print(e)\n",
    "\n",
    "e *= 3\n",
    "print(e)\n",
    "\n",
    "e /= 2\n",
    "print(e)"
   ]
  },
  {
   "cell_type": "code",
   "execution_count": 4,
   "metadata": {},
   "outputs": [],
   "source": [
    "# Код с ошибкой\n",
    "# a + s1"
   ]
  },
  {
   "cell_type": "code",
   "execution_count": 5,
   "metadata": {},
   "outputs": [],
   "source": [
    "# Сказать про комментарии"
   ]
  },
  {
   "cell_type": "markdown",
   "metadata": {},
   "source": [
    "***Показать слайд с арифметическими операциями*** "
   ]
  },
  {
   "cell_type": "markdown",
   "metadata": {},
   "source": [
    "## Типы переменных"
   ]
  },
  {
   "cell_type": "code",
   "execution_count": 6,
   "metadata": {},
   "outputs": [
    {
     "name": "stdout",
     "output_type": "stream",
     "text": [
      "<class 'int'>\n",
      "<class 'float'>\n",
      "<class 'complex'>\n",
      "<class 'str'>\n",
      "<class 'NoneType'>\n"
     ]
    }
   ],
   "source": [
    "# Типы переменных\n",
    "print(type(a))\n",
    "print(type(b))\n",
    "print(type(c))\n",
    "print(type(s1))\n",
    "print(type(x))\n",
    "\n",
    "# type - получить информацию о типе переменной\n",
    "# Все в Python - классы\n",
    "# Про ООП рассказать позже"
   ]
  },
  {
   "cell_type": "code",
   "execution_count": 7,
   "metadata": {},
   "outputs": [
    {
     "name": "stdout",
     "output_type": "stream",
     "text": [
      "<class 'int'>\n",
      "<class 'float'>\n",
      "<class 'str'>\n"
     ]
    }
   ],
   "source": [
    "# Динамическая типизация\n",
    "x = 10\n",
    "print(type(x))\n",
    "\n",
    "x = 1.5\n",
    "print(type(x))\n",
    "\n",
    "x = 'Строка'\n",
    "print(type(x))"
   ]
  },
  {
   "cell_type": "markdown",
   "metadata": {},
   "source": [
    "## Создание скриптов\n",
    "\n",
    "* Сказать про текстовые редакторы\n",
    "* Сказать про кодировку\n",
    "* Расширение py.\n",
    "* Указание кодировки в начале файла (не обязательно)."
   ]
  },
  {
   "cell_type": "raw",
   "metadata": {},
   "source": [
    "# coding: utf-8\n",
    "# -*- coding: utf-8 -*-\n",
    "# coding=utf-8\n",
    "\n",
    "Кодировка указывается в первой или второй строке файла"
   ]
  }
 ],
 "metadata": {
  "kernelspec": {
   "display_name": "Python 3 (ipykernel)",
   "language": "python",
   "name": "python3"
  },
  "language_info": {
   "codemirror_mode": {
    "name": "ipython",
    "version": 3
   },
   "file_extension": ".py",
   "mimetype": "text/x-python",
   "name": "python",
   "nbconvert_exporter": "python",
   "pygments_lexer": "ipython3",
   "version": "3.11.6"
  }
 },
 "nbformat": 4,
 "nbformat_minor": 4
}
