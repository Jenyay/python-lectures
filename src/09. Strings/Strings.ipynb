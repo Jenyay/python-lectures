{
 "cells": [
  {
   "cell_type": "markdown",
   "metadata": {},
   "source": [
    "## Способы создания строк\n"
   ]
  },
  {
   "cell_type": "code",
   "execution_count": 62,
   "metadata": {},
   "outputs": [
    {
     "name": "stdout",
     "output_type": "stream",
     "text": [
      "type(foo): <class 'str'>\n",
      "type(bar): <class 'str'>\n"
     ]
    }
   ],
   "source": [
    "# Однострочные (single line) строки\n",
    "foo = \"Hello\"\n",
    "bar = 'Привет'\n",
    "\n",
    "print(\"type(foo):\", type(foo))\n",
    "print(\"type(bar):\", type(bar))"
   ]
  },
  {
   "cell_type": "code",
   "execution_count": 1,
   "metadata": {},
   "outputs": [
    {
     "name": "stdout",
     "output_type": "stream",
     "text": [
      "type(foo): <class 'str'>\n",
      "type(bar): <class 'str'>\n",
      "\n",
      "foo: Lorem ipsum dolor sit amet,\n",
      "consectetur adipiscing elit,\n",
      "sed do eiusmod tempor incididunt\n",
      "ut labore et dolore magna aliqua.\n",
      "\n",
      "bar: Lorem ipsum dolor sit amet,\n",
      "consectetur adipiscing elit,\n",
      "sed do eiusmod tempor incididunt\n",
      "ut labore et dolore magna aliqua.\n"
     ]
    }
   ],
   "source": [
    "# Многострочные (multiline) строки\n",
    "\n",
    "foo = \"\"\"Lorem ipsum dolor sit amet,\n",
    "consectetur adipiscing elit,\n",
    "sed do eiusmod tempor incididunt\n",
    "ut labore et dolore magna aliqua.\"\"\"\n",
    "\n",
    "bar = '''Lorem ipsum dolor sit amet,\n",
    "consectetur adipiscing elit,\n",
    "sed do eiusmod tempor incididunt\n",
    "ut labore et dolore magna aliqua.'''\n",
    "\n",
    "print(\"type(foo):\", type(foo))\n",
    "print(\"type(bar):\", type(bar))\n",
    "\n",
    "print()\n",
    "print(\"foo:\", foo)\n",
    "print()\n",
    "print(\"bar:\", bar)"
   ]
  },
  {
   "cell_type": "code",
   "execution_count": 64,
   "metadata": {},
   "outputs": [
    {
     "name": "stdout",
     "output_type": "stream",
     "text": [
      "foo: Lorem ipsum dolor sit amet,\n",
      "consectetur adipiscing elit,\n",
      "sed do eiusmod tempor incididunt\n",
      "ut labore et dolore magna aliqua.\n",
      "\n",
      "bar: Lorem ipsum dolor sit amet,\n",
      "    consectetur adipiscing elit,\n",
      "    sed do eiusmod tempor incididunt\n",
      "    ut labore et dolore magna aliqua.\n"
     ]
    }
   ],
   "source": [
    "# Отступы и многострочный текст\n",
    "\n",
    "if True:\n",
    "    foo = \"\"\"Lorem ipsum dolor sit amet,\n",
    "consectetur adipiscing elit,\n",
    "sed do eiusmod tempor incididunt\n",
    "ut labore et dolore magna aliqua.\"\"\"\n",
    "    \n",
    "    bar = \"\"\"Lorem ipsum dolor sit amet,\n",
    "    consectetur adipiscing elit,\n",
    "    sed do eiusmod tempor incididunt\n",
    "    ut labore et dolore magna aliqua.\"\"\"\n",
    "        \n",
    "    print(\"foo:\", foo)\n",
    "    print()\n",
    "    print(\"bar:\", bar)"
   ]
  },
  {
   "cell_type": "code",
   "execution_count": 65,
   "metadata": {},
   "outputs": [
    {
     "name": "stdout",
     "output_type": "stream",
     "text": [
      "foo:  Этот текст содержит 'одинарные' кавычки\n",
      "bar:  Этот текст содержит \"двойные\" кавычки\n",
      "spam: Этот текст содержит 'одинарные' кавычки\n",
      "eggs: Этот текст содержит \"двойные\" кавычки\n"
     ]
    }
   ],
   "source": [
    "# Использование кавычек в тексте\n",
    "\n",
    "foo = \"Этот текст содержит 'одинарные' кавычки\"\n",
    "bar = 'Этот текст содержит \"двойные\" кавычки'\n",
    "spam = 'Этот текст содержит \\'одинарные\\' кавычки'\n",
    "eggs = \"Этот текст содержит \\\"двойные\\\" кавычки\"\n",
    "\n",
    "print(\"foo: \", foo)\n",
    "print(\"bar: \", bar)\n",
    "print(\"spam:\", spam)\n",
    "print(\"eggs:\", eggs)"
   ]
  },
  {
   "cell_type": "code",
   "execution_count": 66,
   "metadata": {},
   "outputs": [
    {
     "name": "stdout",
     "output_type": "stream",
     "text": [
      "foo:  Этот текст содержит 'одинарные' кавычки\n",
      "bar:  Этот текст содержит \"двойные\" кавычки\n"
     ]
    }
   ],
   "source": [
    "# Использование кавычек в тексте\n",
    "\n",
    "foo = '''Этот текст содержит 'одинарные' кавычки'''\n",
    "bar = \"\"\"Этот текст содержит \"двойные\" кавычки\"\"\"\n",
    "\n",
    "print(\"foo: \", foo)\n",
    "print(\"bar: \", bar)"
   ]
  },
  {
   "cell_type": "code",
   "execution_count": 67,
   "metadata": {},
   "outputs": [
    {
     "name": "stdout",
     "output_type": "stream",
     "text": [
      "foo:  Этот текст содержит обратные \\слеши\\\n",
      "bar:  Этот текст содержит обратные \\слеши\\\n"
     ]
    }
   ],
   "source": [
    "# Использование обратных слешей в тексте\n",
    "\n",
    "foo = \"Этот текст содержит обратные \\слеши\\\\\"\n",
    "bar = \"Этот текст содержит обратные \\\\слеши\\\\\"\n",
    "\n",
    "print(\"foo: \", foo)\n",
    "print(\"bar: \", bar)"
   ]
  },
  {
   "cell_type": "code",
   "execution_count": 68,
   "metadata": {},
   "outputs": [
    {
     "name": "stdout",
     "output_type": "stream",
     "text": [
      "foo:  Lorem ipsum dolor sit amet,\n",
      "consectetur adipiscing elit\n",
      "\n",
      "bar:  Lorem ipsum dolor sit amet,\tconsectetur adipiscing elit\n"
     ]
    }
   ],
   "source": [
    "foo = \"Lorem ipsum dolor sit amet,\\nconsectetur adipiscing elit\"\n",
    "bar = \"Lorem ipsum dolor sit amet,\\tconsectetur adipiscing elit\"\n",
    "\n",
    "print(\"foo: \", foo)\n",
    "print()\n",
    "print(\"bar: \", bar)"
   ]
  },
  {
   "cell_type": "code",
   "execution_count": 69,
   "metadata": {},
   "outputs": [
    {
     "name": "stdout",
     "output_type": "stream",
     "text": [
      "foo:  Этот текст\\tсодержит \\\\ слишком много \\\\ обратных слешей\\n\n",
      "bar:  Этот текст\\tсодержит \\\\ слишком много \\\\ обратных слешей\\n\n"
     ]
    }
   ],
   "source": [
    "# Использование \"сырых\" (raw) строк\n",
    "\n",
    "foo = \"Этот текст\\\\tсодержит \\\\\\\\ слишком много \\\\\\\\ обратных слешей\\\\n\"\n",
    "bar = r'Этот текст\\tсодержит \\\\ слишком много \\\\ обратных слешей\\n'\n",
    "\n",
    "print(\"foo: \", foo)\n",
    "print(\"bar: \", bar)"
   ]
  },
  {
   "cell_type": "code",
   "execution_count": 11,
   "metadata": {},
   "outputs": [
    {
     "name": "stdout",
     "output_type": "stream",
     "text": [
      "foo: Это символ Unicode - δ\n",
      "bar: Это символ Unicode - 🤣\n"
     ]
    }
   ],
   "source": [
    "# Вставка символов Unicode по коду\n",
    "\n",
    "foo = \"Это символ Unicode - \\u03b4\"\n",
    "bar = \"Это символ Unicode - \\U0001f923\"\n",
    "\n",
    "print(\"foo:\", foo)\n",
    "print(\"bar:\", bar)"
   ]
  },
  {
   "cell_type": "code",
   "execution_count": 13,
   "metadata": {},
   "outputs": [
    {
     "name": "stdout",
     "output_type": "stream",
     "text": [
      "foo: Это символ Unicode - δ\n",
      "bar: Это символ Unicode - 🤣\n"
     ]
    }
   ],
   "source": [
    "# Вставка символов Unicode по названию\n",
    "\n",
    "foo = \"Это символ Unicode - \\N{Greek Small Letter Delta}\"\n",
    "bar = \"Это символ Unicode - \\N{rolling on the floor laughing}\"\n",
    "\n",
    "print(\"foo:\", foo)\n",
    "print(\"bar:\", bar)"
   ]
  },
  {
   "cell_type": "code",
   "execution_count": 72,
   "metadata": {},
   "outputs": [
    {
     "name": "stdout",
     "output_type": "stream",
     "text": [
      "foo: Это символ Unicode - δ\n",
      "bar: Это символ Unicode - 🤣\n"
     ]
    }
   ],
   "source": [
    "# Вставка символов Unicode непосредственно в текст\n",
    "\n",
    "foo = \"Это символ Unicode - δ\"\n",
    "bar = \"Это символ Unicode - 🤣\"\n",
    "\n",
    "print(\"foo:\", foo)\n",
    "print(\"bar:\", bar)"
   ]
  },
  {
   "cell_type": "code",
   "execution_count": 73,
   "metadata": {},
   "outputs": [
    {
     "name": "stdout",
     "output_type": "stream",
     "text": [
      "foo_str:  10\n",
      "bar_str:  20.5\n",
      "spam_str: (15-5j)\n",
      "eggs_str: {'key_1': 10, 'key_2': 20, 'key_3': 30}\n",
      "baz_str:  [10, 20, 42]\n"
     ]
    }
   ],
   "source": [
    "# Создание строкового представления объектов с помощью функции str()\n",
    "\n",
    "foo = 10\n",
    "foo_str = str(foo)\n",
    "\n",
    "bar = 20.5\n",
    "bar_str = str(bar)\n",
    "\n",
    "spam = 15 - 5j\n",
    "spam_str = str(spam)\n",
    "\n",
    "eggs = {\"key_1\": 10, \"key_2\": 20, \"key_3\": 30}\n",
    "eggs_str = str(eggs)\n",
    "\n",
    "baz = [10, 20, 42]\n",
    "baz_str = str(baz)\n",
    "\n",
    "print(\"foo_str: \", foo_str)\n",
    "print(\"bar_str: \", bar_str)\n",
    "print(\"spam_str:\", spam_str)\n",
    "print(\"eggs_str:\", eggs_str)\n",
    "print(\"baz_str: \", baz_str)"
   ]
  },
  {
   "cell_type": "code",
   "execution_count": 74,
   "metadata": {},
   "outputs": [
    {
     "name": "stdout",
     "output_type": "stream",
     "text": [
      "foo_str:  10\n",
      "foo_repr:  10\n",
      "bar_str:  20.5\n",
      "bar_repr:  20.5\n",
      "baz_str:  [10, 20, 42]\n",
      "baz_repr:  [10, 20, 42]\n"
     ]
    }
   ],
   "source": [
    "# Создание строкового представления объектов с помощью функции repr()\n",
    "\n",
    "foo = 10\n",
    "foo_str = str(foo)\n",
    "foo_repr = repr(foo)\n",
    "\n",
    "bar = 20.5\n",
    "bar_str = str(bar)\n",
    "bar_repr = repr(bar)\n",
    "\n",
    "baz = [10, 20, 42]\n",
    "baz_str = str(baz)\n",
    "baz_repr = repr(baz)\n",
    "\n",
    "print(\"foo_str: \", foo_str)\n",
    "print(\"foo_repr: \", foo_repr)\n",
    "\n",
    "print(\"bar_str: \", bar_str)\n",
    "print(\"bar_repr: \", bar_repr)\n",
    "\n",
    "print(\"baz_str: \", baz_str)\n",
    "print(\"baz_repr: \", baz_repr)"
   ]
  },
  {
   "cell_type": "code",
   "execution_count": 15,
   "metadata": {},
   "outputs": [
    {
     "name": "stdout",
     "output_type": "stream",
     "text": [
      "str(date):  2024-12-20 18:40:02\n",
      "repr(date): datetime.datetime(2024, 12, 20, 18, 40, 2)\n",
      "date:       2024-12-20 18:40:02\n"
     ]
    }
   ],
   "source": [
    "# Сравнение результатов работы функций\n",
    "# str() и repr() для более сложных объектов\n",
    "\n",
    "import datetime\n",
    "\n",
    "date = datetime.datetime(2024, 12, 20, 18, 40, 2)\n",
    "\n",
    "print(\"str(date): \", str(date))\n",
    "print(\"repr(date):\", repr(date))\n",
    "print(\"date:      \", date)\n"
   ]
  },
  {
   "cell_type": "code",
   "execution_count": null,
   "metadata": {},
   "outputs": [],
   "source": [
    "foo = 20.5\n",
    "foo_str = str(foo)\n",
    "foo_str\n",
    "foo_repr = repr(foo)\n",
    "foo_repr\n",
    "\n",
    "bar = [10, 20, 42]\n",
    "bar_str = str(bar)\n",
    "bar_str\n",
    "bar_repr = repr(bar)\n",
    "bar_repr\n",
    "\n",
    "import datetime\n",
    "date = datetime.datetime(2024, 12, 20, 18, 40, 2)\n"
   ]
  },
  {
   "cell_type": "code",
   "execution_count": 76,
   "metadata": {},
   "outputs": [
    {
     "name": "stdout",
     "output_type": "stream",
     "text": [
      "len(foo):  5\n",
      "len(bar):  6\n",
      "len(spam): 2\n",
      "len(baz):  1\n"
     ]
    }
   ],
   "source": [
    "# Получение длины строки\n",
    "\n",
    "foo = \"Hello\"\n",
    "bar = \"Привет\"\n",
    "spam = \"你好\"\n",
    "baz = \"\\U0001f923\"\n",
    "\n",
    "print(\"len(foo): \", len(foo))\n",
    "print(\"len(bar): \", len(bar))\n",
    "print(\"len(spam):\", len(spam))\n",
    "print(\"len(baz): \", len(baz))"
   ]
  },
  {
   "cell_type": "code",
   "execution_count": 77,
   "metadata": {},
   "outputs": [
    {
     "name": "stdout",
     "output_type": "stream",
     "text": [
      "foo in spam:     True\n",
      "bar not in spam: True\n"
     ]
    }
   ],
   "source": [
    "# Использование операторов in / not in\n",
    "\n",
    "spam = \"Lorem ipsum dolor sit amet, consectetur adipiscing elit\"\n",
    "foo = \"ipsum\"\n",
    "bar = \"hello\"\n",
    "\n",
    "print(\"foo in spam:    \", foo in spam)\n",
    "print(\"bar not in spam:\", bar not in spam)"
   ]
  },
  {
   "cell_type": "code",
   "execution_count": 78,
   "metadata": {},
   "outputs": [
    {
     "name": "stdout",
     "output_type": "stream",
     "text": [
      "foo[0]:  П\n",
      "foo[3]:  в\n",
      "foo[-1]: 🤣\n"
     ]
    }
   ],
   "source": [
    "# Получение символов по индексу\n",
    "foo = \"Привет \\U0001f923\"\n",
    "\n",
    "print(\"foo[0]: \", foo[0])\n",
    "print(\"foo[3]: \", foo[3])\n",
    "print(\"foo[-1]:\", foo[-1])"
   ]
  },
  {
   "cell_type": "code",
   "execution_count": 79,
   "metadata": {},
   "outputs": [],
   "source": [
    "# Строка - неизменяемый объект\n",
    "foo = \"Привет\"\n",
    "\n",
    "# Ошибка!\n",
    "# foo[0] = \"X\""
   ]
  },
  {
   "cell_type": "code",
   "execution_count": 1,
   "metadata": {},
   "outputs": [
    {
     "name": "stdout",
     "output_type": "stream",
     "text": [
      "Lorem ipsum dolor sit amet, consectetur adipiscing elit\n",
      "spam[2:10]:    rem ipsu\n",
      "spam[2:14:2]:  rmismd\n",
      "spam[9:1:-1]:  uspi mer\n",
      "spam[:5]:      Lorem\n",
      "spam[-4:]:     elit\n",
      "spam[:]:       Lorem ipsum dolor sit amet, consectetur adipiscing elit\n",
      "spam[::-1]:    tile gnicsipida rutetcesnoc ,tema tis rolod muspi meroL\n"
     ]
    }
   ],
   "source": [
    "# Получение подстроки\n",
    "spam = \"Lorem ipsum dolor sit amet, consectetur adipiscing elit\"\n",
    "\n",
    "print(spam)\n",
    "print(\"spam[2:10]:   \", spam[2:10])\n",
    "print(\"spam[2:14:2]: \", spam[2:14:2])\n",
    "print(\"spam[9:1:-1]: \", spam[9:1:-1])\n",
    "print(\"spam[:5]:     \", spam[:5])\n",
    "print(\"spam[-4:]:    \", spam[-4:])\n",
    "print(\"spam[:]:      \", spam[:])\n",
    "print(\"spam[::-1]:   \", spam[::-1])"
   ]
  },
  {
   "cell_type": "code",
   "execution_count": 81,
   "metadata": {},
   "outputs": [
    {
     "name": "stdout",
     "output_type": "stream",
     "text": [
      "['__add__', '__class__', '__contains__', '__delattr__', '__dir__', '__doc__', '__eq__', '__format__', '__ge__', '__getattribute__', '__getitem__', '__getnewargs__', '__getstate__', '__gt__', '__hash__', '__init__', '__init_subclass__', '__iter__', '__le__', '__len__', '__lt__', '__mod__', '__mul__', '__ne__', '__new__', '__reduce__', '__reduce_ex__', '__repr__', '__rmod__', '__rmul__', '__setattr__', '__sizeof__', '__str__', '__subclasshook__', 'capitalize', 'casefold', 'center', 'count', 'encode', 'endswith', 'expandtabs', 'find', 'format', 'format_map', 'index', 'isalnum', 'isalpha', 'isascii', 'isdecimal', 'isdigit', 'isidentifier', 'islower', 'isnumeric', 'isprintable', 'isspace', 'istitle', 'isupper', 'join', 'ljust', 'lower', 'lstrip', 'maketrans', 'partition', 'removeprefix', 'removesuffix', 'replace', 'rfind', 'rindex', 'rjust', 'rpartition', 'rsplit', 'rstrip', 'split', 'splitlines', 'startswith', 'strip', 'swapcase', 'title', 'translate', 'upper', 'zfill']\n"
     ]
    }
   ],
   "source": [
    "print(dir(str))"
   ]
  },
  {
   "cell_type": "code",
   "execution_count": 82,
   "metadata": {},
   "outputs": [
    {
     "name": "stdout",
     "output_type": "stream",
     "text": [
      "foo.startswith('images'): True\n",
      "bar.startswith('images'): False\n",
      "foo.endswith('.png'):     True\n",
      "bar.endswith('.png'):     False\n"
     ]
    }
   ],
   "source": [
    "# Использование методов startswith() / endswith()\n",
    "\n",
    "foo = \"images/picture.png\"\n",
    "bar = \"data/application.exe\"\n",
    "\n",
    "print(\"foo.startswith('images'):\", foo.startswith('images'))\n",
    "print(\"bar.startswith('images'):\", bar.startswith('images'))\n",
    "print(\"foo.endswith('.png'):    \", foo.endswith('.png'))\n",
    "print(\"bar.endswith('.png'):    \", bar.endswith('.png'))"
   ]
  },
  {
   "cell_type": "code",
   "execution_count": 6,
   "metadata": {},
   "outputs": [
    {
     "name": "stdout",
     "output_type": "stream",
     "text": [
      "foo.find('ipsum'):         6\n",
      "foo.find('Ipsum'):         -1\n",
      "foo.find('ipsum', 7):      34\n",
      "foo.find('ipsum', 35, 60): -1\n"
     ]
    }
   ],
   "source": [
    "# Использование метода find()\n",
    "\n",
    "foo = \"\"\"Lorem ipsum dolor sit amet,\n",
    "Lorem ipsum dolor sit amet,\n",
    "Lorem ipsum dolor sit amet.\"\"\"\n",
    "\n",
    "print(\"foo.find('ipsum'):        \", foo.find('ipsum'))\n",
    "print(\"foo.find('Ipsum'):        \", foo.find('Ipsum'))\n",
    "print(\"foo.find('ipsum', 7):     \", foo.find('ipsum', 7))\n",
    "print(\"foo.find('ipsum', 35, 60):\", foo.find('ipsum', 35, 60))"
   ]
  },
  {
   "cell_type": "code",
   "execution_count": 13,
   "metadata": {},
   "outputs": [
    {
     "name": "stdout",
     "output_type": "stream",
     "text": [
      "result: [6, 34, 62]\n"
     ]
    }
   ],
   "source": [
    "# Нахождение всех позиций заданной подстроки\n",
    "\n",
    "foo = \"\"\"Lorem ipsum dolor sit amet,\n",
    "Lorem ipsum dolor sit amet,\n",
    "Lorem ipsum dolor sit amet.\"\"\"\n",
    "sub = \"ipsum\"\n",
    "\n",
    "result = []\n",
    "\n",
    "pos = foo.find(sub)\n",
    "while pos != -1:\n",
    "    result.append(pos)\n",
    "    pos = foo.find(sub, pos + 1)\n",
    "        \n",
    "print(\"result:\", result)"
   ]
  },
  {
   "cell_type": "code",
   "execution_count": 15,
   "metadata": {},
   "outputs": [
    {
     "name": "stdout",
     "output_type": "stream",
     "text": [
      "result: [6, 34, 62]\n"
     ]
    }
   ],
   "source": [
    "# Нахождение всех позиций заданной подстроки\n",
    "# Использование оператора :=\n",
    "\n",
    "foo = \"\"\"Lorem ipsum dolor sit amet,\n",
    "Lorem ipsum dolor sit amet,\n",
    "Lorem ipsum dolor sit amet.\"\"\"\n",
    "sub = \"ipsum\"\n",
    "\n",
    "result = []\n",
    "pos = -1\n",
    "\n",
    "while (pos := foo.find(sub, pos + 1)) != -1:\n",
    "    result.append(pos)\n",
    "    \n",
    "print(\"result:\", result)"
   ]
  },
  {
   "cell_type": "code",
   "execution_count": 86,
   "metadata": {},
   "outputs": [
    {
     "name": "stdout",
     "output_type": "stream",
     "text": [
      "42 42\n"
     ]
    }
   ],
   "source": [
    "# Ошибка!\n",
    "# a = (b = 42)\n",
    "\n",
    "a = (b := 42)\n",
    "\n",
    "print(a, b)"
   ]
  },
  {
   "cell_type": "code",
   "execution_count": 87,
   "metadata": {},
   "outputs": [
    {
     "name": "stdout",
     "output_type": "stream",
     "text": [
      "foo:        lorem IPSUM dolor SIT amet\n",
      "foo_lower:  lorem ipsum dolor sit amet\n",
      "foo_upper:  LOREM IPSUM DOLOR SIT AMET\n",
      "foo_cap:    Lorem ipsum dolor sit amet\n"
     ]
    }
   ],
   "source": [
    "# Использование методов lower() / upper() / capitalize()\n",
    "\n",
    "foo = \"lorem IPSUM dolor SIT amet\"\n",
    "\n",
    "foo_lower = foo.lower()\n",
    "foo_upper = foo.upper()\n",
    "foo_cap = foo.capitalize()\n",
    "\n",
    "print(\"foo:       \", foo)\n",
    "print(\"foo_lower: \", foo_lower)\n",
    "print(\"foo_upper: \", foo_upper)\n",
    "print(\"foo_cap:   \", foo_cap)"
   ]
  },
  {
   "cell_type": "code",
   "execution_count": 88,
   "metadata": {},
   "outputs": [
    {
     "name": "stdout",
     "output_type": "stream",
     "text": [
      "foo:        |    Lorem ipsum    |\n",
      "foo_strip:  |Lorem ipsum|\n",
      "foo_lstrip: |Lorem ipsum    |\n",
      "foo_rstrip: |    Lorem ipsum|\n"
     ]
    }
   ],
   "source": [
    "# Использование методов strip() / lstrip() / rstrip()\n",
    "\n",
    "foo = \"    Lorem ipsum    \"\n",
    "\n",
    "foo_strip = foo.strip()\n",
    "foo_lstrip = foo.lstrip()\n",
    "foo_rstrip = foo.rstrip()\n",
    "\n",
    "print(\"foo:        |\", foo, \"|\", sep=\"\")\n",
    "print(\"foo_strip:  |\", foo_strip, \"|\", sep=\"\")\n",
    "print(\"foo_lstrip: |\", foo_lstrip, \"|\", sep=\"\")\n",
    "print(\"foo_rstrip: |\", foo_rstrip, \"|\", sep=\"\")"
   ]
  },
  {
   "cell_type": "code",
   "execution_count": 89,
   "metadata": {},
   "outputs": [
    {
     "name": "stdout",
     "output_type": "stream",
     "text": [
      "foo:                         images/picture.png\n",
      "bar:                         data/application.exe\n",
      "\n",
      "foo.removeprefix('images/'): picture.png\n",
      "foo.removesuffix('.png'):    images/picture\n",
      "\n",
      "bar.removeprefix('images/'): data/application.exe\n",
      "bar.removesuffix('.png'):    data/application.exe\n"
     ]
    }
   ],
   "source": [
    "# Использование методов removeprefix() / removesuffix()\n",
    "\n",
    "foo = \"images/picture.png\"\n",
    "bar = \"data/application.exe\"\n",
    "\n",
    "print(\"foo:                        \", foo)\n",
    "print(\"bar:                        \", bar)\n",
    "print()\n",
    "print(\"foo.removeprefix('images/'):\",foo.removeprefix('images/'))\n",
    "print(\"foo.removesuffix('.png'):   \", foo.removesuffix('.png'))\n",
    "print()\n",
    "print(\"bar.removeprefix('images/'):\", bar.removeprefix('images/'))\n",
    "print(\"bar.removesuffix('.png'):   \", bar.removesuffix('.png'))"
   ]
  },
  {
   "cell_type": "code",
   "execution_count": 1,
   "metadata": {},
   "outputs": [
    {
     "name": "stdout",
     "output_type": "stream",
     "text": [
      "bar:  Lorem ***** dolor sit amet,\n",
      "Lorem ***** dolor sit amet,\n",
      "Lorem ***** dolor sit amet.\n",
      "\n",
      "baz:  Lorem ***** dolor sit amet,\n",
      "Lorem ipsum dolor sit amet,\n",
      "Lorem ipsum dolor sit amet.\n"
     ]
    }
   ],
   "source": [
    "# Использование метода replace()\n",
    "\n",
    "foo = \"\"\"Lorem ipsum dolor sit amet,\n",
    "Lorem ipsum dolor sit amet,\n",
    "Lorem ipsum dolor sit amet.\"\"\"\n",
    "\n",
    "old = \"ipsum\"\n",
    "new = \"*****\"\n",
    "\n",
    "bar = foo.replace(old, new)\n",
    "baz = foo.replace(old, new, 1)\n",
    "\n",
    "print(\"bar: \", bar, end=\"\\n\\n\")\n",
    "print(\"baz: \", baz)"
   ]
  },
  {
   "cell_type": "code",
   "execution_count": 91,
   "metadata": {},
   "outputs": [
    {
     "name": "stdout",
     "output_type": "stream",
     "text": [
      "bar: ['a=10', 'b=20', 'c=30']\n"
     ]
    }
   ],
   "source": [
    "# Использование метода split()\n",
    "\n",
    "foo = \"a=10, b=20, c=30, d=40, e=50\"\n",
    "bar = foo.split(\", \")\n",
    "\n",
    "print(\"bar:\", bar)"
   ]
  },
  {
   "cell_type": "code",
   "execution_count": 92,
   "metadata": {},
   "outputs": [
    {
     "name": "stdout",
     "output_type": "stream",
     "text": [
      "foo: a=10, b=20, c=30\n"
     ]
    }
   ],
   "source": [
    "# Использование метода join()\n",
    "\n",
    "bar = [\"a=10\", \"b=20\", \"c=30\"]\n",
    "foo = \", \".join(bar)\n",
    "\n",
    "print(\"foo:\", foo)"
   ]
  },
  {
   "cell_type": "markdown",
   "metadata": {},
   "source": [
    "## printf-стиль форматирования строк"
   ]
  },
  {
   "cell_type": "code",
   "execution_count": 7,
   "metadata": {},
   "outputs": [
    {
     "name": "stdout",
     "output_type": "stream",
     "text": [
      "Целое число: 42; Число с плавающей точкой: 12.5; Строка: \"hello\".\n"
     ]
    }
   ],
   "source": [
    "# Плохой способ форматирования строк\n",
    "foo = 42\n",
    "bar = 12.5\n",
    "baz = \"hello\"\n",
    "\n",
    "spam = ('Целое число: ' + str(foo) + \n",
    "        '; Число с плавающей точкой: ' + str(bar) + \n",
    "        '; Строка: \"' + baz + '\".')\n",
    "print(spam)"
   ]
  },
  {
   "cell_type": "code",
   "execution_count": 8,
   "metadata": {},
   "outputs": [
    {
     "name": "stdout",
     "output_type": "stream",
     "text": [
      "Целое число: 42; Число с плавающей точкой: 12.500000; Строка: \"hello\".\n"
     ]
    }
   ],
   "source": [
    "foo = 42\n",
    "bar = 12.5\n",
    "baz = \"hello\"\n",
    "spam = ('Целое число: %d; Число с плавающей точкой: %f; Строка: \"%s\".'\n",
    "        % (foo, bar, baz))\n",
    "print(spam)"
   ]
  },
  {
   "cell_type": "code",
   "execution_count": 94,
   "metadata": {},
   "outputs": [
    {
     "name": "stdout",
     "output_type": "stream",
     "text": [
      "spam: f = 42; b = 12.500000; e = hello.\n"
     ]
    }
   ],
   "source": [
    "# Использование оператора \"%\" для форматирования строк\n",
    "\n",
    "foo = 42\n",
    "bar = 12.5\n",
    "eggs = \"hello\"\n",
    "\n",
    "spam = \"f = %d; b = %f; e = %s.\" % (foo, bar, eggs)\n",
    "print(\"spam:\", spam)"
   ]
  },
  {
   "cell_type": "code",
   "execution_count": 21,
   "metadata": {},
   "outputs": [
    {
     "name": "stdout",
     "output_type": "stream",
     "text": [
      "%d: 42\n",
      "%o: 52\n",
      "%x: 2a\n",
      "%X: 2A\n",
      "%f: 42.000000\n",
      "%e: 4.200000e+01\n",
      "%E: 4.200000E+01\n",
      "%g: 42\n",
      "\n"
     ]
    }
   ],
   "source": [
    "# Различные представления целых чисел\n",
    "foo = 42\n",
    "\n",
    "spam = \"\"\"%%d: %d\n",
    "%%o: %o\n",
    "%%x: %x\n",
    "%%X: %X\n",
    "%%f: %f\n",
    "%%e: %e\n",
    "%%E: %E\n",
    "%%g: %g\n",
    "\"\"\" % (foo, foo, foo, foo, foo, foo, foo, foo)\n",
    "\n",
    "print(spam)"
   ]
  },
  {
   "cell_type": "code",
   "execution_count": 22,
   "metadata": {},
   "outputs": [
    {
     "name": "stdout",
     "output_type": "stream",
     "text": [
      "%d: 42\n",
      "%o: 52\n",
      "%x: 2a\n",
      "%X: 2A\n",
      "%f: 42.000000\n",
      "%e: 4.200000e+01\n",
      "%E: 4.200000E+01\n",
      "%g: 42\n",
      "\n"
     ]
    }
   ],
   "source": [
    "foo = 42\n",
    "\n",
    "spam = \"\"\"%%d: %d\n",
    "%%o: %o\n",
    "%%x: %x\n",
    "%%X: %X\n",
    "%%f: %f\n",
    "%%e: %e\n",
    "%%E: %E\n",
    "%%g: %g\n",
    "\"\"\" % ((foo,) * 8)\n",
    "\n",
    "print(spam)"
   ]
  },
  {
   "cell_type": "code",
   "execution_count": 36,
   "metadata": {},
   "outputs": [
    {
     "name": "stdout",
     "output_type": "stream",
     "text": [
      "|%8d| :     |      42|\n",
      "|%-8d|:     |42      |\n",
      "|%+-8d|:    |+42     |\n",
      "|% -8d|:    | 42     |\n",
      "|%08d|:     |00000042|\n",
      "\n"
     ]
    }
   ],
   "source": [
    "foo = 42\n",
    "spam = \"\"\"|%%8d| :     |%8d|\n",
    "|%%-8d|:     |%-8d|\n",
    "|%%+-8d|:    |%+-8d|\n",
    "|%% -8d|:    |% -8d|\n",
    "|%%08d|:     |%08d|\n",
    "\"\"\" % ((foo,) * 5)\n",
    "print(spam)"
   ]
  },
  {
   "cell_type": "code",
   "execution_count": 45,
   "metadata": {},
   "outputs": [
    {
     "name": "stdout",
     "output_type": "stream",
     "text": [
      "-8146    -6998    -7218   \n",
      "1832     -4459    98      \n",
      "-1756    9856     -3046   \n",
      "9884     -8829    9045    \n",
      "-4810    4113     2896    \n",
      "6682     2192     7832    \n"
     ]
    }
   ],
   "source": [
    "from random import randint, seed\n",
    "\n",
    "template = \"%-8d %-8d %-8d\"\n",
    "seed(2)\n",
    "for n in range(6):\n",
    "    val1 = randint(-9999, 9999)\n",
    "    val2 = randint(-9999, 9999)\n",
    "    val3 = randint(-9999, 9999)\n",
    "    print(template % (val1, val2, val3))"
   ]
  },
  {
   "cell_type": "code",
   "execution_count": 46,
   "metadata": {},
   "outputs": [
    {
     "name": "stdout",
     "output_type": "stream",
     "text": [
      "-8146    -6998    -7218   \n",
      " 1832    -4459     98     \n",
      "-1756     9856    -3046   \n",
      " 9884    -8829     9045   \n",
      "-4810     4113     2896   \n",
      " 6682     2192     7832   \n"
     ]
    }
   ],
   "source": [
    "from random import randint\n",
    "\n",
    "template = \"% -8d % -8d % -8d\"\n",
    "seed(2)\n",
    "for n in range(6):\n",
    "    val1 = randint(-9999, 9999)\n",
    "    val2 = randint(-9999, 9999)\n",
    "    val3 = randint(-9999, 9999)\n",
    "    print(template % (val1, val2, val3))"
   ]
  },
  {
   "cell_type": "code",
   "execution_count": 47,
   "metadata": {},
   "outputs": [
    {
     "name": "stdout",
     "output_type": "stream",
     "text": [
      "-8146    -6998    -7218   \n",
      "+1832    -4459    +98     \n",
      "-1756    +9856    -3046   \n",
      "+9884    -8829    +9045   \n",
      "-4810    +4113    +2896   \n",
      "+6682    +2192    +7832   \n"
     ]
    }
   ],
   "source": [
    "from random import randint\n",
    "\n",
    "template = \"%+-8d %+-8d %+-8d\"\n",
    "seed(2)\n",
    "for n in range(6):\n",
    "    val1 = randint(-9999, 9999)\n",
    "    val2 = randint(-9999, 9999)\n",
    "    val3 = randint(-9999, 9999)\n",
    "    print(template % (val1, val2, val3))"
   ]
  },
  {
   "cell_type": "code",
   "execution_count": 50,
   "metadata": {},
   "outputs": [
    {
     "name": "stdout",
     "output_type": "stream",
     "text": [
      "|%14f| :     |     42.500000|\n",
      "|%-14f|:     |42.500000     |\n",
      "|%14.3f|:    |        42.500|\n",
      "|%-14.3f|:   |42.500        |\n",
      "|%+-14.3f|:  |+42.500       |\n",
      "|% -14.3f|:  | 42.500       |\n",
      "|%014.3f|:   |0000000042.500|\n",
      "\n"
     ]
    }
   ],
   "source": [
    "# Использование дополнительных параметров форматирования\n",
    "foo = 42.5\n",
    "spam = \"\"\"|%%14f| :     |%14f|\n",
    "|%%-14f|:     |%-14f|\n",
    "|%%14.3f|:    |%14.3f|\n",
    "|%%-14.3f|:   |%-14.3f|\n",
    "|%%+-14.3f|:  |%+-14.3f|\n",
    "|%% -14.3f|:  |% -14.3f|\n",
    "|%%014.3f|:   |%014.3f|\n",
    "\"\"\" % ((foo,) * 7)\n",
    "\n",
    "print(spam)"
   ]
  },
  {
   "cell_type": "code",
   "execution_count": 97,
   "metadata": {},
   "outputs": [
    {
     "name": "stdout",
     "output_type": "stream",
     "text": [
      "spam: f = 42; b = 12.500000; e = hello.\n"
     ]
    }
   ],
   "source": [
    "# Использование именованных параметров\n",
    "\n",
    "foo = 42\n",
    "bar = 12.5\n",
    "eggs = \"hello\"\n",
    "\n",
    "spam = (\"f = %(f)d; b = %(b)f; e = %(e)s.\" \n",
    "        % {\"e\": eggs, \"f\": foo, \"b\": bar})\n",
    "print(\"spam:\", spam)"
   ]
  },
  {
   "cell_type": "code",
   "execution_count": 98,
   "metadata": {},
   "outputs": [
    {
     "name": "stdout",
     "output_type": "stream",
     "text": [
      "1.000e+10        0.696        0.631\n",
      "1.020e+10       -0.645       -0.565\n",
      "1.040e+10        0.743       -0.867\n",
      "1.060e+10        0.519        0.092\n",
      "1.080e+10        0.855       -0.492\n",
      "1.100e+10       -0.307       -0.872\n",
      "1.120e+10       -0.524        0.276\n",
      "1.140e+10       -0.723        0.019\n",
      "1.160e+10        0.016       -0.543\n",
      "1.180e+10       -0.337       -0.611\n",
      "1.200e+10        0.121       -0.513\n"
     ]
    }
   ],
   "source": [
    "from numpy import linspace\n",
    "from numpy.random import rand\n",
    "\n",
    "freq = linspace(10e9, 12e9, 11)\n",
    "col1 = rand(len(freq)) * 2 - 1\n",
    "col2 = rand(len(freq)) * 2 - 1\n",
    "\n",
    "for f, c1, c2 in zip(freq, col1, col2):\n",
    "    print(\"%-15.3e %- 12.3f %- .3f\" % (f, c1, c2))"
   ]
  },
  {
   "cell_type": "markdown",
   "metadata": {},
   "source": [
    "## Использование str.format()"
   ]
  },
  {
   "cell_type": "code",
   "execution_count": 99,
   "metadata": {},
   "outputs": [
    {
     "name": "stdout",
     "output_type": "stream",
     "text": [
      "spam: f = 42; b = 12.5; e = hello.\n"
     ]
    }
   ],
   "source": [
    "# Использование метода str.format() для форматирования строк\n",
    "\n",
    "foo = 42\n",
    "bar = 12.5\n",
    "eggs = \"hello\"\n",
    "spam = \"f = {}; b = {}; e = {}.\".format(foo, bar, eggs)\n",
    "print(spam)"
   ]
  },
  {
   "cell_type": "code",
   "execution_count": 100,
   "metadata": {},
   "outputs": [
    {
     "name": "stdout",
     "output_type": "stream",
     "text": [
      "spam: f = 42; b = 12.5; e = hello; foo = 42.\n"
     ]
    }
   ],
   "source": [
    "# Использование нумерованных параметров\n",
    "\n",
    "foo = 42\n",
    "bar = 12.5\n",
    "eggs = \"hello\"\n",
    "spam = (\"f = {0}; b = {1}; e = {2}; foo = {0}.\"\n",
    "        .format(foo, bar, eggs))\n",
    "print(spam)"
   ]
  },
  {
   "cell_type": "code",
   "execution_count": 1,
   "metadata": {},
   "outputs": [
    {
     "name": "stdout",
     "output_type": "stream",
     "text": [
      "f = 42; b = 12.5; e = hello.\n"
     ]
    }
   ],
   "source": [
    "foo = 42\n",
    "bar = 12.5\n",
    "eggs = \"hello\"\n",
    "spam = (\"f = {val_f}; b = {val_b}; e = {val_e}.\"\n",
    "        .format(val_f=foo, val_e=eggs, val_b=bar))\n",
    "print(spam)"
   ]
  },
  {
   "cell_type": "code",
   "execution_count": null,
   "metadata": {},
   "outputs": [],
   "source": [
    "# Использование именованных параметров\n",
    "\n",
    "foo = 42\n",
    "bar = 12.5\n",
    "eggs = \"hello\"\n",
    "\n",
    "spam = (\"f = {foo}; b = {bar}; e = {spam}.\"\n",
    "        .format(foo=foo, spam=eggs, bar=bar))\n",
    "\n",
    "print(\"spam:\", spam)"
   ]
  },
  {
   "cell_type": "code",
   "execution_count": 8,
   "metadata": {},
   "outputs": [
    {
     "name": "stdout",
     "output_type": "stream",
     "text": [
      "{foo}: 0.425\n",
      "{foo:g}: 0.425\n",
      "{foo:f}: 0.425000\n",
      "{foo:e}: 4.250000e-01\n",
      "{foo:E}: 4.250000E-01\n",
      "{foo:%}: 42.500000%\n",
      "\n"
     ]
    }
   ],
   "source": [
    "# Различные представления чисел с плавающей точкой\n",
    "foo = 0.425\n",
    "spam = \"\"\"{{foo}}: {foo}\n",
    "{{foo:g}}: {foo:g}\n",
    "{{foo:f}}: {foo:f}\n",
    "{{foo:e}}: {foo:e}\n",
    "{{foo:E}}: {foo:E}\n",
    "{{foo:%}}: {foo:%}\n",
    "\"\"\".format(foo=foo)\n",
    "print(spam)"
   ]
  },
  {
   "cell_type": "code",
   "execution_count": 26,
   "metadata": {},
   "outputs": [
    {
     "name": "stdout",
     "output_type": "stream",
     "text": [
      "|{foo:14f}| :     |     42.500000|\n",
      "|{foo:14.3f}|:    |        42.500|\n",
      "|{foo:.3f}|:      |42.500|\n",
      "|{foo:<14f}|:     |42.500000     |\n",
      "|{foo:<14.3f}|:   |42.500        |\n",
      "|{foo:^14.3f}|:   |    42.500    |\n",
      "|{foo:<+14.3f}|:  |+42.500       |\n",
      "|{foo:< 14.3f}|:  | 42.500       |\n",
      "|{foo:<014.3f}|:  |42.50000000000|\n",
      "|{foo:014.3f}|:   |0000000042.500|\n",
      "|{foo:_<14.3f}|:  |42.500________|\n",
      "|{foo:.>14.3f}|:  |........42.500|\n",
      "|{foo:#^14.3f}|:  |####42.500####|\n",
      "\n"
     ]
    }
   ],
   "source": [
    "# Использование дополнительных параметров форматирования\n",
    "foo = 42.5\n",
    "spam = \"\"\"|{{foo:14f}}| :     |{foo:14f}|\n",
    "|{{foo:14.3f}}|:    |{foo:14.3f}|\n",
    "|{{foo:.3f}}|:      |{foo:.3f}|\n",
    "|{{foo:<14f}}|:     |{foo:<14f}|\n",
    "|{{foo:<14.3f}}|:   |{foo:<14.3f}|\n",
    "|{{foo:^14.3f}}|:   |{foo:^14.3f}|\n",
    "|{{foo:<+14.3f}}|:  |{foo:<+14.3f}|\n",
    "|{{foo:< 14.3f}}|:  |{foo:< 14.3f}|\n",
    "|{{foo:<014.3f}}|:  |{foo:<014.3f}|\n",
    "|{{foo:014.3f}}|:   |{foo:014.3f}|\n",
    "|{{foo:_<14.3f}}|:  |{foo:_<14.3f}|\n",
    "|{{foo:.>14.3f}}|:  |{foo:.>14.3f}|\n",
    "|{{foo:#^14.3f}}|:  |{foo:#^14.3f}|\n",
    "\"\"\".format(foo=foo)\n",
    "print(spam)"
   ]
  },
  {
   "cell_type": "code",
   "execution_count": 5,
   "metadata": {},
   "outputs": [
    {
     "name": "stdout",
     "output_type": "stream",
     "text": [
      "{foo}: 42\n",
      "{foo:d}: 42\n",
      "{foo:g}: 42\n",
      "{foo:b}: 101010\n",
      "{foo:o}: 52\n",
      "{foo:x}: 2a\n",
      "{foo:X}: 2A\n",
      "\n"
     ]
    }
   ],
   "source": [
    "# Различные представления целых чисел\n",
    "foo = 42\n",
    "spam = \"\"\"{{foo}}: {foo}\n",
    "{{foo:d}}: {foo:d}\n",
    "{{foo:g}}: {foo:g}\n",
    "{{foo:b}}: {foo:b}\n",
    "{{foo:o}}: {foo:o}\n",
    "{{foo:x}}: {foo:x}\n",
    "{{foo:X}}: {foo:X}\n",
    "\"\"\".format(foo=foo)\n",
    "print(spam)"
   ]
  },
  {
   "cell_type": "code",
   "execution_count": 33,
   "metadata": {},
   "outputs": [
    {
     "name": "stdout",
     "output_type": "stream",
     "text": [
      "bar: foo[0] = 10.100; foo[1] = 20.200\n",
      "baz: foo[0] = 10.100; foo[1] = 20.200\n",
      "bam: foo[0] = 10.100; foo[1] = 20.200\n"
     ]
    }
   ],
   "source": [
    "# Использование индексации\n",
    "foo = [10.1, 20.2, 40.3, 60.4]\n",
    "\n",
    "bar = \"foo[0] = {[0]:.3f}; foo[1] = {[1]:.3f}\".format(foo, foo)\n",
    "baz = \"foo[0] = {0[0]:.3f}; foo[1] = {0[1]:.3f}\".format(foo)\n",
    "bam = \"foo[0] = {foo[0]:.3f}; foo[1] = {foo[1]:.3f}\".format(foo=foo)\n",
    "\n",
    "print(\"bar:\", bar)\n",
    "print(\"baz:\", baz)\n",
    "print(\"bam:\", bam)"
   ]
  },
  {
   "cell_type": "code",
   "execution_count": 30,
   "metadata": {},
   "outputs": [
    {
     "name": "stdout",
     "output_type": "stream",
     "text": [
      "bar: foo[0] = 10.100; foo[1] = 20.200\n",
      "baz: foo[0] = 10.100; foo[1] = 20.200\n"
     ]
    }
   ],
   "source": [
    "from array import array\n",
    "\n",
    "foo = array(\"f\", [10.1, 20.2, 40.3, 60.4])\n",
    "\n",
    "bar = \"foo[0] = {0[0]:.3f}; foo[1] = {0[1]:.3f}\".format(foo)\n",
    "baz = \"foo[0] = {foo[0]:.3f}; foo[1] = {foo[1]:.3f}\".format(foo=foo)\n",
    "\n",
    "print(\"bar:\", bar)\n",
    "print(\"baz:\", baz)"
   ]
  },
  {
   "cell_type": "code",
   "execution_count": 27,
   "metadata": {},
   "outputs": [],
   "source": [
    "# Использование индексации\n",
    "foo = [10.1, 20.2, 40.3, 60.4]\n",
    "\n",
    "# Ошибка! Отрицательные индексы не работают\n",
    "#bar = \"foo[-1] = {foo[-1]}\".format(foo=foo)"
   ]
  },
  {
   "cell_type": "code",
   "execution_count": 107,
   "metadata": {},
   "outputs": [
    {
     "name": "stdout",
     "output_type": "stream",
     "text": [
      "1.000e+10      -0.363      -0.491\n",
      "1.020e+10       0.740       0.548\n",
      "1.040e+10      -0.546       0.314\n",
      "1.060e+10       0.490      -0.970\n",
      "1.080e+10       0.290       0.519\n",
      "1.100e+10       0.856       0.150\n",
      "1.120e+10       0.776      -0.268\n",
      "1.140e+10      -0.560      -0.354\n",
      "1.160e+10       0.125       0.578\n",
      "1.180e+10      -0.908       0.276\n",
      "1.200e+10       0.203      -0.369\n"
     ]
    }
   ],
   "source": [
    "from numpy import linspace\n",
    "from numpy.random import rand\n",
    "\n",
    "freq = linspace(10e9, 12e9, 11)\n",
    "col1 = rand(len(freq)) * 2 - 1\n",
    "col2 = rand(len(freq)) * 2 - 1\n",
    "\n",
    "for f, c1, c2 in zip(freq, col1, col2):\n",
    "    print(\"{freq:<15.3e}{col1:< 12.3f}{col2:< .3f}\"\n",
    "        .format(freq=f, col1=c1, col2=c2))"
   ]
  },
  {
   "cell_type": "markdown",
   "metadata": {},
   "source": [
    "## f-строки"
   ]
  },
  {
   "cell_type": "code",
   "execution_count": 2,
   "metadata": {},
   "outputs": [
    {
     "name": "stdout",
     "output_type": "stream",
     "text": [
      "foo: 2 x 2 = 4\n"
     ]
    }
   ],
   "source": [
    "# Использование f-строк\n",
    "foo = f\"2 x 2 = {2 * 2}\"\n",
    "\n",
    "print(\"foo:\", foo)"
   ]
  },
  {
   "cell_type": "code",
   "execution_count": 34,
   "metadata": {},
   "outputs": [
    {
     "data": {
      "text/plain": [
       "'foo = 42; bar = 12.5; eggs = hello.'"
      ]
     },
     "execution_count": 34,
     "metadata": {},
     "output_type": "execute_result"
    }
   ],
   "source": [
    "foo = 42\n",
    "bar = 12.5\n",
    "eggs = \"hello\"\n",
    "\n",
    "spam = (\"foo = {foo}; bar = {bar}; eggs = {eggs}.\"\n",
    "        .format(foo=foo, bar=bar, eggs=eggs))\n",
    "spam"
   ]
  },
  {
   "cell_type": "code",
   "execution_count": 108,
   "metadata": {},
   "outputs": [
    {
     "name": "stdout",
     "output_type": "stream",
     "text": [
      "spam: foo = 42; bar = 12.5; eggs = hello.\n"
     ]
    }
   ],
   "source": [
    "# Использование f-строк\n",
    "\n",
    "foo = 42\n",
    "bar = 12.5\n",
    "eggs = \"hello\"\n",
    "\n",
    "spam = f\"foo = {foo}; bar = {bar}; eggs = {eggs}.\"\n",
    "print(\"spam:\", spam)"
   ]
  },
  {
   "cell_type": "code",
   "execution_count": 109,
   "metadata": {},
   "outputs": [
    {
     "name": "stdout",
     "output_type": "stream",
     "text": [
      "{foo}: 42\n",
      "{foo:d}: 42\n",
      "{foo:b}: 101010\n",
      "{foo:o}: 52\n",
      "{foo:x}: 2a\n",
      "{foo:X}: 2A\n",
      "\n"
     ]
    }
   ],
   "source": [
    "# Различные представления целых чисел\n",
    "foo = 42\n",
    "spam = f\"\"\"{{foo}}: {foo}\n",
    "{{foo:d}}: {foo:d}\n",
    "{{foo:b}}: {foo:b}\n",
    "{{foo:o}}: {foo:o}\n",
    "{{foo:x}}: {foo:x}\n",
    "{{foo:X}}: {foo:X}\n",
    "\"\"\"\n",
    "print(spam)"
   ]
  },
  {
   "cell_type": "code",
   "execution_count": 110,
   "metadata": {},
   "outputs": [
    {
     "name": "stdout",
     "output_type": "stream",
     "text": [
      "{foo}: 0.425\n",
      "{foo:g}: 0.425\n",
      "{foo:f}: 0.425000\n",
      "{foo:e}: 4.250000e-01\n",
      "{foo:E}: 4.250000E-01\n",
      "{foo:%}: 42.500000%\n",
      "\n"
     ]
    }
   ],
   "source": [
    "# Различные представления чисел с плавающей точкой\n",
    "foo = 0.425\n",
    "\n",
    "spam = f\"\"\"{{foo}}: {foo}\n",
    "{{foo:g}}: {foo:g}\n",
    "{{foo:f}}: {foo:f}\n",
    "{{foo:e}}: {foo:e}\n",
    "{{foo:E}}: {foo:E}\n",
    "{{foo:%}}: {foo:%}\n",
    "\"\"\"\n",
    "\n",
    "print(spam)"
   ]
  },
  {
   "cell_type": "code",
   "execution_count": 35,
   "metadata": {},
   "outputs": [
    {
     "name": "stdout",
     "output_type": "stream",
     "text": [
      "|{foo:14f}| :     |     42.500000|\n",
      "|{foo:<14f}|:     |42.500000     |\n",
      "|{foo:14.3f}|:    |        42.500|\n",
      "|{foo:<14.3f}|:   |42.500        |\n",
      "|{foo:^14.3f}|:   |    42.500    |\n",
      "|{foo:<+14.3f}|:  |+42.500       |\n",
      "|{foo:< 14.3f}|:  | 42.500       |\n",
      "|{foo:<014.3f}|:  |42.50000000000|\n",
      "|{foo:014.3f}|:   |0000000042.500|\n",
      "|{foo:_<14.3f}|:  |42.500________|\n",
      "|{foo:.>14.3f}|:  |........42.500|\n",
      "|{foo:#^14.3f}|:  |####42.500####|\n",
      "\n"
     ]
    }
   ],
   "source": [
    "# Использование дополнительных параметров форматирования\n",
    "foo = 42.5\n",
    "spam = f\"\"\"|{{foo:14f}}| :     |{foo:14f}|\n",
    "|{{foo:<14f}}|:     |{foo:<14f}|\n",
    "|{{foo:14.3f}}|:    |{foo:14.3f}|\n",
    "|{{foo:<14.3f}}|:   |{foo:<14.3f}|\n",
    "|{{foo:^14.3f}}|:   |{foo:^14.3f}|\n",
    "|{{foo:<+14.3f}}|:  |{foo:<+14.3f}|\n",
    "|{{foo:< 14.3f}}|:  |{foo:< 14.3f}|\n",
    "|{{foo:<014.3f}}|:  |{foo:<014.3f}|\n",
    "|{{foo:014.3f}}|:   |{foo:014.3f}|\n",
    "|{{foo:_<14.3f}}|:  |{foo:_<14.3f}|\n",
    "|{{foo:.>14.3f}}|:  |{foo:.>14.3f}|\n",
    "|{{foo:#^14.3f}}|:  |{foo:#^14.3f}|\n",
    "\"\"\"\n",
    "print(spam)"
   ]
  },
  {
   "cell_type": "code",
   "execution_count": 112,
   "metadata": {},
   "outputs": [
    {
     "name": "stdout",
     "output_type": "stream",
     "text": [
      "bar: foo[0] = 10.100; foo[-1] = 60.400\n"
     ]
    }
   ],
   "source": [
    "# Использование индексации\n",
    "# можно использовать отрицательные индексы\n",
    "foo = [10.1, 20.2, 40.3, 60.4]\n",
    "\n",
    "bar = f\"foo[0] = {foo[0]:.3f}; foo[-1] = {foo[-1]:.3f}\"\n",
    "\n",
    "print(\"bar:\", bar)"
   ]
  },
  {
   "cell_type": "code",
   "execution_count": 113,
   "metadata": {},
   "outputs": [
    {
     "name": "stdout",
     "output_type": "stream",
     "text": [
      "bar: foo['key1'] = 20.5\n",
      "foo['key2'] = 42\n",
      "foo['key3'] = None\n"
     ]
    }
   ],
   "source": [
    "# Доступ к элементам словаря\n",
    "foo = {\"key1\": 20.5, \"key2\": 42, \"key3\": None}\n",
    "\n",
    "bar = f\"\"\"foo['key1'] = {foo['key1']}\n",
    "foo['key2'] = {foo['key2']}\n",
    "foo['key3'] = {foo['key3']}\"\"\"\n",
    "\n",
    "print(f\"bar: {bar}\")"
   ]
  },
  {
   "cell_type": "code",
   "execution_count": 36,
   "metadata": {},
   "outputs": [
    {
     "name": "stdout",
     "output_type": "stream",
     "text": [
      "Частота: 10.500 ГГц.\n",
      "Длина волны: 28.571 мм\n"
     ]
    }
   ],
   "source": [
    "# Использование выражений в f-строках\n",
    "\n",
    "freq = 10.5e9\n",
    "c = 3e8\n",
    "foo = f\"\"\"Частота: {freq / 1e9:.3f} ГГц.\n",
    "Длина волны: {c / freq * 1e3:.3f} мм\"\"\"\n",
    "print(foo)"
   ]
  },
  {
   "cell_type": "code",
   "execution_count": 115,
   "metadata": {},
   "outputs": [
    {
     "name": "stdout",
     "output_type": "stream",
     "text": [
      "Коэффициент усиления: 1.00e+04 или 40.000 дБ\n"
     ]
    }
   ],
   "source": [
    "# Вызов функций в f-строках\n",
    "\n",
    "from math import log10\n",
    "gain = 10e3\n",
    "\n",
    "foo = f\"Коэффициент усиления: {gain:.2e} или {10 * log10(gain):.3f} дБ\"\n",
    "print(foo)"
   ]
  },
  {
   "cell_type": "code",
   "execution_count": 116,
   "metadata": {},
   "outputs": [
    {
     "name": "stdout",
     "output_type": "stream",
     "text": [
      "hello.lower(): hello\n",
      "hello.upper(): HELLO\n"
     ]
    }
   ],
   "source": [
    "# Использование методов класса\n",
    "hello = \"Hello\"\n",
    "\n",
    "foo = f\"hello.lower(): {hello.lower()}\\nhello.upper(): {hello.upper()}\"\n",
    "print(foo)"
   ]
  },
  {
   "cell_type": "code",
   "execution_count": 117,
   "metadata": {},
   "outputs": [
    {
     "name": "stdout",
     "output_type": "stream",
     "text": [
      "foo: hello, world, spam\n"
     ]
    }
   ],
   "source": [
    "# Использование методов класса\n",
    "foo = [\"hello\", \"world\", \"spam\"]\n",
    "\n",
    "bar = f\"foo: {', '.join(foo)}\"\n",
    "print(bar)"
   ]
  },
  {
   "cell_type": "code",
   "execution_count": 39,
   "metadata": {},
   "outputs": [
    {
     "name": "stdout",
     "output_type": "stream",
     "text": [
      "Lower: lorem ipsum\n",
      "Upper: LOREM IPSUM\n",
      "foo: hello, world, spam\n"
     ]
    }
   ],
   "source": [
    "text = \"Lorem Ipsum\"\n",
    "spam = f\"\"\"Lower: {text.lower()}\n",
    "Upper: {text.upper()}\"\"\"\n",
    "print(spam)\n",
    "\n",
    "foo = [\"hello\", \"world\", \"spam\"]\n",
    "eggs = f\"foo: {', '.join(foo)}\"\n",
    "print(eggs)"
   ]
  },
  {
   "cell_type": "code",
   "execution_count": 118,
   "metadata": {},
   "outputs": [
    {
     "name": "stdout",
     "output_type": "stream",
     "text": [
      "foo: 10, 20, 30\n"
     ]
    }
   ],
   "source": [
    "# Использование методов класса\n",
    "foo = [10, 20, 30]\n",
    "foo_str = [str(item) for item in foo]\n",
    "\n",
    "bar = f\"foo: {', '.join(foo_str)}\"\n",
    "print(bar)"
   ]
  },
  {
   "cell_type": "code",
   "execution_count": 119,
   "metadata": {},
   "outputs": [
    {
     "name": "stdout",
     "output_type": "stream",
     "text": [
      "foo: 10, 20, 30\n"
     ]
    }
   ],
   "source": [
    "foo = [10, 20, 30]\n",
    "\n",
    "bar = f\"foo: {', '.join([str(item) for item in foo])}\"\n",
    "print(bar)"
   ]
  },
  {
   "cell_type": "code",
   "execution_count": 120,
   "metadata": {},
   "outputs": [
    {
     "name": "stdout",
     "output_type": "stream",
     "text": [
      "10\n",
      "hello\n",
      "    20.500\n",
      "\n",
      "foo=10\n",
      "bar='hello'\n",
      "baz=    20.500\n"
     ]
    }
   ],
   "source": [
    "# Использование режима отладки\n",
    "foo = 10\n",
    "bar = \"hello\"\n",
    "baz = 20.5\n",
    "\n",
    "eggs = f\"{foo}\\n{bar}\\n{baz:10.3f}\"\n",
    "spam = f\"{foo=}\\n{bar=}\\n{baz=:10.3f}\"\n",
    "\n",
    "print(eggs)\n",
    "print()\n",
    "print(spam)"
   ]
  },
  {
   "cell_type": "code",
   "execution_count": 40,
   "metadata": {},
   "outputs": [
    {
     "name": "stdout",
     "output_type": "stream",
     "text": [
      "foo=10\n",
      "bar='hello'\n",
      "baz=    20.500\n"
     ]
    }
   ],
   "source": [
    "foo = 10\n",
    "bar = \"hello\"\n",
    "baz = 20.5\n",
    "spam = f\"\"\"{foo=}\n",
    "{bar=}\n",
    "{baz=:10.3f}\"\"\"\n",
    "print(spam)"
   ]
  },
  {
   "cell_type": "code",
   "execution_count": 41,
   "metadata": {},
   "outputs": [
    {
     "name": "stdout",
     "output_type": "stream",
     "text": [
      "1.000e+10      -0.128       0.058\n",
      "1.020e+10      -0.948      -0.731\n",
      "1.040e+10       0.099       0.027\n",
      "1.060e+10      -0.129      -0.631\n",
      "1.080e+10      -0.159       0.571\n",
      "1.100e+10      -0.339       0.708\n",
      "1.120e+10      -0.591      -0.012\n",
      "1.140e+10       0.239       0.693\n",
      "1.160e+10      -0.401      -0.841\n",
      "1.180e+10      -0.466       0.010\n",
      "1.200e+10       0.242      -0.869\n"
     ]
    }
   ],
   "source": [
    "from numpy import linspace\n",
    "from numpy.random import rand, seed\n",
    "\n",
    "seed(2)\n",
    "freq = linspace(10e9, 12e9, 11)\n",
    "col1 = rand(len(freq)) * 2 - 1\n",
    "col2 = rand(len(freq)) * 2 - 1\n",
    "\n",
    "for f, c1, c2 in zip(freq, col1, col2):\n",
    "    print(f\"{f:<15.3e}{c1:< 12.3f}{c2:< .3f}\")"
   ]
  },
  {
   "cell_type": "code",
   "execution_count": 54,
   "metadata": {},
   "outputs": [
    {
     "name": "stdout",
     "output_type": "stream",
     "text": [
      "1.000e+09       0.912\n",
      "1.200e+09       0.896\n",
      "1.400e+09      -0.887\n",
      "1.600e+09      -0.830\n",
      "1.800e+09       0.671\n",
      "2.000e+09       0.472\n"
     ]
    }
   ],
   "source": [
    "from random import seed, uniform\n",
    "\n",
    "seed(2)\n",
    "freq = [1e9 + 0.2e9 * n for n in range(6)]\n",
    "val = [uniform(-1, 1) for _ in freq]\n",
    "\n",
    "for f, v in zip(freq, val1):\n",
    "    print(f\"{f:<15.3e}{v:< .3f}\")"
   ]
  },
  {
   "cell_type": "code",
   "execution_count": 58,
   "metadata": {},
   "outputs": [
    {
     "name": "stdout",
     "output_type": "stream",
     "text": [
      "1.000e+09       0.912\n",
      "1.200e+09       0.896\n",
      "1.400e+09      -0.887\n",
      "1.600e+09      -0.830\n",
      "1.800e+09       0.671\n",
      "2.000e+09       0.472\n"
     ]
    }
   ],
   "source": [
    "from random import seed, uniform\n",
    "\n",
    "width = 15\n",
    "prec = 3\n",
    "\n",
    "seed(2)\n",
    "freq = [1e9 + 0.2e9 * n for n in range(6)]\n",
    "val = [uniform(-1, 1) for _ in freq]\n",
    "\n",
    "for f, v in zip(freq, val1):\n",
    "    print(f\"{f:<{width}.{prec}e}{v:< .{prec}f}\")"
   ]
  },
  {
   "cell_type": "code",
   "execution_count": 59,
   "metadata": {},
   "outputs": [
    {
     "name": "stdout",
     "output_type": "stream",
     "text": [
      "1.000e+09          0.912\n",
      "1.200e+09          0.896\n",
      "1.400e+09         -0.887\n",
      "1.600e+09         -0.830\n",
      "1.800e+09          0.671\n",
      "2.000e+09          0.472\n"
     ]
    }
   ],
   "source": [
    "from random import seed, uniform\n",
    "\n",
    "width = 15\n",
    "prec = 3\n",
    "\n",
    "seed(2)\n",
    "freq = [1e9 + 0.2e9 * n for n in range(6)]\n",
    "val = [uniform(-1, 1) for _ in freq]\n",
    "\n",
    "for f, v in zip(freq, val1):\n",
    "    print(f\"{f:<{width + 3}.{prec}e}{v:< .{prec}f}\")"
   ]
  },
  {
   "cell_type": "code",
   "execution_count": 45,
   "metadata": {},
   "outputs": [
    {
     "name": "stdout",
     "output_type": "stream",
     "text": [
      "1.0000e+10          -0.1280           0.0583\n",
      "1.0200e+10          -0.9481          -0.7308\n",
      "1.0400e+10           0.0993           0.0272\n",
      "1.0600e+10          -0.1294          -0.6311\n",
      "1.0800e+10          -0.1593           0.5707\n",
      "1.1000e+10          -0.3393           0.7080\n",
      "1.1200e+10          -0.5907          -0.0115\n",
      "1.1400e+10           0.2385           0.6931\n",
      "1.1600e+10          -0.4007          -0.8407\n",
      "1.1800e+10          -0.4663           0.0105\n",
      "1.2000e+10           0.2423          -0.8694\n"
     ]
    }
   ],
   "source": [
    "# Использование переменной для задания точности\n",
    "\n",
    "from numpy import linspace\n",
    "from numpy.random import rand, seed\n",
    "\n",
    "width = 17\n",
    "prec = 4\n",
    "\n",
    "seed(2)\n",
    "freq = linspace(10e9, 12e9, 11)\n",
    "col1 = rand(len(freq)) * 2 - 1\n",
    "col2 = rand(len(freq)) * 2 - 1\n",
    "\n",
    "for f, c1, c2 in zip(freq, col1, col2):\n",
    "    print(f\"{f:<{width + 3}.{prec}e}{c1:< {width}.{prec}f}{c2: .{prec}f}\")"
   ]
  },
  {
   "cell_type": "code",
   "execution_count": 42,
   "metadata": {},
   "outputs": [
    {
     "name": "stdout",
     "output_type": "stream",
     "text": [
      "1.0000e+10          -0.1280           0.0583\n",
      "1.0200e+10          -0.9481          -0.7308\n",
      "1.0400e+10           0.0993           0.0272\n",
      "1.0600e+10          -0.1294          -0.6311\n",
      "1.0800e+10          -0.1593           0.5707\n",
      "1.1000e+10          -0.3393           0.7080\n",
      "1.1200e+10          -0.5907          -0.0115\n",
      "1.1400e+10           0.2385           0.6931\n",
      "1.1600e+10          -0.4007          -0.8407\n",
      "1.1800e+10          -0.4663           0.0105\n",
      "1.2000e+10           0.2423          -0.8694\n"
     ]
    }
   ],
   "source": [
    "# Использование переменной для задания точности\n",
    "\n",
    "from numpy import linspace\n",
    "from numpy.random import rand, seed\n",
    "\n",
    "width = 17\n",
    "prec = 4\n",
    "\n",
    "seed(2)\n",
    "freq = linspace(10e9, 12e9, 11)\n",
    "col1 = rand(len(freq)) * 2 - 1\n",
    "col2 = rand(len(freq)) * 2 - 1\n",
    "\n",
    "for f, c1, c2 in zip(freq, col1, col2):\n",
    "    print(f\"{f:<{width + 3}.{prec}e}{c1:< {width}.{prec}f}{c2: .{prec}f}\")"
   ]
  },
  {
   "cell_type": "code",
   "execution_count": null,
   "metadata": {},
   "outputs": [],
   "source": []
  }
 ],
 "metadata": {
  "kernelspec": {
   "display_name": "Python 3",
   "language": "python",
   "name": "python3"
  },
  "language_info": {
   "codemirror_mode": {
    "name": "ipython",
    "version": 3
   },
   "file_extension": ".py",
   "mimetype": "text/x-python",
   "name": "python",
   "nbconvert_exporter": "python",
   "pygments_lexer": "ipython3",
   "version": "3.12.4"
  }
 },
 "nbformat": 4,
 "nbformat_minor": 2
}
