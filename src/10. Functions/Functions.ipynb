{
 "cells": [
  {
   "cell_type": "markdown",
   "metadata": {},
   "source": [
    "## Объявление функций"
   ]
  },
  {
   "cell_type": "code",
   "execution_count": 29,
   "metadata": {},
   "outputs": [
    {
     "name": "stdout",
     "output_type": "stream",
     "text": [
      "Hello, world!\n",
      "Hello, Guido!\n"
     ]
    }
   ],
   "source": [
    "# Функция без параметров. Возвращает None.\n",
    "def hello_world():\n",
    "    print(\"Hello, world!\")\n",
    "\n",
    "# Функция с одним параметром. Возвращает None.\n",
    "def hello(name):\n",
    "    print(f\"Hello, {name}!\")\n",
    "    \n",
    "# Функция с двумя параметрами.\n",
    "def add(a, b):\n",
    "    c = a + b\n",
    "    return c\n",
    "\n",
    "# Функция с двумя параметрами. \n",
    "# Возвращает кортеж из двух значений.\n",
    "def add_sub(a, b):\n",
    "    s = a + b\n",
    "    d = a - b\n",
    "    return (s, d)\n",
    "\n",
    "hello_world()\n",
    "hello(\"Guido\")\n",
    "foo = add(4, 2)\n",
    "bar, baz = add_sub(4, 2)"
   ]
  },
  {
   "cell_type": "code",
   "execution_count": 30,
   "metadata": {},
   "outputs": [
    {
     "name": "stdout",
     "output_type": "stream",
     "text": [
      "Hello, world!\n",
      "Hello, Guido!\n"
     ]
    }
   ],
   "source": [
    "def hello_world(): print(\"Hello, world!\")\n",
    "\n",
    "def hello(name): print(f\"Hello, {name}!\")\n",
    "\n",
    "hello_world()\n",
    "hello(\"Guido\")"
   ]
  },
  {
   "cell_type": "code",
   "execution_count": 31,
   "metadata": {},
   "outputs": [
    {
     "name": "stdout",
     "output_type": "stream",
     "text": [
      "Hello, world!\n",
      "Hello, Guido!\n"
     ]
    }
   ],
   "source": [
    "def hello_world():\n",
    "    print(\"Hello, world!\")\n",
    "    return None\n",
    "\n",
    "def hello(name):\n",
    "    print(f\"Hello, {name}!\")\n",
    "    return None\n",
    "\n",
    "hello_world()\n",
    "hello(\"Guido\")"
   ]
  },
  {
   "cell_type": "code",
   "execution_count": 32,
   "metadata": {},
   "outputs": [
    {
     "name": "stdout",
     "output_type": "stream",
     "text": [
      "result_1=None\n",
      "result_2=(2.610317298281767, -1.2769839649484336)\n"
     ]
    }
   ],
   "source": [
    "from math import sqrt\n",
    "\n",
    "def equation(a, b, c):\n",
    "    D = b ** 2 - 4 * a * c\n",
    "    if D < 0:\n",
    "        return\n",
    "    x1 = (-b + sqrt(D)) / (2 * a)\n",
    "    x2 = (-b - sqrt(D)) / (2 * a)\n",
    "    return (x1, x2)\n",
    "\n",
    "result_1 = equation(1.5, -2, 5.0)\n",
    "result_2 = equation(1.5, -2, -5.0)\n",
    "\n",
    "print(f\"{result_1=}\")\n",
    "print(f\"{result_2=}\")"
   ]
  },
  {
   "cell_type": "code",
   "execution_count": 33,
   "metadata": {},
   "outputs": [
    {
     "name": "stdout",
     "output_type": "stream",
     "text": [
      "result_1=None\n",
      "result_2=(2.610317298281767, -1.2769839649484336)\n"
     ]
    }
   ],
   "source": [
    "from math import sqrt\n",
    "\n",
    "def equation(a, b, c):\n",
    "    D = b ** 2 - 4 * a * c\n",
    "    if D >= 0:\n",
    "        x1 = (-b + sqrt(D)) / (2 * a)\n",
    "        x2 = (-b - sqrt(D)) / (2 * a)\n",
    "        return (x1, x2)\n",
    "\n",
    "result_1 = equation(1.5, -2, 5.0)\n",
    "result_2 = equation(1.5, -2, -5.0)\n",
    "\n",
    "print(f\"{result_1=}\")\n",
    "print(f\"{result_2=}\")"
   ]
  },
  {
   "cell_type": "code",
   "execution_count": 34,
   "metadata": {},
   "outputs": [
    {
     "name": "stdout",
     "output_type": "stream",
     "text": [
      "result_1=None\n",
      "result_2=(2.610317298281767, -1.2769839649484336)\n"
     ]
    }
   ],
   "source": [
    "from math import sqrt\n",
    "\n",
    "def equation(a, b, c):\n",
    "    D = b ** 2 - 4 * a * c\n",
    "    if D >= 0:\n",
    "        x1 = (-b + sqrt(D)) / (2 * a)\n",
    "        x2 = (-b - sqrt(D)) / (2 * a)\n",
    "        return (x1, x2)\n",
    "    return None\n",
    "\n",
    "result_1 = equation(1.5, -2, 5.0)\n",
    "result_2 = equation(1.5, -2, -5.0)\n",
    "\n",
    "print(f\"{result_1=}\")\n",
    "print(f\"{result_2=}\")"
   ]
  },
  {
   "cell_type": "code",
   "execution_count": 35,
   "metadata": {},
   "outputs": [
    {
     "name": "stdout",
     "output_type": "stream",
     "text": [
      "Hello, world!\n",
      "Hello, Guido!\n"
     ]
    }
   ],
   "source": [
    "def hello_world():\n",
    "    \"\"\"Функция без параметров. Возвращает None.\"\"\"\n",
    "    print(\"Hello, world!\")\n",
    "\n",
    "def hello(name):\n",
    "    \"\"\"Функция с одним параметром. Возвращает None.\"\"\"\n",
    "    print(f\"Hello, {name}!\")\n",
    "    \n",
    "def add(a, b):\n",
    "    \"\"\"Функция с двумя параметрами.\"\"\"\n",
    "    c = a + b\n",
    "    return c\n",
    "\n",
    "def add_sub(a, b):\n",
    "    \"\"\"Функция с двумя параметрами. \n",
    "    Возвращает кортеж из двух значений.\"\"\"\n",
    "    s = a + b\n",
    "    d = a - b\n",
    "    return (s, d)\n",
    "\n",
    "hello_world()\n",
    "hello(\"Guido\")\n",
    "foo = add(4, 2)\n",
    "bar, baz = add_sub(4, 2)"
   ]
  },
  {
   "cell_type": "code",
   "execution_count": 36,
   "metadata": {},
   "outputs": [
    {
     "name": "stdout",
     "output_type": "stream",
     "text": [
      "foo=30\n",
      "bar=(23.5+2j)\n",
      "baz='hello world'\n",
      "spam=[10, 20, 30, 'hello', 'world']\n"
     ]
    }
   ],
   "source": [
    "# Демонстрация \"утиной\" типизации\n",
    "def add(a, b):\n",
    "    return a + b\n",
    "\n",
    "foo = add(10, 20)\n",
    "bar = add(3+2j, 20.5)\n",
    "baz = add(\"hello \", \"world\")\n",
    "spam = add([10, 20, 30], [\"hello\", \"world\"])\n",
    "\n",
    "print(f\"{foo=}\", f\"{bar=}\", f\"{baz=}\", f\"{spam=}\", sep=\"\\n\")"
   ]
  },
  {
   "cell_type": "code",
   "execution_count": 37,
   "metadata": {},
   "outputs": [
    {
     "name": "stdout",
     "output_type": "stream",
     "text": [
      "230\n"
     ]
    }
   ],
   "source": [
    "def calc(a, b, c):\n",
    "    return a * b + c\n",
    "\n",
    "print(calc(10, 20, 30))"
   ]
  },
  {
   "cell_type": "code",
   "execution_count": 38,
   "metadata": {},
   "outputs": [],
   "source": [
    "# Демонстрация \"утиной\" типизации\n",
    "def add(a, b):\n",
    "    return a + b\n",
    "\n",
    "# Ошибка!\n",
    "# foo = add(10, \"hello\")"
   ]
  },
  {
   "cell_type": "code",
   "execution_count": 39,
   "metadata": {},
   "outputs": [],
   "source": [
    "# Демонстрация ошибок работы с функциями\n",
    "def add(a, b):\n",
    "    return a + b\n",
    "\n",
    "# Ошибка! Не указан обязательный параметр\n",
    "# foo = add(10)"
   ]
  },
  {
   "cell_type": "code",
   "execution_count": 40,
   "metadata": {},
   "outputs": [],
   "source": [
    "# Демонстрация ошибок работы с функциями\n",
    "def add(a, b):\n",
    "    return a + b\n",
    "\n",
    "# Ошибка! Передается лишний параметр\n",
    "# foo = add(10, 20, 30)"
   ]
  },
  {
   "cell_type": "code",
   "execution_count": 41,
   "metadata": {},
   "outputs": [
    {
     "name": "stdout",
     "output_type": "stream",
     "text": [
      "Hello, world - 1!\n",
      "Hello, world - 2!\n",
      "Hello, world - 3!\n",
      "foo=None\n",
      "bar=None\n",
      "baz=None\n"
     ]
    }
   ],
   "source": [
    "# Все эти функции возвращают None\n",
    "\n",
    "def hello_world_1():\n",
    "    print(\"Hello, world - 1!\")\n",
    "    \n",
    "def hello_world_2():\n",
    "    print(\"Hello, world - 2!\")\n",
    "    return None\n",
    "\n",
    "def hello_world_3():\n",
    "    print(\"Hello, world - 3!\")\n",
    "    return\n",
    "\n",
    "foo = hello_world_1()\n",
    "bar = hello_world_2()\n",
    "baz = hello_world_3()\n",
    "\n",
    "print(f\"{foo=}\")\n",
    "print(f\"{bar=}\")\n",
    "print(f\"{baz=}\")"
   ]
  },
  {
   "cell_type": "code",
   "execution_count": 42,
   "metadata": {},
   "outputs": [
    {
     "name": "stdout",
     "output_type": "stream",
     "text": [
      "foo=3.0\n",
      "bar=None\n"
     ]
    }
   ],
   "source": [
    "from math import sqrt\n",
    "\n",
    "def sum_sqrt(x, y):\n",
    "    \"\"\"Пример функции, которая возвращает\n",
    "    разные типы в зависимости от условий.\"\"\"\n",
    "    if x + y < 0:\n",
    "        return\n",
    "    \n",
    "    return sqrt(x + y)\n",
    "\n",
    "foo = sum_sqrt(2, 7)\n",
    "bar = sum_sqrt(2, -7)\n",
    "\n",
    "print(f\"{foo=}\")\n",
    "print(f\"{bar=}\")"
   ]
  },
  {
   "cell_type": "code",
   "execution_count": 43,
   "metadata": {},
   "outputs": [
    {
     "name": "stdout",
     "output_type": "stream",
     "text": [
      "spam=(13, 7)\n",
      "foo=13\n",
      "bar=7\n"
     ]
    }
   ],
   "source": [
    "# Пример с распаковкой возвращаемых значений\n",
    "\n",
    "def add_sub(a, b):\n",
    "    \"\"\"Функция с двумя параметрами. \n",
    "    Возвращает кортеж из двух значений.\"\"\"\n",
    "    s = a + b\n",
    "    d = a - b\n",
    "    return (s, d)\n",
    "\n",
    "spam = add_sub(10, 3)\n",
    "foo, bar = add_sub(10, 3)\n",
    "\n",
    "print(f\"{spam=}\")\n",
    "print(f\"{foo=}\")\n",
    "print(f\"{bar=}\")"
   ]
  },
  {
   "cell_type": "code",
   "execution_count": 44,
   "metadata": {},
   "outputs": [
    {
     "name": "stdout",
     "output_type": "stream",
     "text": [
      "foo=20\n",
      "bar=20\n",
      "baz=20\n",
      "spam=20\n"
     ]
    }
   ],
   "source": [
    "# Использование именованных параметров\n",
    "\n",
    "def sub(a, b):\n",
    "    return a - b\n",
    "\n",
    "foo = sub(30, 10)\n",
    "bar = sub(a=30, b=10)\n",
    "baz = sub(b=10, a=30)\n",
    "spam = sub(30, b=10)\n",
    "\n",
    "print(f\"{foo=}\")\n",
    "print(f\"{bar=}\")\n",
    "print(f\"{baz=}\")\n",
    "print(f\"{spam=}\")"
   ]
  },
  {
   "cell_type": "code",
   "execution_count": 45,
   "metadata": {},
   "outputs": [],
   "source": [
    "# Использование именованных параметров\n",
    "\n",
    "def sub(a, b):\n",
    "    return a - b\n",
    "\n",
    "# Ошибка! \n",
    "# Позиционные параметры должны быть указаны до именованных\n",
    "# eggs = sub(a=30, 10)"
   ]
  },
  {
   "cell_type": "code",
   "execution_count": 46,
   "metadata": {},
   "outputs": [
    {
     "name": "stdout",
     "output_type": "stream",
     "text": [
      "foo=6\n",
      "bar=12\n",
      "spam=12\n"
     ]
    }
   ],
   "source": [
    "# Функции с параметрами по умолчанию\n",
    "def mul(a, b=2):\n",
    "    return a * b\n",
    "\n",
    "foo = mul(3)\n",
    "bar = mul(3, 4)\n",
    "spam = mul(3, b=4)\n",
    "\n",
    "print(f\"{foo=}\")\n",
    "print(f\"{bar=}\")\n",
    "print(f\"{spam=}\")"
   ]
  },
  {
   "cell_type": "code",
   "execution_count": 47,
   "metadata": {},
   "outputs": [
    {
     "name": "stdout",
     "output_type": "stream",
     "text": [
      "calculate(3)=3\n",
      "calculate(3, 4)=12\n",
      "calculate(3, 4, 5)=17\n",
      "calculate(3, b=4, c=5)=17\n",
      "calculate(3, c=5)=8\n"
     ]
    }
   ],
   "source": [
    "def calculate(a, b=1, c=0):\n",
    "    return a * b + c\n",
    "\n",
    "print(f\"{calculate(3)=}\")\n",
    "print(f\"{calculate(3, 4)=}\")\n",
    "print(f\"{calculate(3, 4, 5)=}\")\n",
    "print(f\"{calculate(3, b=4, c=5)=}\")\n",
    "print(f\"{calculate(3, c=5)=}\")"
   ]
  },
  {
   "cell_type": "code",
   "execution_count": 48,
   "metadata": {},
   "outputs": [],
   "source": [
    "# Ошибка!\n",
    "# Параметры со значениями по умолчанию\n",
    "# должны располагаться в конце списка параметров\n",
    "# def mul(a = 1, b):\n",
    "#     return a * b"
   ]
  },
  {
   "cell_type": "code",
   "execution_count": 49,
   "metadata": {},
   "outputs": [
    {
     "name": "stdout",
     "output_type": "stream",
     "text": [
      "foo=2\n",
      "bar=6\n",
      "spam=3\n"
     ]
    }
   ],
   "source": [
    "# Функции с параметрами по умолчанию\n",
    "def mul(a=1, b=2):\n",
    "    return a * b\n",
    "\n",
    "foo = mul()\n",
    "bar = mul(2, 3)\n",
    "spam = mul(b=3)\n",
    "\n",
    "print(f\"{foo=}\")\n",
    "print(f\"{bar=}\")\n",
    "print(f\"{spam=}\")"
   ]
  },
  {
   "cell_type": "code",
   "execution_count": 50,
   "metadata": {},
   "outputs": [
    {
     "name": "stdout",
     "output_type": "stream",
     "text": [
      "foo=[0]\n",
      "bar=[0]\n",
      "spam=[1, 2, 3, 0]\n"
     ]
    }
   ],
   "source": [
    "def append_zero(values):\n",
    "    values.append(0)\n",
    "    return values\n",
    "\n",
    "foo = append_zero([])\n",
    "bar = append_zero([])\n",
    "spam = append_zero([1, 2, 3])\n",
    "\n",
    "print(f\"{foo=}\")\n",
    "print(f\"{bar=}\")\n",
    "print(f\"{spam=}\")"
   ]
  },
  {
   "cell_type": "code",
   "execution_count": 51,
   "metadata": {},
   "outputs": [
    {
     "name": "stdout",
     "output_type": "stream",
     "text": [
      "foo=[0, 0]\n",
      "bar=[0, 0]\n",
      "spam=[1, 2, 3, 0]\n"
     ]
    }
   ],
   "source": [
    "def append_zero(values=[]):\n",
    "    values.append(0)\n",
    "    return values\n",
    "\n",
    "foo = append_zero()\n",
    "bar = append_zero()\n",
    "spam = append_zero([1, 2, 3])\n",
    "\n",
    "print(f\"{foo=}\")\n",
    "print(f\"{bar=}\")\n",
    "print(f\"{spam=}\")"
   ]
  },
  {
   "cell_type": "code",
   "execution_count": 52,
   "metadata": {},
   "outputs": [
    {
     "name": "stdout",
     "output_type": "stream",
     "text": [
      "foo=[0, 0]\n",
      "bar=[0, 0]\n",
      "spam=[1, 2, 3, 0]\n"
     ]
    }
   ],
   "source": [
    "default = []\n",
    "def append_zero(values=default):\n",
    "    values.append(0)\n",
    "    return values\n",
    "\n",
    "foo = append_zero()\n",
    "bar = append_zero()\n",
    "spam = append_zero([1, 2, 3])\n",
    "\n",
    "print(f\"{foo=}\")\n",
    "print(f\"{bar=}\")\n",
    "print(f\"{spam=}\")"
   ]
  },
  {
   "cell_type": "code",
   "execution_count": 53,
   "metadata": {},
   "outputs": [
    {
     "name": "stdout",
     "output_type": "stream",
     "text": [
      "1) foo=[0]\n",
      "2) foo=[0, 0]\n",
      "   bar=[0, 0]\n",
      "   foo is bar=True\n"
     ]
    }
   ],
   "source": [
    "def append_zero(values=[]):\n",
    "    values.append(0)\n",
    "    return values\n",
    "\n",
    "foo = append_zero()\n",
    "print(f\"1) {foo=}\")\n",
    "\n",
    "bar = append_zero()\n",
    "print(f\"2) {foo=}\")\n",
    "print(f\"   {bar=}\")\n",
    "print(f\"   {foo is bar=}\")"
   ]
  },
  {
   "cell_type": "code",
   "execution_count": 54,
   "metadata": {},
   "outputs": [
    {
     "name": "stdout",
     "output_type": "stream",
     "text": [
      "foo=[0]\n",
      "bar=[0]\n",
      "spam=[1, 2, 3, 0]\n"
     ]
    }
   ],
   "source": [
    "def append_zero(values=None):\n",
    "    if values is None:\n",
    "        values = []\n",
    "        \n",
    "    values.append(0)\n",
    "    return values\n",
    "\n",
    "foo = append_zero()\n",
    "bar = append_zero()\n",
    "spam = append_zero([1, 2, 3])\n",
    "\n",
    "print(f\"{foo=}\")\n",
    "print(f\"{bar=}\")\n",
    "print(f\"{spam=}\")"
   ]
  },
  {
   "cell_type": "code",
   "execution_count": 55,
   "metadata": {},
   "outputs": [
    {
     "name": "stdout",
     "output_type": "stream",
     "text": [
      "mul: args=(3, 4, 5)\n",
      "foo=120\n"
     ]
    }
   ],
   "source": [
    "# Функция с переменным числом позиционных параметров\n",
    "def mul(a, *args):\n",
    "    print(f\"mul: {args=}\")\n",
    "    result = a\n",
    "    for x in args:\n",
    "        result *= x\n",
    "        \n",
    "    return result\n",
    "\n",
    "foo = mul(2, 3, 4, 5)\n",
    "print(f\"{foo=}\")"
   ]
  },
  {
   "cell_type": "code",
   "execution_count": 56,
   "metadata": {},
   "outputs": [],
   "source": [
    "# Ошибка!\n",
    "# foo = mul(a=2, 3, 4, 5)"
   ]
  },
  {
   "cell_type": "code",
   "execution_count": 57,
   "metadata": {},
   "outputs": [
    {
     "name": "stdout",
     "output_type": "stream",
     "text": [
      "mul: args=()\n",
      "foo=2\n"
     ]
    }
   ],
   "source": [
    "# Функция с переменным числом позиционных параметров\n",
    "def mul(a, *args):\n",
    "    print(f\"mul: {args=}\")\n",
    "    result = a\n",
    "    for x in args:\n",
    "        result *= x\n",
    "        \n",
    "    return result\n",
    "\n",
    "foo = mul(2)\n",
    "print(f\"{foo=}\")"
   ]
  },
  {
   "cell_type": "code",
   "execution_count": 58,
   "metadata": {},
   "outputs": [
    {
     "name": "stdout",
     "output_type": "stream",
     "text": [
      "mul: args=()\n",
      "foo=2\n"
     ]
    }
   ],
   "source": [
    "foo = mul(a=2)\n",
    "print(f\"{foo=}\")"
   ]
  },
  {
   "cell_type": "code",
   "execution_count": 59,
   "metadata": {},
   "outputs": [
    {
     "name": "stdout",
     "output_type": "stream",
     "text": [
      "kwargs={}\n",
      "calculate(5)=5\n",
      "\n",
      "kwargs={'mul': 2}\n",
      "calculate(10, mul=2)=20\n",
      "\n",
      "kwargs={'add': 5}\n",
      "calculate(10, add=5)=15\n",
      "\n",
      "kwargs={'add': 5, 'mul': 2}\n",
      "calculate(10, add=5, mul=2)=25\n",
      "\n",
      "kwargs={'mul': 2, 'add': 5}\n",
      "calculate(x=10, mul=2, add=5)=25\n",
      "\n"
     ]
    }
   ],
   "source": [
    "# Функция с переменным числом именованных параметров\n",
    "def calculate(x, **kwargs):\n",
    "    print(f\"{kwargs=}\")\n",
    "    result = x\n",
    "    if 'mul' in kwargs:\n",
    "        result *= kwargs['mul']\n",
    "        \n",
    "    if 'add' in kwargs:\n",
    "        result += kwargs['add']\n",
    "        \n",
    "    return result\n",
    "\n",
    "print(f'{calculate(5)=}', end=\"\\n\\n\")\n",
    "print(f'{calculate(10, mul=2)=}', end=\"\\n\\n\")\n",
    "print(f'{calculate(10, add=5)=}', end=\"\\n\\n\")\n",
    "print(f'{calculate(10, add=5, mul=2)=}', end=\"\\n\\n\")\n",
    "print(f'{calculate(x=10, mul=2, add=5)=}', end=\"\\n\\n\")"
   ]
  },
  {
   "cell_type": "code",
   "execution_count": 60,
   "metadata": {},
   "outputs": [
    {
     "name": "stdout",
     "output_type": "stream",
     "text": [
      "kwargs={}\n",
      "calculate(5)=5\n",
      "\n",
      "kwargs={'mul': 2}\n",
      "calculate(10, mul=2)=20\n",
      "\n",
      "kwargs={'add': 5}\n",
      "calculate(10, add=5)=15\n",
      "\n",
      "kwargs={'add': 5, 'mul': 2}\n",
      "calculate(10, add=5, mul=2)=25\n",
      "\n",
      "kwargs={'mul': 2, 'add': 5}\n",
      "calculate(x=10, mul=2, add=5)=25\n",
      "\n"
     ]
    }
   ],
   "source": [
    "# Функция с переменным числом именованных параметров\n",
    "# Более компактная версия\n",
    "def calculate(x, **kwargs):\n",
    "    print(f\"{kwargs=}\")\n",
    "    result = x\n",
    "    result *= kwargs.get('mul', 1)\n",
    "    result += kwargs.get('add', 0)\n",
    "    return result\n",
    "\n",
    "print(f'{calculate(5)=}', end=\"\\n\\n\")\n",
    "print(f'{calculate(10, mul=2)=}', end=\"\\n\\n\")\n",
    "print(f'{calculate(10, add=5)=}', end=\"\\n\\n\")\n",
    "print(f'{calculate(10, add=5, mul=2)=}', end=\"\\n\\n\")\n",
    "print(f'{calculate(x=10, mul=2, add=5)=}', end=\"\\n\\n\")"
   ]
  },
  {
   "cell_type": "code",
   "execution_count": 61,
   "metadata": {},
   "outputs": [
    {
     "name": "stdout",
     "output_type": "stream",
     "text": [
      "kwargs={}\n",
      "calculate(5)=5\n",
      "\n",
      "kwargs={'mul': 2}\n",
      "calculate(10, mul=2)=20\n",
      "\n",
      "kwargs={'add': 5}\n",
      "calculate(10, add=5)=15\n",
      "\n",
      "kwargs={'add': 5, 'mul': 2}\n",
      "calculate(10, add=5, mul=2)=25\n",
      "\n",
      "kwargs={'mul': 2, 'add': 5}\n",
      "calculate(x=10, mul=2, add=5)=25\n",
      "\n"
     ]
    }
   ],
   "source": [
    "# Функция с переменным числом именованных параметров\n",
    "# Более компактная версия\n",
    "def calculate(x, **kwargs):\n",
    "    print(f\"{kwargs=}\")\n",
    "    return x * kwargs.get('mul', 1) + kwargs.get('add', 0)\n",
    "\n",
    "print(f'{calculate(5)=}', end=\"\\n\\n\")\n",
    "print(f'{calculate(10, mul=2)=}', end=\"\\n\\n\")\n",
    "print(f'{calculate(10, add=5)=}', end=\"\\n\\n\")\n",
    "print(f'{calculate(10, add=5, mul=2)=}', end=\"\\n\\n\")\n",
    "print(f'{calculate(x=10, mul=2, add=5)=}', end=\"\\n\\n\")"
   ]
  },
  {
   "cell_type": "markdown",
   "metadata": {},
   "source": [
    "## Разделительные параметры / и *"
   ]
  },
  {
   "cell_type": "code",
   "execution_count": 62,
   "metadata": {},
   "outputs": [
    {
     "name": "stdout",
     "output_type": "stream",
     "text": [
      "foo=5\n",
      "bar=5\n",
      "spam=5\n"
     ]
    }
   ],
   "source": [
    "def func(a, b, action):\n",
    "    if action == \"add\":\n",
    "        return a + b\n",
    "    elif action == \"mul\":\n",
    "        return a * b\n",
    "    \n",
    "foo = func(2, 3, \"add\")\n",
    "bar = func(2, 3, action=\"add\")\n",
    "spam = func(a=2, b=3, action=\"add\")\n",
    "\n",
    "print(f\"{foo=}\")\n",
    "print(f\"{bar=}\")\n",
    "print(f\"{spam=}\")"
   ]
  },
  {
   "cell_type": "code",
   "execution_count": 63,
   "metadata": {},
   "outputs": [
    {
     "name": "stdout",
     "output_type": "stream",
     "text": [
      "foo=5\n",
      "bar=5\n"
     ]
    }
   ],
   "source": [
    "# Функция с разделительным параметром /\n",
    "\n",
    "def func(a, b, /, action):\n",
    "    if action == \"add\":\n",
    "        return a + b\n",
    "    elif action == \"mul\":\n",
    "        return a * b\n",
    "    \n",
    "foo = func(2, 3, \"add\")\n",
    "bar = func(2, 3, action=\"add\")\n",
    "\n",
    "print(f\"{foo=}\")\n",
    "print(f\"{bar=}\")"
   ]
  },
  {
   "cell_type": "code",
   "execution_count": 64,
   "metadata": {},
   "outputs": [],
   "source": [
    "# Функция с разделительным параметром /\n",
    "\n",
    "def func(a, b, /, action):\n",
    "    if action == \"add\":\n",
    "        return a + b\n",
    "    elif action == \"mul\":\n",
    "        return a * b\n",
    "    \n",
    "# Ошибка! \n",
    "# Указание именованных параметров до разделительного параметра /\n",
    "#foo = func(a=2, b=3, action=\"add\")"
   ]
  },
  {
   "cell_type": "code",
   "execution_count": 65,
   "metadata": {},
   "outputs": [
    {
     "name": "stdout",
     "output_type": "stream",
     "text": [
      "foo=5\n",
      "bar=5\n"
     ]
    }
   ],
   "source": [
    "# Функция с разделительным параметром *\n",
    "\n",
    "def func(a, b, *, action):\n",
    "    if action == \"add\":\n",
    "        return a + b\n",
    "    elif action == \"mul\":\n",
    "        return a * b\n",
    "    \n",
    "foo = func(2, 3, action=\"add\")\n",
    "bar = func(a=2, b=3, action=\"add\")\n",
    "\n",
    "print(f\"{foo=}\")\n",
    "print(f\"{bar=}\")"
   ]
  },
  {
   "cell_type": "code",
   "execution_count": 66,
   "metadata": {},
   "outputs": [],
   "source": [
    "# Функция с разделительным параметром *\n",
    "\n",
    "def func(a, b, *, action):\n",
    "    if action == \"add\":\n",
    "        return a + b\n",
    "    elif action == \"mul\":\n",
    "        return a * b\n",
    "\n",
    "foo = func(2, 3, action=\"add\")\n",
    "bar = func(a=2, b=3, action=\"add\")\n",
    "\n",
    "# Ошибка! \n",
    "# Указание позиционных параметров после разделительного параметра *\n",
    "# foo = func(2, 3, \"add\")"
   ]
  },
  {
   "cell_type": "code",
   "execution_count": 67,
   "metadata": {},
   "outputs": [
    {
     "name": "stdout",
     "output_type": "stream",
     "text": [
      "foo=-3\n",
      "bar=-3\n",
      "baz=3\n"
     ]
    }
   ],
   "source": [
    "def func(a, b, /, action, *, use_abs=False):\n",
    "    if action == \"add\":\n",
    "        result = a + b\n",
    "    elif action == \"mul\":\n",
    "        result = a * b\n",
    "    else:\n",
    "        return None\n",
    "    \n",
    "    if use_abs:\n",
    "        result = abs(result)\n",
    "        \n",
    "    return result\n",
    "\n",
    "foo = func(2, -5, \"add\")\n",
    "bar = func(2, -5, action=\"add\")\n",
    "baz = func(2, -5, action=\"add\", use_abs=True)\n",
    "\n",
    "print(f\"{foo=}\")\n",
    "print(f\"{bar=}\")\n",
    "print(f\"{baz=}\")"
   ]
  },
  {
   "cell_type": "code",
   "execution_count": 68,
   "metadata": {},
   "outputs": [],
   "source": [
    "def func(a, b, /, action, *, use_abs=False):\n",
    "    if action == \"add\":\n",
    "        result = a + b\n",
    "    elif action == \"mul\":\n",
    "        result = a * b\n",
    "    else:\n",
    "        return None\n",
    "    \n",
    "    if use_abs:\n",
    "        result = abs(result)\n",
    "        \n",
    "    return result\n",
    "\n",
    "# Ошибка!\n",
    "# Указание позиционных параметров после разделительного параметра *\n",
    "# foo = func(2, -5, \"add\", True)"
   ]
  },
  {
   "cell_type": "code",
   "execution_count": 69,
   "metadata": {},
   "outputs": [
    {
     "name": "stdout",
     "output_type": "stream",
     "text": [
      "foo=11\n",
      "bar=13\n",
      "baz=7\n"
     ]
    }
   ],
   "source": [
    "def add(a, b):\n",
    "    return a + b\n",
    "\n",
    "def mul(a, b):\n",
    "    return a * b\n",
    "\n",
    "def add_abs(a, b):\n",
    "    return abs(a + b)\n",
    "\n",
    "def spam(a, b, action):\n",
    "    return action(a, b) * 2 + 1\n",
    "\n",
    "foo = spam(2, 3, add)\n",
    "bar = spam(2, 3, mul)\n",
    "baz = spam(2, -5, add_abs)\n",
    "\n",
    "print(f\"{foo=}\")\n",
    "print(f\"{bar=}\")\n",
    "print(f\"{baz=}\")"
   ]
  },
  {
   "cell_type": "code",
   "execution_count": 1,
   "metadata": {},
   "outputs": [
    {
     "name": "stdout",
     "output_type": "stream",
     "text": [
      "add(2, 3) = 5\n",
      "mul(2, 3) = 6\n"
     ]
    }
   ],
   "source": [
    "def add(a, b): return a + b\n",
    "\n",
    "def mul(a, b): return a * b\n",
    "\n",
    "def calc(a, b, action):\n",
    "    result = action(a, b)\n",
    "    action_name = action.__name__\n",
    "    return f\"{action_name}({a}, {b}) = {result}\"\n",
    "\n",
    "print(calc(2, 3, add))\n",
    "print(calc(2, 3, mul))"
   ]
  },
  {
   "cell_type": "code",
   "execution_count": 10,
   "metadata": {},
   "outputs": [
    {
     "name": "stdout",
     "output_type": "stream",
     "text": [
      "add(2, 3) = 5\n",
      "mul(2, 3) = 6\n",
      "add_abs(2, -5) = 3\n",
      "mul_abs(2, -5) = 10\n"
     ]
    }
   ],
   "source": [
    "def add(a, b): return a + b\n",
    "\n",
    "def mul(a, b): return a * b\n",
    "\n",
    "def add_abs(a, b): return abs(a + b)\n",
    "\n",
    "def mul_abs(a, b): return abs(a * b)\n",
    "\n",
    "def calc(a, b, action):\n",
    "    result = action(a, b)\n",
    "    action_name = action.__name__\n",
    "    return f\"{action_name}({a}, {b}) = {result}\"\n",
    "\n",
    "print(calc(2, 3, add))\n",
    "print(calc(2, 3, mul))\n",
    "print(calc(2, -5, add_abs))\n",
    "print(calc(2, -5, mul_abs))"
   ]
  },
  {
   "cell_type": "code",
   "execution_count": 3,
   "metadata": {},
   "outputs": [
    {
     "name": "stdout",
     "output_type": "stream",
     "text": [
      "apply_abs(2, -5) = 3\n",
      "apply_abs(2, -5) = 10\n"
     ]
    }
   ],
   "source": [
    "def add(a, b): return a + b\n",
    "\n",
    "def mul(a, b): return a * b\n",
    "\n",
    "def get_abs(func):\n",
    "    def apply_abs(a, b):\n",
    "        return abs(func(a, b))\n",
    "    return apply_abs\n",
    "    \n",
    "def calc(a, b, action):\n",
    "    result = action(a, b)\n",
    "    action_name = action.__name__\n",
    "    return f\"{action_name}({a}, {b}) = {result}\"\n",
    "\n",
    "print(calc(2, -5, get_abs(add)))\n",
    "print(calc(2, -5, get_abs(mul)))"
   ]
  },
  {
   "cell_type": "code",
   "execution_count": 4,
   "metadata": {},
   "outputs": [
    {
     "name": "stdout",
     "output_type": "stream",
     "text": [
      "apply_abs_add(2, -5) = 3\n",
      "apply_abs_mul(2, -5) = 10\n"
     ]
    }
   ],
   "source": [
    "def add(a, b): return a + b\n",
    "\n",
    "def mul(a, b): return a * b\n",
    "\n",
    "def get_abs(func):\n",
    "    def apply_abs(a, b):\n",
    "        return abs(func(a, b))\n",
    "    \n",
    "    apply_abs.__name__ += f\"_{func.__name__}\"\n",
    "    return apply_abs\n",
    "    \n",
    "def calc(a, b, action):\n",
    "    result = action(a, b)\n",
    "    action_name = action.__name__\n",
    "    return f\"{action_name}({a}, {b}) = {result}\"\n",
    "\n",
    "print(calc(2, -5, get_abs(add)))\n",
    "print(calc(2, -5, get_abs(mul)))"
   ]
  },
  {
   "cell_type": "code",
   "execution_count": 5,
   "metadata": {},
   "outputs": [
    {
     "name": "stdout",
     "output_type": "stream",
     "text": [
      "apply_abs_add(2, -5) = 3\n",
      "apply_abs_mul(2, -5) = 10\n"
     ]
    }
   ],
   "source": [
    "def add(a, b): return a + b\n",
    "\n",
    "def mul(a, b): return a * b\n",
    "\n",
    "def get_abs(func):\n",
    "    def apply_abs(*args):\n",
    "        return abs(func(*args))\n",
    "    \n",
    "    apply_abs.__name__ += f\"_{func.__name__}\"\n",
    "    return apply_abs\n",
    "    \n",
    "def calc(a, b, action):\n",
    "    result = action(a, b)\n",
    "    action_name = action.__name__\n",
    "    return f\"{action_name}({a}, {b}) = {result}\"\n",
    "\n",
    "print(calc(2, -5, get_abs(add)))\n",
    "print(calc(2, -5, get_abs(mul)))"
   ]
  },
  {
   "cell_type": "code",
   "execution_count": 6,
   "metadata": {},
   "outputs": [
    {
     "name": "stdout",
     "output_type": "stream",
     "text": [
      "apply_abs_add(2, -5) = 3\n",
      "apply_abs_mul(2, -5) = 10\n"
     ]
    }
   ],
   "source": [
    "def add(a, b): return a + b\n",
    "\n",
    "def mul(a, b): return a * b\n",
    "\n",
    "def get_abs(func):\n",
    "    def apply_abs(*args, **kwargs):\n",
    "        return abs(func(*args, **kwargs))\n",
    "    \n",
    "    apply_abs.__name__ += f\"_{func.__name__}\"\n",
    "    return apply_abs\n",
    "    \n",
    "def calc(a, b, action):\n",
    "    result = action(a, b)\n",
    "    action_name = action.__name__\n",
    "    return f\"{action_name}({a}, {b}) = {result}\"\n",
    "\n",
    "print(calc(2, -5, get_abs(add)))\n",
    "print(calc(2, -5, get_abs(mul)))"
   ]
  },
  {
   "cell_type": "code",
   "execution_count": 7,
   "metadata": {},
   "outputs": [
    {
     "name": "stdout",
     "output_type": "stream",
     "text": [
      "apply_abs_add(2, -5) = 3\n",
      "apply_abs_mul(2, -5) = 10\n"
     ]
    }
   ],
   "source": [
    "def add(a, b): return a + b\n",
    "\n",
    "def mul(a, b): return a * b\n",
    "\n",
    "def get_abs(func):\n",
    "    def apply_abs(*args, **kwargs):\n",
    "        return abs(func(*args, **kwargs))\n",
    "    \n",
    "    apply_abs.__name__ += f\"_{func.__name__}\"\n",
    "    return apply_abs\n",
    "    \n",
    "def calc(*args, action):\n",
    "    result = action(*args)\n",
    "    action_name = action.__name__\n",
    "    return f\"{action_name}{args} = {result}\"\n",
    "\n",
    "print(calc(2, -5, action=get_abs(add)))\n",
    "print(calc(2, -5, action=get_abs(mul)))"
   ]
  },
  {
   "cell_type": "code",
   "execution_count": 77,
   "metadata": {},
   "outputs": [
    {
     "name": "stdout",
     "output_type": "stream",
     "text": [
      "apply_abs_add(2, -5) = 3\n",
      "apply_abs_mul(2, -5) = 10\n"
     ]
    }
   ],
   "source": [
    "def add(a, *args):\n",
    "    result = a\n",
    "    for n in args:\n",
    "        result += n\n",
    "    return result\n",
    "\n",
    "def mul(a, *args):\n",
    "    result = a\n",
    "    for n in args:\n",
    "        result *= n\n",
    "    return result\n",
    "\n",
    "def get_abs(func):\n",
    "    def apply_abs(*args, **kwargs):\n",
    "        return abs(func(*args, **kwargs))\n",
    "    \n",
    "    apply_abs.__name__ += f\"_{func.__name__}\"\n",
    "    return apply_abs\n",
    "    \n",
    "def calc(*args, action):\n",
    "    result = action(*args)\n",
    "    action_name = action.__name__\n",
    "    return f\"{action_name}{args} = {result}\"\n",
    "\n",
    "print(calc(2, -5, action=get_abs(add)))\n",
    "print(calc(2, -5, action=get_abs(mul)))"
   ]
  },
  {
   "cell_type": "code",
   "execution_count": 78,
   "metadata": {},
   "outputs": [
    {
     "name": "stdout",
     "output_type": "stream",
     "text": [
      "apply_abs_add(2, -5, 4, 2) = 3\n",
      "apply_abs_mul(2, -5, 4, 2) = 80\n"
     ]
    }
   ],
   "source": [
    "def add(a, *args):\n",
    "    result = a\n",
    "    for n in args:\n",
    "        result += n\n",
    "    return result\n",
    "\n",
    "def mul(a, *args):\n",
    "    result = a\n",
    "    for n in args:\n",
    "        result *= n\n",
    "    return result\n",
    "\n",
    "def get_abs(func):\n",
    "    def apply_abs(*args, **kwargs):\n",
    "        return abs(func(*args, **kwargs))\n",
    "    \n",
    "    apply_abs.__name__ += f\"_{func.__name__}\"\n",
    "    return apply_abs\n",
    "    \n",
    "def calc(*args, action):\n",
    "    result = action(*args)\n",
    "    action_name = action.__name__\n",
    "    return f\"{action_name}{args} = {result}\"\n",
    "\n",
    "print(calc(2, -5, 4, 2, action=get_abs(add)))\n",
    "print(calc(2, -5, 4, 2, action=get_abs(mul)))"
   ]
  },
  {
   "cell_type": "code",
   "execution_count": 79,
   "metadata": {},
   "outputs": [
    {
     "name": "stdout",
     "output_type": "stream",
     "text": [
      "add_abs(2, -5, 4, 2) = 3\n",
      "mul_abs(2, -5, 4, 2) = 80\n"
     ]
    }
   ],
   "source": [
    "def get_abs(func):\n",
    "    def apply_abs(*args, **kwargs):\n",
    "        return abs(func(*args, **kwargs))\n",
    "    \n",
    "    apply_abs.__name__ = func.__name__\n",
    "    return apply_abs\n",
    "\n",
    "def add(a, *args):\n",
    "    result = a\n",
    "    for n in args:\n",
    "        result += n\n",
    "    return result\n",
    "\n",
    "def mul(a, *args):\n",
    "    result = a\n",
    "    for n in args:\n",
    "        result *= n\n",
    "    return result\n",
    "\n",
    "@get_abs\n",
    "def add_abs(a, *args):\n",
    "    return add(a, *args)\n",
    "\n",
    "@get_abs\n",
    "def mul_abs(a, *args):\n",
    "    return mul(a, *args)\n",
    "\n",
    "def calc(*args, action):\n",
    "    result = action(*args)\n",
    "    action_name = action.__name__\n",
    "    return f\"{action_name}{args} = {result}\"\n",
    "\n",
    "print(calc(2, -5, 4, 2, action=add_abs))\n",
    "print(calc(2, -5, 4, 2, action=mul_abs))"
   ]
  },
  {
   "cell_type": "code",
   "execution_count": 80,
   "metadata": {},
   "outputs": [
    {
     "name": "stdout",
     "output_type": "stream",
     "text": [
      "<class 'function'>\n",
      "['__annotations__', '__builtins__', '__call__', '__class__', '__closure__', '__code__', '__defaults__', '__delattr__', '__dict__', '__dir__', '__doc__', '__eq__', '__format__', '__ge__', '__get__', '__getattribute__', '__getstate__', '__globals__', '__gt__', '__hash__', '__init__', '__init_subclass__', '__kwdefaults__', '__le__', '__lt__', '__module__', '__name__', '__ne__', '__new__', '__qualname__', '__reduce__', '__reduce_ex__', '__repr__', '__setattr__', '__sizeof__', '__str__', '__subclasshook__', '__type_params__']\n"
     ]
    }
   ],
   "source": [
    "def add(a, b):\n",
    "    return a + b\n",
    "\n",
    "print(type(add))\n",
    "print(dir(add))"
   ]
  },
  {
   "cell_type": "code",
   "execution_count": 81,
   "metadata": {},
   "outputs": [
    {
     "name": "stdout",
     "output_type": "stream",
     "text": [
      "add.__doc__: Функция возвращает сумму двух переменных\n"
     ]
    }
   ],
   "source": [
    "# Использование docstring\n",
    "\n",
    "def add(a, b):\n",
    "    \"\"\"Функция возвращает сумму двух переменных\"\"\"\n",
    "    return a + b\n",
    "\n",
    "print(\"add.__doc__:\", add.__doc__)"
   ]
  },
  {
   "cell_type": "markdown",
   "metadata": {},
   "source": [
    "## Анонимные функции"
   ]
  },
  {
   "cell_type": "code",
   "execution_count": 11,
   "metadata": {},
   "outputs": [
    {
     "name": "stdout",
     "output_type": "stream",
     "text": [
      "add(2, 3) = 5\n",
      "mul(2, 3) = 6\n",
      "add_abs(2, -5) = 3\n",
      "mul_abs(2, -5) = 10\n"
     ]
    }
   ],
   "source": [
    "def add(a, b): return a + b\n",
    "\n",
    "def mul(a, b): return a * b\n",
    "\n",
    "def add_abs(a, b): return abs(a + b)\n",
    "\n",
    "def mul_abs(a, b): return abs(a * b)\n",
    "\n",
    "def calc(a, b, action):\n",
    "    result = action(a, b)\n",
    "    action_name = action.__name__\n",
    "    return f\"{action_name}({a}, {b}) = {result}\"\n",
    "\n",
    "print(calc(2, 3, add))\n",
    "print(calc(2, 3, mul))\n",
    "print(calc(2, -5, add_abs))\n",
    "print(calc(2, -5, mul_abs))\n"
   ]
  },
  {
   "cell_type": "code",
   "execution_count": 1,
   "metadata": {},
   "outputs": [
    {
     "name": "stdout",
     "output_type": "stream",
     "text": [
      "<lambda>(2, 3) = 5\n",
      "<lambda>(2, 3) = 6\n",
      "<lambda>(2, -5) = 3\n",
      "<lambda>(2, -5) = 10\n"
     ]
    }
   ],
   "source": [
    "def calc(a, b, action):\n",
    "    result = action(a, b)\n",
    "    action_name = action.__name__\n",
    "    return f\"{action_name}({a}, {b}) = {result}\"\n",
    "\n",
    "print(calc(2, 3, lambda x, y: x + y))\n",
    "print(calc(2, 3, lambda x, y: x * y))\n",
    "print(calc(2, -5, lambda x, y: abs(x + y)))\n",
    "print(calc(2, -5, lambda x, y: abs(x * y)))"
   ]
  },
  {
   "cell_type": "code",
   "execution_count": 2,
   "metadata": {},
   "outputs": [
    {
     "name": "stdout",
     "output_type": "stream",
     "text": [
      "<lambda>(2, 3) = 5\n",
      "<lambda>(2, 3) = 6\n",
      "<lambda>(2, -5) = 3\n",
      "<lambda>(2, -5) = 10\n"
     ]
    }
   ],
   "source": [
    "add = lambda x, y: x + y\n",
    "mul = lambda x, y: x * y\n",
    "add_abs = lambda x, y: abs(x + y)\n",
    "mul_abs = lambda x, y: abs(x * y)\n",
    "\n",
    "def calc(a, b, action):\n",
    "    result = action(a, b)\n",
    "    action_name = action.__name__\n",
    "    return f\"{action_name}({a}, {b}) = {result}\"\n",
    "\n",
    "print(calc(2, 3, add))\n",
    "print(calc(2, 3, mul))\n",
    "print(calc(2, -5, add_abs))\n",
    "print(calc(2, -5, mul_abs))"
   ]
  },
  {
   "cell_type": "code",
   "execution_count": 3,
   "metadata": {},
   "outputs": [
    {
     "name": "stdout",
     "output_type": "stream",
     "text": [
      "words=['Consectetur', 'Elit', 'Ipsum', 'LOREM', 'SIT', 'adipiscing', 'amet', 'dolor']\n"
     ]
    }
   ],
   "source": [
    "# Сортировка слов в тексте\n",
    "\n",
    "text = \"LOREM Ipsum dolor SIT amet Consectetur adipiscing Elit\"\n",
    "words = text.split(\" \")\n",
    "words.sort()\n",
    "print(f\"{words=}\")"
   ]
  },
  {
   "cell_type": "code",
   "execution_count": 83,
   "metadata": {},
   "outputs": [
    {
     "name": "stdout",
     "output_type": "stream",
     "text": [
      "words=['adipiscing', 'amet', 'Consectetur', 'dolor', 'Elit', 'Ipsum', 'LOREM', 'SIT']\n"
     ]
    }
   ],
   "source": [
    "# Сортировка слов в тексте\n",
    "\n",
    "def tolower(text):\n",
    "    return text.lower()\n",
    "\n",
    "text = \"LOREM Ipsum dolor SIT amet Consectetur adipiscing Elit\"\n",
    "\n",
    "words = text.split(\" \")\n",
    "words.sort(key=tolower)\n",
    "\n",
    "print(f\"{words=}\")"
   ]
  },
  {
   "cell_type": "code",
   "execution_count": 4,
   "metadata": {},
   "outputs": [
    {
     "name": "stdout",
     "output_type": "stream",
     "text": [
      "words=['adipiscing', 'amet', 'Consectetur', 'dolor', 'Elit', 'Ipsum', 'LOREM', 'SIT']\n"
     ]
    }
   ],
   "source": [
    "# Сортировка слов в тексте\n",
    "text = \"LOREM Ipsum dolor SIT amet Consectetur adipiscing Elit\"\n",
    "words = text.split(\" \")\n",
    "words.sort(key=str.lower)\n",
    "print(f\"{words=}\")"
   ]
  },
  {
   "cell_type": "code",
   "execution_count": 7,
   "metadata": {},
   "outputs": [
    {
     "name": "stdout",
     "output_type": "stream",
     "text": [
      "words=['SIT', 'dolor', 'amet', 'Elit', 'Abracadabra', 'LOREM', 'Ipsum', 'Consectetur']\n"
     ]
    }
   ],
   "source": [
    "text = \"Abracadabra LOREM Ipsum dolor SIT amet Consectetur Elit\"\n",
    "words = text.split(\" \")\n",
    "words.sort(key=lambda item: len(set(item.lower())))\n",
    "print(f\"{words=}\")"
   ]
  },
  {
   "cell_type": "code",
   "execution_count": 9,
   "metadata": {},
   "outputs": [
    {
     "name": "stdout",
     "output_type": "stream",
     "text": [
      "items=[(2, -3), (0, -2), (15, 0), (10, 10), (15, 12)]\n"
     ]
    }
   ],
   "source": [
    "# Сортировка элементов списка по второму элементу кортежа\n",
    "\n",
    "def get_second(item):\n",
    "    return item[1]\n",
    "\n",
    "items = [(10, 10), (0, -2), (2, -3), (15, 12), (15, 0)]\n",
    "items.sort(key=get_second)\n",
    "\n",
    "print(f\"{items=}\")"
   ]
  },
  {
   "cell_type": "code",
   "execution_count": 8,
   "metadata": {},
   "outputs": [
    {
     "name": "stdout",
     "output_type": "stream",
     "text": [
      "items=[(2, -3), (0, -2), (15, 0), (10, 10), (15, 12)]\n"
     ]
    }
   ],
   "source": [
    "# Использование анонимной функции (lambda)\n",
    "\n",
    "items = [(10, 10), (0, -2), (2, -3), (15, 12), (15, 0)]\n",
    "items.sort(key=lambda item: item[1])\n",
    "\n",
    "print(f\"{items=}\")"
   ]
  },
  {
   "cell_type": "code",
   "execution_count": 11,
   "metadata": {},
   "outputs": [
    {
     "name": "stdout",
     "output_type": "stream",
     "text": [
      "foo=[(10, 10), (0, -2), (2, -3), (15, 12), (15, 0)]\n",
      "foo_sorted=[(2, -3), (0, -2), (15, 0), (10, 10), (15, 12)]\n"
     ]
    }
   ],
   "source": [
    "foo = [(10, 10), (0, -2), (2, -3), (15, 12), (15, 0)]\n",
    "foo_sorted = sorted(foo, key=lambda item: item[1])\n",
    "print(f\"{foo=}\")\n",
    "print(f\"{foo_sorted=}\")"
   ]
  },
  {
   "cell_type": "code",
   "execution_count": 86,
   "metadata": {},
   "outputs": [
    {
     "name": "stdout",
     "output_type": "stream",
     "text": [
      "foo=11\n",
      "bar=13\n",
      "baz=7\n"
     ]
    }
   ],
   "source": [
    "def spam(a, b, action):\n",
    "    return action(a, b) * 2 + 1\n",
    "\n",
    "foo = spam(2, 3, lambda x, y: x + y)\n",
    "bar = spam(2, 3, lambda x, y: x * y)\n",
    "baz = spam(2, -5, lambda x, y: abs(x + y))\n",
    "\n",
    "print(f\"{foo=}\")\n",
    "print(f\"{bar=}\")\n",
    "print(f\"{baz=}\")"
   ]
  },
  {
   "cell_type": "code",
   "execution_count": 87,
   "metadata": {},
   "outputs": [
    {
     "name": "stdout",
     "output_type": "stream",
     "text": [
      "<class 'function'>\n",
      "add(1, 3):  4\n"
     ]
    }
   ],
   "source": [
    "add = lambda x, y: x + y\n",
    "\n",
    "print(type(add))\n",
    "print(\"add(1, 3): \", add(1, 3))"
   ]
  },
  {
   "cell_type": "code",
   "execution_count": 88,
   "metadata": {},
   "outputs": [
    {
     "name": "stdout",
     "output_type": "stream",
     "text": [
      "type(spam)=<class 'list'>\n",
      "type(bar)=<class 'map'>\n",
      "21 25 27 31 41 "
     ]
    }
   ],
   "source": [
    "foo = [10, 12, 13, 15, 20]\n",
    "\n",
    "spam = [x * 2 + 1 for x in foo]\n",
    "bar = map(lambda x: x * 2 + 1, foo)\n",
    "\n",
    "print(f\"{type(spam)=}\")\n",
    "print(f\"{type(bar)=}\")\n",
    "\n",
    "for item in bar:\n",
    "    print(item, end=\" \")"
   ]
  },
  {
   "cell_type": "code",
   "execution_count": 89,
   "metadata": {},
   "outputs": [
    {
     "name": "stdout",
     "output_type": "stream",
     "text": [
      "foo=13\n",
      "bar=17\n"
     ]
    }
   ],
   "source": [
    "def get_mul(n):\n",
    "    def mul(x):\n",
    "        return x * n + 2\n",
    "    \n",
    "    return mul\n",
    "\n",
    "def spam(a, action):\n",
    "    return action(a) * 2 + 1\n",
    "\n",
    "foo = spam(2, get_mul(2))\n",
    "bar = spam(2, get_mul(3))\n",
    "\n",
    "print(f\"{foo=}\")\n",
    "print(f\"{bar=}\")"
   ]
  },
  {
   "cell_type": "markdown",
   "metadata": {},
   "source": [
    "## Docstring"
   ]
  },
  {
   "cell_type": "code",
   "execution_count": 33,
   "metadata": {},
   "outputs": [
    {
     "name": "stdout",
     "output_type": "stream",
     "text": [
      "Help on function equation in module __main__:\n",
      "\n",
      "equation(a, b, c)\n",
      "    Функция для решения квадратного уравнения.\n",
      "\n",
      "    Функция возвращает кортеж из двух корней уравнения,\n",
      "    если дискриминант неотрицательный, в противном случае\n",
      "    возвращает значение None.\n",
      "    a, b, c -- коэффициенты квадратного уравнения.\n",
      "\n"
     ]
    }
   ],
   "source": [
    "def equation(a, b, c):\n",
    "    \"\"\"Функция для решения квадратного уравнения.\n",
    "    \n",
    "    Функция возвращает кортеж из двух корней уравнения, \n",
    "    если дискриминант неотрицательный, в противном случае \n",
    "    возвращает значение None.\n",
    "    a, b, c -- коэффициенты квадратного уравнения.\n",
    "    \"\"\"\n",
    "    D = b ** 2 - 4 * a * c\n",
    "    if D >= 0:\n",
    "        x1 = (-b + sqrt(D)) / (2 * a)\n",
    "        x2 = (-b - sqrt(D)) / (2 * a)\n",
    "        return (x1, x2)\n",
    "    \n",
    "help(equation)"
   ]
  },
  {
   "cell_type": "code",
   "execution_count": null,
   "metadata": {},
   "outputs": [],
   "source": []
  },
  {
   "cell_type": "code",
   "execution_count": 34,
   "metadata": {},
   "outputs": [
    {
     "name": "stdout",
     "output_type": "stream",
     "text": [
      "Функция для решения квадратного уравнения.\n",
      "    \n",
      "    Функция возвращает кортеж из двух корней уравнения, \n",
      "    если дискриминант неотрицательный, в противном случае \n",
      "    возвращает значение None.\n",
      "    a, b, c -- коэффициенты квадратного уравнения.\n",
      "    \n"
     ]
    }
   ],
   "source": [
    "print(equation.__doc__)"
   ]
  },
  {
   "cell_type": "code",
   "execution_count": null,
   "metadata": {},
   "outputs": [],
   "source": []
  }
 ],
 "metadata": {
  "kernelspec": {
   "display_name": "Python 3",
   "language": "python",
   "name": "python3"
  },
  "language_info": {
   "codemirror_mode": {
    "name": "ipython",
    "version": 3
   },
   "file_extension": ".py",
   "mimetype": "text/x-python",
   "name": "python",
   "nbconvert_exporter": "python",
   "pygments_lexer": "ipython3",
   "version": "3.12.5"
  }
 },
 "nbformat": 4,
 "nbformat_minor": 2
}
