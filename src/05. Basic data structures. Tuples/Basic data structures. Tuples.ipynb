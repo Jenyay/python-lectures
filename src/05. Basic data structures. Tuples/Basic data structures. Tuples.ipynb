{
 "cells": [
  {
   "cell_type": "markdown",
   "id": "d58a8601",
   "metadata": {},
   "source": [
    "## Кортежи"
   ]
  },
  {
   "cell_type": "code",
   "execution_count": 35,
   "id": "9e8e2778",
   "metadata": {},
   "outputs": [
    {
     "name": "stdout",
     "output_type": "stream",
     "text": [
      "type(foo): <class 'tuple'>\n",
      "type(bar): <class 'tuple'>\n",
      "foo:       (5, 10, 12, 0)\n",
      "bar:       (5, 10, 12, 0)\n"
     ]
    }
   ],
   "source": [
    "foo = 5, 10, 12, 0\n",
    "bar = (5, 10, 12, 0)\n",
    "\n",
    "print(\"type(foo):\", type(foo))\n",
    "print(\"type(bar):\", type(bar))\n",
    "print(\"foo:      \", foo)\n",
    "print(\"bar:      \", bar)"
   ]
  },
  {
   "cell_type": "code",
   "execution_count": 36,
   "id": "93f8ef3d",
   "metadata": {},
   "outputs": [
    {
     "name": "stdout",
     "output_type": "stream",
     "text": [
      "['__add__', '__class__', '__class_getitem__', '__contains__', '__delattr__', '__dir__', '__doc__', '__eq__', '__format__', '__ge__', '__getattribute__', '__getitem__', '__getnewargs__', '__getstate__', '__gt__', '__hash__', '__init__', '__init_subclass__', '__iter__', '__le__', '__len__', '__lt__', '__mul__', '__ne__', '__new__', '__reduce__', '__reduce_ex__', '__repr__', '__rmul__', '__setattr__', '__sizeof__', '__str__', '__subclasshook__', 'count', 'index']\n"
     ]
    }
   ],
   "source": [
    "# Содержимое кортежа\n",
    "print(dir(tuple))"
   ]
  },
  {
   "cell_type": "code",
   "execution_count": 3,
   "id": "363229b2",
   "metadata": {},
   "outputs": [
    {
     "name": "stdout",
     "output_type": "stream",
     "text": [
      "foo: (10, 20, 35, -5, 42, 16)\n",
      "type(foo): <class 'tuple'>\n",
      "bar: (10, 1.5, (5+2j), 'Строка')\n",
      "baz: ()\n",
      "bam: (42,)\n",
      "type(bam): <class 'tuple'>\n"
     ]
    }
   ],
   "source": [
    "foo = (10, 20, 35, -5, 42, 16)\n",
    "print(\"foo:\", foo)\n",
    "print(\"type(foo):\", type(foo))\n",
    "\n",
    "bar = (10, 1.5, 5+2j, 'Строка')\n",
    "print(\"bar:\", bar)\n",
    "\n",
    "baz = ()\n",
    "print(\"baz:\", baz)\n",
    "\n",
    "bam = (42,)\n",
    "print(\"bam:\", bam)\n",
    "print(\"type(bam):\", type(bam))"
   ]
  },
  {
   "cell_type": "code",
   "execution_count": 6,
   "id": "d669be32",
   "metadata": {},
   "outputs": [
    {
     "name": "stdout",
     "output_type": "stream",
     "text": [
      "foo: (10, 20, 35, -5, 42, 16)\n",
      "type(foo): <class 'tuple'>\n",
      "bar: (10, 1.5, (5+2j), 'Строка')\n",
      "baz: ()\n",
      "bam: (42,)\n",
      "type(bam): <class 'tuple'>\n"
     ]
    }
   ],
   "source": [
    "foo = 10, 20, 35, -5, 42, 16\n",
    "print(\"foo:\", foo)\n",
    "print(\"type(foo):\", type(foo))\n",
    "\n",
    "bar = 10, 1.5, 5+2j, 'Строка'\n",
    "print(\"bar:\", bar)\n",
    "\n",
    "baz = ()\n",
    "print(\"baz:\", baz)\n",
    "\n",
    "bam = 42,\n",
    "print(\"bam:\", bam)\n",
    "print(\"type(bam):\", type(bam))"
   ]
  },
  {
   "cell_type": "code",
   "execution_count": 37,
   "id": "e3daa38a",
   "metadata": {},
   "outputs": [],
   "source": [
    "# Попытка изменить элемент кортежа\n",
    "foo = (5, 10, 12, 0)\n",
    "\n",
    "# TypeError: 'tuple' object does not support item assignment\n",
    "# foo[0] = 100"
   ]
  },
  {
   "cell_type": "code",
   "execution_count": 38,
   "id": "4b82b474",
   "metadata": {},
   "outputs": [
    {
     "name": "stdout",
     "output_type": "stream",
     "text": [
      "foo: (5, [], 12, 0)\n",
      "foo: (5, [10], 12, 0)\n"
     ]
    }
   ],
   "source": [
    "# Изменение элемента кортежа\n",
    "foo = (5, [], 12, 0)\n",
    "print(\"foo:\", foo)\n",
    "\n",
    "foo[1].append(10)\n",
    "print(\"foo:\", foo)"
   ]
  },
  {
   "cell_type": "code",
   "execution_count": 39,
   "id": "9bf80560",
   "metadata": {},
   "outputs": [
    {
     "name": "stdout",
     "output_type": "stream",
     "text": [
      "foo: (5, [], 12, 0)\n",
      "foo: (5, [10], 12, 0)\n"
     ]
    }
   ],
   "source": [
    "# Изменение элемента кортежа\n",
    "foo = (5, [], 12, 0)\n",
    "print(\"foo:\", foo)\n",
    "\n",
    "x = foo[1]\n",
    "x.append(10)\n",
    "print(\"foo:\", foo)"
   ]
  },
  {
   "cell_type": "code",
   "execution_count": 40,
   "id": "0d2c9452",
   "metadata": {},
   "outputs": [
    {
     "name": "stdout",
     "output_type": "stream",
     "text": [
      "a: 10\n",
      "b: 20\n",
      "c: 30\n"
     ]
    }
   ],
   "source": [
    "# Распаковка\n",
    "foo = (10, 20, 30)\n",
    "a, b, c = foo\n",
    "\n",
    "print(\"a:\", a)\n",
    "print(\"b:\", b)\n",
    "print(\"c:\", c)"
   ]
  },
  {
   "cell_type": "code",
   "execution_count": 41,
   "id": "21e18c46",
   "metadata": {},
   "outputs": [
    {
     "name": "stdout",
     "output_type": "stream",
     "text": [
      "a: 10\n",
      "b: 20\n",
      "c: 30\n"
     ]
    }
   ],
   "source": [
    "# Распаковка\n",
    "foo = [10, 20, 30]\n",
    "a, b, c = foo\n",
    "\n",
    "print(\"a:\", a)\n",
    "print(\"b:\", b)\n",
    "print(\"c:\", c)"
   ]
  },
  {
   "cell_type": "code",
   "execution_count": 3,
   "id": "809913b8",
   "metadata": {},
   "outputs": [
    {
     "name": "stdout",
     "output_type": "stream",
     "text": [
      "x: 20 y: 10\n"
     ]
    }
   ],
   "source": [
    "# Обмен значениями\n",
    "x = 10\n",
    "y = 20\n",
    "\n",
    "x, y = y, x\n",
    "\n",
    "print(\"x:\", x, \"y:\", y)"
   ]
  },
  {
   "cell_type": "code",
   "execution_count": 42,
   "id": "a6573f33",
   "metadata": {},
   "outputs": [
    {
     "name": "stdout",
     "output_type": "stream",
     "text": [
      "bar: [(0, 5), (1, 10), (2, 12), (3, 0), (4, 17), (5, 22)]\n"
     ]
    }
   ],
   "source": [
    "foo = [5, 10, 12, 0, 17, 22]\n",
    "bar = list(enumerate(foo))\n",
    "\n",
    "print(\"bar:\", bar)"
   ]
  },
  {
   "cell_type": "code",
   "execution_count": 48,
   "id": "fe460b81",
   "metadata": {},
   "outputs": [
    {
     "name": "stdout",
     "output_type": "stream",
     "text": [
      "0 -> 5\n",
      "1 -> 10\n",
      "2 -> 12\n",
      "3 -> 0\n",
      "4 -> 17\n",
      "5 -> 22\n"
     ]
    }
   ],
   "source": [
    "foo = [5, 10, 12, 0, 17, 22]\n",
    "for x in enumerate(foo):\n",
    "    print(x[0], \"->\", x[1])"
   ]
  },
  {
   "cell_type": "code",
   "execution_count": 1,
   "id": "37f8641e",
   "metadata": {},
   "outputs": [
    {
     "name": "stdout",
     "output_type": "stream",
     "text": [
      "type(spam): <class 'zip'>\n",
      "list(spam): [(10, 'hello'), (20, 'world'), (30, 'from'), (40, 'Python')]\n"
     ]
    }
   ],
   "source": [
    "foo = [10, 20, 30, 40]\n",
    "bar = [\"hello\", \"world\", \"from\", \"Python\"]\n",
    "spam = zip(foo, bar)\n",
    "\n",
    "print(\"type(spam):\", type(spam))\n",
    "print(\"list(spam):\", list(spam))"
   ]
  },
  {
   "cell_type": "code",
   "execution_count": 53,
   "id": "19e1a18a",
   "metadata": {},
   "outputs": [
    {
     "name": "stdout",
     "output_type": "stream",
     "text": [
      "10 -> hello\n",
      "20 -> world\n",
      "30 -> from\n",
      "40 -> Python\n"
     ]
    }
   ],
   "source": [
    "foo = [10, 20, 30, 40]\n",
    "bar = [\"hello\", \"world\", \"from\", \"Python\"]\n",
    "\n",
    "for f, b in zip(foo, bar):\n",
    "    print(f, \"->\", b)"
   ]
  },
  {
   "cell_type": "code",
   "execution_count": 54,
   "id": "1cf426a7",
   "metadata": {},
   "outputs": [
    {
     "name": "stdout",
     "output_type": "stream",
     "text": [
      "10 -> hello -> 5.5\n",
      "20 -> world -> 4.2\n",
      "30 -> from -> 3.3\n",
      "40 -> Python -> 0.5\n"
     ]
    }
   ],
   "source": [
    "foo = [10, 20, 30, 40]\n",
    "bar = [\"hello\", \"world\", \"from\", \"Python\"]\n",
    "spam = [5.5, 4.2, 3.3, 0.5]\n",
    "\n",
    "for f, b, s in zip(foo, bar, spam):\n",
    "    print(f, \"->\", b, \"->\", s)"
   ]
  },
  {
   "cell_type": "code",
   "execution_count": 55,
   "id": "435d6266",
   "metadata": {},
   "outputs": [
    {
     "name": "stdout",
     "output_type": "stream",
     "text": [
      "list(zip(foo)): [(10,), (20,), (30,), (40,)]\n"
     ]
    }
   ],
   "source": [
    "foo = [10, 20, 30, 40]\n",
    "print(\"list(zip(foo)):\", list(zip(foo)))"
   ]
  }
 ],
 "metadata": {
  "kernelspec": {
   "display_name": "Python 3 (ipykernel)",
   "language": "python",
   "name": "python3"
  },
  "language_info": {
   "codemirror_mode": {
    "name": "ipython",
    "version": 3
   },
   "file_extension": ".py",
   "mimetype": "text/x-python",
   "name": "python",
   "nbconvert_exporter": "python",
   "pygments_lexer": "ipython3",
   "version": "3.12.4"
  }
 },
 "nbformat": 4,
 "nbformat_minor": 5
}
